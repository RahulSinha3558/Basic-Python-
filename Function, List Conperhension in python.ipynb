{
 "cells": [
  {
   "cell_type": "code",
   "execution_count": 1,
   "id": "79c5dcd2",
   "metadata": {},
   "outputs": [
    {
     "name": "stdout",
     "output_type": "stream",
     "text": [
      "Rahul\n",
      "Rahul\n",
      "Rahul\n",
      "Rahul\n",
      "Rahul\n",
      "Rahul\n",
      "Rahul\n",
      "Rahul\n",
      "Rahul\n"
     ]
    }
   ],
   "source": [
    "for i in range(1,10):\n",
    "    print(\"Rahul\")"
   ]
  },
  {
   "cell_type": "code",
   "execution_count": 2,
   "id": "56fb6e2c",
   "metadata": {},
   "outputs": [
    {
     "name": "stdout",
     "output_type": "stream",
     "text": [
      "Rahul Rahul Rahul Rahul Rahul Rahul Rahul Rahul Rahul "
     ]
    }
   ],
   "source": [
    "for i in range(1,10):\n",
    "    print(\"Rahul\",end=\" \")"
   ]
  },
  {
   "cell_type": "code",
   "execution_count": 2,
   "id": "36256cf6",
   "metadata": {
    "scrolled": true
   },
   "outputs": [
    {
     "name": "stdout",
     "output_type": "stream",
     "text": [
      "Rahul\n",
      "\n",
      "RahulRahul\n",
      "\n",
      "RahulRahulRahul\n",
      "\n",
      "RahulRahulRahulRahul\n",
      "\n",
      "RahulRahulRahulRahulRahul\n",
      "\n",
      "RahulRahulRahulRahulRahulRahul\n",
      "\n",
      "RahulRahulRahulRahulRahulRahulRahul\n",
      "\n",
      "RahulRahulRahulRahulRahulRahulRahulRahul\n",
      "\n",
      "RahulRahulRahulRahulRahulRahulRahulRahulRahul\n",
      "\n"
     ]
    }
   ],
   "source": [
    "for i in range(1,10):\n",
    "    for j in range(1,i+1):\n",
    "        print(\"Rahul\",end=\"\")\n",
    "    print(\"\\n\")      "
   ]
  },
  {
   "cell_type": "code",
   "execution_count": 4,
   "id": "d0f1da03",
   "metadata": {},
   "outputs": [
    {
     "name": "stdout",
     "output_type": "stream",
     "text": [
      "                Rahul\n",
      "\n",
      "              RahulRahul\n",
      "\n",
      "            RahulRahulRahul\n",
      "\n",
      "          RahulRahulRahulRahul\n",
      "\n",
      "        RahulRahulRahulRahulRahul\n",
      "\n",
      "      RahulRahulRahulRahulRahulRahul\n",
      "\n",
      "    RahulRahulRahulRahulRahulRahulRahul\n",
      "\n",
      "  RahulRahulRahulRahulRahulRahulRahulRahul\n",
      "\n",
      "RahulRahulRahulRahulRahulRahulRahulRahulRahul\n",
      "\n"
     ]
    }
   ],
   "source": [
    "for i in range(1,10):\n",
    "    for k in range(1,10-i):\n",
    "        print(\"  \",end = \"\")\n",
    "        \n",
    "    for j in range(1,i+1):\n",
    "        print(\"Rahul\",end=\"\")\n",
    "    print(\"\\n\")    \n",
    "    "
   ]
  },
  {
   "cell_type": "code",
   "execution_count": 9,
   "id": "76407ce5",
   "metadata": {},
   "outputs": [
    {
     "name": "stdout",
     "output_type": "stream",
     "text": [
      "Rahul Rahul Rahul Rahul Rahul Rahul Rahul Rahul Rahul Rahul \n",
      "\n",
      "Rahul Rahul Rahul Rahul Rahul Rahul Rahul Rahul Rahul \n",
      "\n",
      " Rahul Rahul Rahul Rahul Rahul Rahul Rahul Rahul \n",
      "\n",
      "  Rahul Rahul Rahul Rahul Rahul Rahul Rahul \n",
      "\n",
      "   Rahul Rahul Rahul Rahul Rahul Rahul \n",
      "\n",
      "    Rahul Rahul Rahul Rahul Rahul \n",
      "\n",
      "     Rahul Rahul Rahul Rahul \n",
      "\n",
      "      Rahul Rahul Rahul \n",
      "\n",
      "       Rahul Rahul \n",
      "\n",
      "        Rahul \n",
      "\n"
     ]
    }
   ],
   "source": [
    "for i in range(10,0,-1):\n",
    "    for space in range(1,10-i):\n",
    "        print(\" \",end = \"\")\n",
    "    for j in range(1,1+i):\n",
    "        print(\"Rahul\",end=\" \")\n",
    "    print(\"\\n\")     "
   ]
  },
  {
   "cell_type": "code",
   "execution_count": 5,
   "id": "e060f474",
   "metadata": {
    "scrolled": true
   },
   "outputs": [
    {
     "name": "stdout",
     "output_type": "stream",
     "text": [
      "rahul rahul rahul rahul rahul rahul rahul rahul rahul rahul \n",
      "\n",
      "rahul rahul rahul rahul rahul rahul rahul rahul rahul \n",
      "\n",
      " rahul rahul rahul rahul rahul rahul rahul rahul \n",
      "\n",
      "  rahul rahul rahul rahul rahul rahul rahul \n",
      "\n",
      "   rahul rahul rahul rahul rahul rahul \n",
      "\n",
      "    rahul rahul rahul rahul rahul \n",
      "\n",
      "     rahul rahul rahul rahul \n",
      "\n",
      "      rahul rahul rahul \n",
      "\n",
      "       rahul rahul \n",
      "\n",
      "        rahul \n",
      "\n"
     ]
    }
   ],
   "source": [
    "for i in range(10,0,-1):\n",
    "    for k in range(1,10-i):\n",
    "        print(\" \",end = \"\")\n",
    "    for j in range(1,i+1):\n",
    "        print(\"rahul\",end = \" \")\n",
    "    print(\"\\n\")    "
   ]
  },
  {
   "cell_type": "code",
   "execution_count": 6,
   "id": "c64d45ac",
   "metadata": {},
   "outputs": [
    {
     "name": "stdout",
     "output_type": "stream",
     "text": [
      "1 2 3 4 5 6 7 8 9 10 \n",
      "\n",
      "1 2 3 4 5 6 7 8 9 \n",
      "\n",
      " 1 2 3 4 5 6 7 8 \n",
      "\n",
      "  1 2 3 4 5 6 7 \n",
      "\n",
      "   1 2 3 4 5 6 \n",
      "\n",
      "    1 2 3 4 5 \n",
      "\n",
      "     1 2 3 4 \n",
      "\n",
      "      1 2 3 \n",
      "\n",
      "       1 2 \n",
      "\n",
      "        1 \n",
      "\n"
     ]
    }
   ],
   "source": [
    "for i in range(10,0,-1):\n",
    "    for k in range(1,10-i):\n",
    "        print(\" \",end = \"\")\n",
    "    for j in range(1,i+1):\n",
    "        print(j,end = \" \")\n",
    "    print(\"\\n\")   "
   ]
  },
  {
   "cell_type": "code",
   "execution_count": 2,
   "id": "8c0b11d0",
   "metadata": {},
   "outputs": [
    {
     "name": "stdout",
     "output_type": "stream",
     "text": [
      "1 2 3 4 5 6 7 8 9 10 11 12 13 14 15 16 17 18 19 20 \n",
      "\n",
      "1 2 3 4 5 6 7 8 9 10 11 12 13 14 15 16 17 18 \n",
      "\n",
      " 1 2 3 4 5 6 7 8 9 10 11 12 13 14 15 16 \n",
      "\n",
      "  1 2 3 4 5 6 7 8 9 10 11 12 13 14 \n",
      "\n",
      "   1 2 3 4 5 6 7 8 9 10 11 12 \n",
      "\n",
      "    1 2 3 4 5 6 7 8 9 10 \n",
      "\n",
      "     1 2 3 4 5 6 7 8 \n",
      "\n",
      "      1 2 3 4 5 6 \n",
      "\n",
      "       1 2 3 4 \n",
      "\n",
      "        1 2 \n",
      "\n"
     ]
    }
   ],
   "source": [
    "for i in range(10,0,-1):\n",
    "    for k in range(1,10-i):\n",
    "        print(\" \",end = \"\")\n",
    "    for j in range(1,(2*i)+1):\n",
    "        print(j,end = \" \")\n",
    "    print(\"\\n\")   "
   ]
  },
  {
   "cell_type": "code",
   "execution_count": 7,
   "id": "ebe97ffd",
   "metadata": {},
   "outputs": [
    {
     "name": "stdout",
     "output_type": "stream",
     "text": [
      "2 3 4 5 6 7 8 9 10 11 \n",
      "\n",
      "2 3 4 5 6 7 8 9 10 \n",
      "\n",
      " 2 3 4 5 6 7 8 9 \n",
      "\n",
      "  2 3 4 5 6 7 8 \n",
      "\n",
      "   2 3 4 5 6 7 \n",
      "\n",
      "    2 3 4 5 6 \n",
      "\n",
      "     2 3 4 5 \n",
      "\n",
      "      2 3 4 \n",
      "\n",
      "       2 3 \n",
      "\n",
      "        2 \n",
      "\n"
     ]
    }
   ],
   "source": [
    "for i in range(10,0,-1):\n",
    "    for k in range(1,10-i):\n",
    "        print(\" \",end = \"\")\n",
    "    for j in range(1,i+1):\n",
    "        print(j+1,end = \" \")\n",
    "    print(\"\\n\")  "
   ]
  },
  {
   "cell_type": "code",
   "execution_count": 8,
   "id": "a31e172f",
   "metadata": {},
   "outputs": [
    {
     "name": "stdout",
     "output_type": "stream",
     "text": [
      "3 4 5 6 7 8 9 10 11 12 \n",
      "\n",
      "3 4 5 6 7 8 9 10 11 \n",
      "\n",
      " 3 4 5 6 7 8 9 10 \n",
      "\n",
      "  3 4 5 6 7 8 9 \n",
      "\n",
      "   3 4 5 6 7 8 \n",
      "\n",
      "    3 4 5 6 7 \n",
      "\n",
      "     3 4 5 6 \n",
      "\n",
      "      3 4 5 \n",
      "\n",
      "       3 4 \n",
      "\n",
      "        3 \n",
      "\n"
     ]
    }
   ],
   "source": [
    "for i in range(10,0,-1):\n",
    "    for k in range(1,10-i):\n",
    "        print(\" \",end = \"\")\n",
    "    for j in range(1,i+1):\n",
    "        print(j+2,end = \" \")\n",
    "    print(\"\\n\")  "
   ]
  },
  {
   "cell_type": "code",
   "execution_count": 9,
   "id": "440b5b33",
   "metadata": {},
   "outputs": [
    {
     "name": "stdout",
     "output_type": "stream",
     "text": [
      "        0 \n",
      "\n",
      "       0 1 \n",
      "\n",
      "      0 1 2 \n",
      "\n",
      "     0 1 2 3 \n",
      "\n",
      "    0 1 2 3 4 \n",
      "\n",
      "   0 1 2 3 4 5 \n",
      "\n",
      "  0 1 2 3 4 5 6 \n",
      "\n",
      " 0 1 2 3 4 5 6 7 \n",
      "\n",
      "0 1 2 3 4 5 6 7 8 \n",
      "\n"
     ]
    }
   ],
   "source": [
    "for i in range(1,10):\n",
    "    for k in range(1,10-i):\n",
    "        print(\" \",end = \"\")\n",
    "    for j in range(1,i+1):\n",
    "        print(j-1,end = \" \")\n",
    "    print(\"\\n\")  "
   ]
  },
  {
   "cell_type": "code",
   "execution_count": 10,
   "id": "ab6d88b4",
   "metadata": {},
   "outputs": [
    {
     "name": "stdout",
     "output_type": "stream",
     "text": [
      "122112211221122112211221\n",
      "\n",
      "12211221122112211221\n",
      "\n",
      "1221122112211221\n",
      "\n",
      "122112211221\n",
      "\n",
      "12211221\n",
      "\n",
      "1221\n",
      "\n"
     ]
    }
   ],
   "source": [
    "number = 1221\n",
    "\n",
    "for i in range(6,0,-1):\n",
    "    for j in range (1,i+1):\n",
    "        print(number,end=\"\")\n",
    "    print(\"\\n\")    "
   ]
  },
  {
   "cell_type": "code",
   "execution_count": 11,
   "id": "8a3407b5",
   "metadata": {},
   "outputs": [
    {
     "name": "stdout",
     "output_type": "stream",
     "text": [
      "1221\n",
      "\n",
      "12211221\n",
      "\n",
      "122112211221\n",
      "\n",
      "1221122112211221\n",
      "\n",
      "12211221122112211221\n",
      "\n"
     ]
    }
   ],
   "source": [
    "number = 1221\n",
    "\n",
    "for i in range(1,6):\n",
    "    for j in range (1,i+1):\n",
    "        print(number,end=\"\")\n",
    "    print(\"\\n\")"
   ]
  },
  {
   "cell_type": "code",
   "execution_count": 12,
   "id": "cdf376bf",
   "metadata": {},
   "outputs": [
    {
     "name": "stdout",
     "output_type": "stream",
     "text": [
      "        1221\n",
      "\n",
      "       12211221\n",
      "\n",
      "      122112211221\n",
      "\n",
      "     1221122112211221\n",
      "\n",
      "    12211221122112211221\n",
      "\n",
      "   122112211221122112211221\n",
      "\n",
      "  1221122112211221122112211221\n",
      "\n",
      " 12211221122112211221122112211221\n",
      "\n",
      "122112211221122112211221122112211221\n",
      "\n"
     ]
    }
   ],
   "source": [
    "number = 1221\n",
    "\n",
    "for i in range(1,10):\n",
    "    for space in range(1,10-i):\n",
    "        print(\" \",end = \"\")\n",
    "    for j in range (1,i+1):\n",
    "        print(number,end=\"\")\n",
    "    print(\"\\n\")"
   ]
  },
  {
   "cell_type": "code",
   "execution_count": 13,
   "id": "651c814f",
   "metadata": {},
   "outputs": [
    {
     "name": "stdout",
     "output_type": "stream",
     "text": [
      "Enter the number 6\n",
      "        1331\n",
      "\n",
      "       13311331\n",
      "\n",
      "      133113311331\n",
      "\n",
      "     1331133113311331\n",
      "\n",
      "    13311331133113311331\n",
      "\n",
      "   133113311331133113311331\n",
      "\n",
      "  1331133113311331133113311331\n",
      "\n",
      " 13311331133113311331133113311331\n",
      "\n",
      "133113311331133113311331133113311331\n",
      "\n"
     ]
    }
   ],
   "source": [
    "rows = int(input(\"Enter the number \"))\n",
    "\n",
    "number = 1331\n",
    "\n",
    "for i in range(1,10):\n",
    "    for space in range(1,10-i):\n",
    "        print(\" \",end = \"\")\n",
    "    for j in range (1,i+1):\n",
    "        print(number,end=\"\")\n",
    "    print(\"\\n\")"
   ]
  },
  {
   "cell_type": "code",
   "execution_count": 14,
   "id": "4870bedb",
   "metadata": {},
   "outputs": [
    {
     "name": "stdout",
     "output_type": "stream",
     "text": [
      "Enter the number 9\n",
      "                1331\n",
      "\n",
      "                13311331\n",
      "\n",
      "                133113311331\n",
      "\n",
      "                1331133113311331\n",
      "\n",
      "                13311331133113311331\n",
      "\n",
      "                133113311331133113311331\n",
      "\n",
      "                1331133113311331133113311331\n",
      "\n",
      "                13311331133113311331133113311331\n",
      "\n",
      "                133113311331133113311331133113311331\n",
      "\n"
     ]
    }
   ],
   "source": [
    "rows = int(input(\"Enter the number \"))\n",
    "\n",
    "number = 1331\n",
    "\n",
    "for i in range(rows):\n",
    "    for space in range(rows-1):\n",
    "        print(\"  \",end = \"\")\n",
    "    for j in range (i+1):\n",
    "        print(number,end=\"\")\n",
    "    print(\"\\n\")"
   ]
  },
  {
   "cell_type": "code",
   "execution_count": 15,
   "id": "f035dea9",
   "metadata": {},
   "outputs": [
    {
     "name": "stdout",
     "output_type": "stream",
     "text": [
      "Enter The number4\n",
      "788788788788788788788788788\n",
      "\n",
      "788788788788788788788788\n",
      "\n",
      " 788788788788788788788\n",
      "\n",
      "  788788788788788788\n",
      "\n",
      "   788788788788788\n",
      "\n",
      "    788788788788\n",
      "\n",
      "     788788788\n",
      "\n",
      "      788788\n",
      "\n",
      "       788\n",
      "\n"
     ]
    }
   ],
   "source": [
    "row = int(input(\"Enter The number\"))\n",
    "\n",
    "for i in range(9,0,-1):\n",
    "    for space in range(1,9-i):\n",
    "        print(\" \",end = \"\")\n",
    "    for j in range(1,i+1):\n",
    "        print(\"788\",end = \"\")\n",
    "    print(\"\\n\")    "
   ]
  },
  {
   "cell_type": "markdown",
   "id": "a5284584",
   "metadata": {},
   "source": [
    "# Break"
   ]
  },
  {
   "cell_type": "code",
   "execution_count": 16,
   "id": "dcda0f82",
   "metadata": {},
   "outputs": [
    {
     "name": "stdout",
     "output_type": "stream",
     "text": [
      "1\n",
      "2\n",
      "3\n",
      "4\n"
     ]
    }
   ],
   "source": [
    "for i in range(1,8):\n",
    "    if i == 5:\n",
    "        break\n",
    "    print(i)"
   ]
  },
  {
   "cell_type": "code",
   "execution_count": 17,
   "id": "d28e27a6",
   "metadata": {},
   "outputs": [
    {
     "name": "stdout",
     "output_type": "stream",
     "text": [
      "2 * 1 = 2\n",
      "2 * 2 = 4\n",
      "2 * 3 = 6\n",
      "2 * 4 = 8\n",
      "2 * 5 = 10\n",
      "2 * 6 = 12\n",
      "2 * 7 = 14\n",
      "2 * 8 = 16\n",
      "2 * 9 = 18\n",
      "2 * 10 = 20\n"
     ]
    }
   ],
   "source": [
    "for i in range(1,11):\n",
    "    if i == 11:\n",
    "        break\n",
    "    print(2,\"*\",i,\"=\",2*i)"
   ]
  },
  {
   "cell_type": "code",
   "execution_count": 18,
   "id": "93f67660",
   "metadata": {},
   "outputs": [],
   "source": [
    "def sumtwo():\n",
    "    for i in range(1,10):\n",
    "        print(3,\"*\",i,\"=\",3*i)\n"
   ]
  },
  {
   "cell_type": "code",
   "execution_count": 19,
   "id": "250f930c",
   "metadata": {},
   "outputs": [
    {
     "name": "stdout",
     "output_type": "stream",
     "text": [
      "3 * 1 = 3\n",
      "3 * 2 = 6\n",
      "3 * 3 = 9\n",
      "3 * 4 = 12\n",
      "3 * 5 = 15\n",
      "3 * 6 = 18\n",
      "3 * 7 = 21\n",
      "3 * 8 = 24\n",
      "3 * 9 = 27\n"
     ]
    }
   ],
   "source": [
    "sumtwo()"
   ]
  },
  {
   "cell_type": "code",
   "execution_count": 20,
   "id": "65cd9759",
   "metadata": {},
   "outputs": [],
   "source": [
    "def fun1(num1,num2):\n",
    "    \n",
    "    \n",
    "    result = (num1 + num2)/2\n",
    "    \n",
    "    return  result\n"
   ]
  },
  {
   "cell_type": "code",
   "execution_count": 21,
   "id": "b0930da7",
   "metadata": {},
   "outputs": [
    {
     "name": "stdout",
     "output_type": "stream",
     "text": [
      "5.0\n",
      "\n",
      "6.5\n"
     ]
    }
   ],
   "source": [
    "s = fun1(4,6)\n",
    "print(s)\n",
    "print()\n",
    "b = fun1(4,9)\n",
    "print(b)"
   ]
  },
  {
   "cell_type": "code",
   "execution_count": 22,
   "id": "66140451",
   "metadata": {},
   "outputs": [],
   "source": [
    "def sayhello(name):\n",
    "    \n",
    "    print(\"hello\",\",\",name,\"rahul\")\n",
    "    "
   ]
  },
  {
   "cell_type": "code",
   "execution_count": 23,
   "id": "fd17fedc",
   "metadata": {
    "scrolled": true
   },
   "outputs": [
    {
     "name": "stdout",
     "output_type": "stream",
     "text": [
      "hello , good Morning rahul\n"
     ]
    }
   ],
   "source": [
    "sayhello(\"good Morning\")"
   ]
  },
  {
   "cell_type": "markdown",
   "id": "e3b7012c",
   "metadata": {},
   "source": [
    "# variable length arungment"
   ]
  },
  {
   "cell_type": "code",
   "execution_count": 24,
   "id": "96b5b013",
   "metadata": {},
   "outputs": [],
   "source": [
    "def variable(*var):\n",
    "    \n",
    "    s = 0\n",
    "    \n",
    "    for i in var:\n",
    "        s = s + i\n",
    "        print(i)\n",
    "    print(\"sum is \", \"=\", s)     "
   ]
  },
  {
   "cell_type": "code",
   "execution_count": 25,
   "id": "b4f04b74",
   "metadata": {},
   "outputs": [
    {
     "name": "stdout",
     "output_type": "stream",
     "text": [
      "2\n",
      "3\n",
      "4444\n",
      "567\n",
      "890\n",
      "sum is  = 5906\n"
     ]
    }
   ],
   "source": [
    "variable(2,3,4444,567,890)"
   ]
  },
  {
   "cell_type": "markdown",
   "id": "d651e605",
   "metadata": {},
   "source": [
    "# function chcking for even"
   ]
  },
  {
   "cell_type": "code",
   "execution_count": 26,
   "id": "91ea7b04",
   "metadata": {},
   "outputs": [
    {
     "name": "stdout",
     "output_type": "stream",
     "text": [
      "Enter The Number Is 6\n",
      "Even Number \n"
     ]
    }
   ],
   "source": [
    "def iseven(n):\n",
    "    \n",
    "    if n%2 == 0:\n",
    "        return True\n",
    "    \n",
    "    else:\n",
    "        False\n",
    "        \n",
    "        \n",
    "n = int(input(\"Enter The Number Is \")) \n",
    "\n",
    "if iseven(n):\n",
    "    print(\"Even Number \")\n",
    "else:\n",
    "    print(\"Odd Number \")"
   ]
  },
  {
   "cell_type": "code",
   "execution_count": 27,
   "id": "e6c4bef9",
   "metadata": {},
   "outputs": [
    {
     "data": {
      "text/plain": [
       "True"
      ]
     },
     "execution_count": 27,
     "metadata": {},
     "output_type": "execute_result"
    }
   ],
   "source": [
    "iseven(100)"
   ]
  },
  {
   "cell_type": "code",
   "execution_count": 28,
   "id": "e41a21f5",
   "metadata": {},
   "outputs": [
    {
     "data": {
      "text/plain": [
       "True"
      ]
     },
     "execution_count": 28,
     "metadata": {},
     "output_type": "execute_result"
    }
   ],
   "source": [
    "iseven(90)"
   ]
  },
  {
   "cell_type": "code",
   "execution_count": 29,
   "id": "aa80826e",
   "metadata": {},
   "outputs": [
    {
     "name": "stdout",
     "output_type": "stream",
     "text": [
      "Enter The Number Is = 8\n",
      "even Number\n",
      "2 4 6 8 10 12 14 16 18 20 22 24 26 28 30 32 34 36 38 40 42 44 46 48 50 52 54 56 58 60 62 64 66 68 70 72 74 76 78 80 82 84 86 88 90 92 94 96 98 100 102 104 106 108 \n",
      "\n",
      "1 3 5 7 9 11 13 15 17 19 21 23 25 27 29 31 33 35 37 39 41 43 45 47 49 51 53 55 57 59 61 63 65 67 69 71 73 75 77 79 81 83 85 87 89 91 93 95 97 99 101 103 105 107 "
     ]
    }
   ],
   "source": [
    "def isOdd(n):\n",
    "    \n",
    "    if n%2 != 0:\n",
    "        return True\n",
    "    else:\n",
    "        return False\n",
    "    \n",
    "n = int(input(\"Enter The Number Is = \")) \n",
    "\n",
    "if isOdd(n):\n",
    "    print(\"odd Number \")\n",
    "else:\n",
    "    print(\"even Number\")\n",
    "    \n",
    "    \n",
    "    \n",
    "for i in range(1,109):\n",
    "    if iseven(i):\n",
    "        print(i,end= \" \")\n",
    "        \n",
    "        \n",
    "print()\n",
    "print()\n",
    "        \n",
    "        \n",
    "for j in range(1,108):\n",
    "    \n",
    "    if isOdd(j):\n",
    "        print(j,end = \" \")\n",
    "    "
   ]
  },
  {
   "cell_type": "code",
   "execution_count": 74,
   "id": "843725c5",
   "metadata": {
    "scrolled": false
   },
   "outputs": [
    {
     "name": "stdout",
     "output_type": "stream",
     "text": [
      "Enter The Number is 6\n",
      "even\n",
      "even\n",
      "2 4 6 8 10 12 14 16 18 20 22 24 26 28 30 32 34 36 38 40 42 44 46 48 50 52 54 56 58 60 62 64 66 68 70 72 74 76 78 80 82 84 86 88 90 92 94 96 98 \n",
      "\n",
      "1 3 5 7 9 11 13 15 17 19 21 23 25 27 29 31 33 35 37 39 41 43 45 47 49 51 53 55 57 59 61 63 65 67 69 71 73 75 77 79 81 83 85 87 89 91 93 95 97 99 101 103 105 107 109 111 113 115 117 119 121 123 125 127 129 131 133 135 137 139 141 143 145 147 149 151 153 155 157 159 161 163 165 167 169 171 173 175 177 179 181 183 185 187 189 191 193 195 197 199 "
     ]
    }
   ],
   "source": [
    "def iseven(n):\n",
    "    \n",
    "    if n%2==0:\n",
    "        return True\n",
    "    else:\n",
    "        return False\n",
    "    \n",
    "def isodd(n):\n",
    "    if n%2 != 0:\n",
    "        return True\n",
    "    else:\n",
    "        False\n",
    "    \n",
    "num = int(input(\"Enter The Number is \"))\n",
    "\n",
    "if iseven(n):\n",
    "    print(\"even\")\n",
    "else:\n",
    "    print(\"odd\")\n",
    "    \n",
    "if isodd(n):\n",
    "    print(\"Odd\")\n",
    "else:\n",
    "    print(\"even\")\n",
    "    \n",
    "    \n",
    "    \n",
    "    \n",
    "    \n",
    "for i in range(1,100):\n",
    "    if iseven(i):\n",
    "        print(i,end= \" \")\n",
    "        \n",
    "print()\n",
    "print()\n",
    "\n",
    "for j in range(1,200):\n",
    "    if isodd(j):\n",
    "        print(j,end=\" \")"
   ]
  },
  {
   "cell_type": "code",
   "execution_count": 37,
   "id": "95da0c14",
   "metadata": {},
   "outputs": [],
   "source": [
    "def last(**kids):\n",
    "    print(\"My Name Is \",kids[\"lname\"])"
   ]
  },
  {
   "cell_type": "code",
   "execution_count": 40,
   "id": "8e4e3ca4",
   "metadata": {},
   "outputs": [
    {
     "name": "stdout",
     "output_type": "stream",
     "text": [
      "My Name Is  Sinha\n"
     ]
    }
   ],
   "source": [
    "last(\"Sinha\", \"Rahul\")"
   ]
  },
  {
   "cell_type": "code",
   "execution_count": 41,
   "id": "be076cff",
   "metadata": {},
   "outputs": [],
   "source": [
    "def last(*kids):\n",
    "    print(\"My Name Is \",kids[0])"
   ]
  },
  {
   "cell_type": "code",
   "execution_count": 44,
   "id": "bcc46997",
   "metadata": {},
   "outputs": [
    {
     "name": "stdout",
     "output_type": "stream",
     "text": [
      "My Name Is  Sinha\n"
     ]
    }
   ],
   "source": [
    "last(\"Sinha\")"
   ]
  },
  {
   "cell_type": "markdown",
   "id": "740833bf",
   "metadata": {},
   "source": [
    "# List Conperhension"
   ]
  },
  {
   "cell_type": "code",
   "execution_count": 71,
   "id": "a87bd4fc",
   "metadata": {},
   "outputs": [],
   "source": [
    "list = []\n",
    "\n",
    "for i in range(1,100):\n",
    "    if i%2 != 0:\n",
    "        list.append(i**2 )  "
   ]
  },
  {
   "cell_type": "code",
   "execution_count": 72,
   "id": "21e5aec7",
   "metadata": {},
   "outputs": [
    {
     "name": "stdout",
     "output_type": "stream",
     "text": [
      "[1, 9, 25, 49, 81, 121, 169, 225, 289, 361, 441, 529, 625, 729, 841, 961, 1089, 1225, 1369, 1521, 1681, 1849, 2025, 2209, 2401, 2601, 2809, 3025, 3249, 3481, 3721, 3969, 4225, 4489, 4761, 5041, 5329, 5625, 5929, 6241, 6561, 6889, 7225, 7569, 7921, 8281, 8649, 9025, 9409, 9801] "
     ]
    }
   ],
   "source": [
    "Y = list\n",
    "print(Y,end= \" \")"
   ]
  },
  {
   "cell_type": "code",
   "execution_count": 73,
   "id": "d608a69d",
   "metadata": {},
   "outputs": [
    {
     "data": {
      "text/plain": [
       "[1,\n",
       " 0,\n",
       " 1,\n",
       " 0,\n",
       " 1,\n",
       " 0,\n",
       " 1,\n",
       " 0,\n",
       " 1,\n",
       " 0,\n",
       " 1,\n",
       " 0,\n",
       " 1,\n",
       " 0,\n",
       " 1,\n",
       " 0,\n",
       " 1,\n",
       " 0,\n",
       " 1,\n",
       " 0,\n",
       " 1,\n",
       " 0,\n",
       " 1,\n",
       " 0,\n",
       " 1,\n",
       " 0,\n",
       " 1,\n",
       " 0,\n",
       " 1,\n",
       " 0,\n",
       " 1,\n",
       " 0,\n",
       " 1,\n",
       " 0,\n",
       " 1,\n",
       " 0,\n",
       " 1,\n",
       " 0,\n",
       " 1,\n",
       " 0,\n",
       " 1,\n",
       " 0,\n",
       " 1,\n",
       " 0,\n",
       " 1,\n",
       " 0,\n",
       " 1,\n",
       " 0,\n",
       " 1,\n",
       " 0,\n",
       " 1,\n",
       " 0,\n",
       " 1,\n",
       " 0,\n",
       " 1,\n",
       " 0,\n",
       " 1,\n",
       " 0,\n",
       " 1,\n",
       " 0,\n",
       " 1,\n",
       " 0,\n",
       " 1,\n",
       " 0,\n",
       " 1,\n",
       " 0,\n",
       " 1,\n",
       " 0,\n",
       " 1,\n",
       " 0,\n",
       " 1,\n",
       " 0,\n",
       " 1,\n",
       " 0,\n",
       " 1,\n",
       " 0,\n",
       " 1,\n",
       " 0,\n",
       " 1,\n",
       " 0,\n",
       " 1,\n",
       " 0,\n",
       " 1,\n",
       " 0,\n",
       " 1,\n",
       " 0,\n",
       " 1,\n",
       " 0,\n",
       " 1,\n",
       " 0,\n",
       " 1,\n",
       " 0,\n",
       " 1,\n",
       " 0,\n",
       " 1,\n",
       " 0,\n",
       " 1,\n",
       " 0,\n",
       " 1]"
      ]
     },
     "execution_count": 73,
     "metadata": {},
     "output_type": "execute_result"
    }
   ],
   "source": [
    "[Y %2 for Y in range(1,100)]"
   ]
  },
  {
   "cell_type": "code",
   "execution_count": 100,
   "id": "5a634fe8",
   "metadata": {},
   "outputs": [],
   "source": [
    "list1 = [\"Banana\",\"Grapes\",\"Apple\",\"Red\"]\n",
    "\n",
    "list = []\n",
    "\n",
    "for i in list1:\n",
    "    if list1 != \"Red\":\n",
    "        list.append(i)"
   ]
  },
  {
   "cell_type": "code",
   "execution_count": 101,
   "id": "1dd0a7a3",
   "metadata": {},
   "outputs": [
    {
     "data": {
      "text/plain": [
       "['Banana', 'Grapes', 'Apple', 'Red']"
      ]
     },
     "execution_count": 101,
     "metadata": {},
     "output_type": "execute_result"
    }
   ],
   "source": [
    "list"
   ]
  },
  {
   "cell_type": "code",
   "execution_count": 92,
   "id": "44cb0d9e",
   "metadata": {},
   "outputs": [],
   "source": [
    "list2 = [2,3,5,7,8,10,12]\n",
    "\n",
    "list3 = []\n",
    "\n",
    "for i in list2:\n",
    "    if i%2 == 0:\n",
    "        list3.append(i*2)"
   ]
  },
  {
   "cell_type": "code",
   "execution_count": 93,
   "id": "89ad1ced",
   "metadata": {},
   "outputs": [
    {
     "data": {
      "text/plain": [
       "[4, 16, 20, 24]"
      ]
     },
     "execution_count": 93,
     "metadata": {},
     "output_type": "execute_result"
    }
   ],
   "source": [
    "list3"
   ]
  },
  {
   "cell_type": "code",
   "execution_count": 97,
   "id": "9214cd87",
   "metadata": {},
   "outputs": [],
   "source": [
    "list3 = [x*x*x for x in list2 if x%2 == 0]"
   ]
  },
  {
   "cell_type": "code",
   "execution_count": 98,
   "id": "25a32dd5",
   "metadata": {},
   "outputs": [
    {
     "data": {
      "text/plain": [
       "[8, 512, 1000, 1728]"
      ]
     },
     "execution_count": 98,
     "metadata": {},
     "output_type": "execute_result"
    }
   ],
   "source": [
    "list3"
   ]
  },
  {
   "cell_type": "code",
   "execution_count": 102,
   "id": "5d8a38c7",
   "metadata": {},
   "outputs": [],
   "source": [
    "list = []\n",
    "\n",
    "for i in range(1,50):\n",
    "    if i%3 == 0:\n",
    "        list.append(i*3)"
   ]
  },
  {
   "cell_type": "code",
   "execution_count": 103,
   "id": "34b23dfd",
   "metadata": {},
   "outputs": [
    {
     "data": {
      "text/plain": [
       "[9, 18, 27, 36, 45, 54, 63, 72, 81, 90, 99, 108, 117, 126, 135, 144]"
      ]
     },
     "execution_count": 103,
     "metadata": {},
     "output_type": "execute_result"
    }
   ],
   "source": [
    "list"
   ]
  },
  {
   "cell_type": "code",
   "execution_count": 112,
   "id": "1d6aa6c3",
   "metadata": {},
   "outputs": [],
   "source": [
    "list = [x*x*x for x in range(1,50) if (i%3==0)]"
   ]
  },
  {
   "cell_type": "code",
   "execution_count": 114,
   "id": "6f6b62e3",
   "metadata": {},
   "outputs": [
    {
     "data": {
      "text/plain": [
       "[]"
      ]
     },
     "execution_count": 114,
     "metadata": {},
     "output_type": "execute_result"
    }
   ],
   "source": [
    "list"
   ]
  },
  {
   "cell_type": "code",
   "execution_count": 119,
   "id": "e2b0cc21",
   "metadata": {},
   "outputs": [],
   "source": [
    "list4 = [2,5,8,4]\n",
    "list5 = [\"A\",\"B\",\"C\",\"D\"]\n",
    "list6 = []"
   ]
  },
  {
   "cell_type": "code",
   "execution_count": 120,
   "id": "76f005bd",
   "metadata": {},
   "outputs": [],
   "source": [
    "for num in list4:\n",
    "    for letter in list5:\n",
    "        list6.append((num,letter))     "
   ]
  },
  {
   "cell_type": "code",
   "execution_count": 121,
   "id": "6eca0936",
   "metadata": {},
   "outputs": [
    {
     "data": {
      "text/plain": [
       "[(2, 'A'),\n",
       " (2, 'B'),\n",
       " (2, 'C'),\n",
       " (2, 'D'),\n",
       " (5, 'A'),\n",
       " (5, 'B'),\n",
       " (5, 'C'),\n",
       " (5, 'D'),\n",
       " (8, 'A'),\n",
       " (8, 'B'),\n",
       " (8, 'C'),\n",
       " (8, 'D'),\n",
       " (4, 'A'),\n",
       " (4, 'B'),\n",
       " (4, 'C'),\n",
       " (4, 'D')]"
      ]
     },
     "execution_count": 121,
     "metadata": {},
     "output_type": "execute_result"
    }
   ],
   "source": [
    "list6"
   ]
  },
  {
   "cell_type": "code",
   "execution_count": 122,
   "id": "6cab1fc5",
   "metadata": {},
   "outputs": [],
   "source": [
    "list7 = [(num,letter) for num in list4 for letter in list5]"
   ]
  },
  {
   "cell_type": "code",
   "execution_count": 123,
   "id": "be2feb01",
   "metadata": {},
   "outputs": [
    {
     "data": {
      "text/plain": [
       "[(2, 'A'),\n",
       " (2, 'B'),\n",
       " (2, 'C'),\n",
       " (2, 'D'),\n",
       " (5, 'A'),\n",
       " (5, 'B'),\n",
       " (5, 'C'),\n",
       " (5, 'D'),\n",
       " (8, 'A'),\n",
       " (8, 'B'),\n",
       " (8, 'C'),\n",
       " (8, 'D'),\n",
       " (4, 'A'),\n",
       " (4, 'B'),\n",
       " (4, 'C'),\n",
       " (4, 'D')]"
      ]
     },
     "execution_count": 123,
     "metadata": {},
     "output_type": "execute_result"
    }
   ],
   "source": [
    "list7"
   ]
  },
  {
   "cell_type": "code",
   "execution_count": 126,
   "id": "b4f2acc2",
   "metadata": {},
   "outputs": [],
   "source": [
    "list8 = []\n",
    "\n",
    "def sqr(n):\n",
    "    for i in n:\n",
    "        list8.append(i*i)\n",
    "    return n    "
   ]
  },
  {
   "cell_type": "code",
   "execution_count": 127,
   "id": "2e2a57f3",
   "metadata": {},
   "outputs": [
    {
     "data": {
      "text/plain": [
       "[2, 3, 5, 6, 8]"
      ]
     },
     "execution_count": 127,
     "metadata": {},
     "output_type": "execute_result"
    }
   ],
   "source": [
    "sqr([2,3,5,6,8])"
   ]
  },
  {
   "cell_type": "code",
   "execution_count": 128,
   "id": "4ebf816e",
   "metadata": {},
   "outputs": [
    {
     "data": {
      "text/plain": [
       "[4, 9, 25, 36, 64]"
      ]
     },
     "execution_count": 128,
     "metadata": {},
     "output_type": "execute_result"
    }
   ],
   "source": [
    "list8"
   ]
  },
  {
   "cell_type": "code",
   "execution_count": 129,
   "id": "b9312579",
   "metadata": {},
   "outputs": [],
   "source": [
    "list9 = [1,2,4,6,7,8]\n",
    "\n",
    "list10 = [i*i*i for i in list9]"
   ]
  },
  {
   "cell_type": "code",
   "execution_count": 130,
   "id": "74654342",
   "metadata": {},
   "outputs": [
    {
     "data": {
      "text/plain": [
       "[1, 8, 64, 216, 343, 512]"
      ]
     },
     "execution_count": 130,
     "metadata": {},
     "output_type": "execute_result"
    }
   ],
   "source": [
    "list10"
   ]
  },
  {
   "cell_type": "code",
   "execution_count": 133,
   "id": "8cc7fb30",
   "metadata": {},
   "outputs": [],
   "source": [
    "list11 = [2,4,6,7,8,9]\n",
    "\n",
    "list12 = [i*i*i for i in list11 if i%3 == 0]"
   ]
  },
  {
   "cell_type": "code",
   "execution_count": 134,
   "id": "84a12b07",
   "metadata": {},
   "outputs": [
    {
     "data": {
      "text/plain": [
       "[216, 729]"
      ]
     },
     "execution_count": 134,
     "metadata": {},
     "output_type": "execute_result"
    }
   ],
   "source": [
    "list12"
   ]
  },
  {
   "cell_type": "code",
   "execution_count": 137,
   "id": "c627b309",
   "metadata": {},
   "outputs": [],
   "source": [
    "list13 = [x+1 for x in range(12) if x%2==0]"
   ]
  },
  {
   "cell_type": "code",
   "execution_count": 138,
   "id": "ddef5158",
   "metadata": {},
   "outputs": [
    {
     "data": {
      "text/plain": [
       "[1, 3, 5, 7, 9, 11]"
      ]
     },
     "execution_count": 138,
     "metadata": {},
     "output_type": "execute_result"
    }
   ],
   "source": [
    "list13"
   ]
  },
  {
   "cell_type": "code",
   "execution_count": 165,
   "id": "0cba7af1",
   "metadata": {},
   "outputs": [
    {
     "name": "stdout",
     "output_type": "stream",
     "text": [
      "[2, 3, 4, 5, 6, 7, 8, 9, 10, 11, 12, 13, 14, 15, 16, 17, 18, 19, 20, 21, 22, 23, 24, 25, 26, 27, 28, 29]\n",
      "\n",
      "[2, 4, 6, 8, 10, 12, 14, 16, 18, 20, 22, 24, 26, 28]\n",
      "\n",
      "[3, 5, 7, 9, 11, 13, 15, 17, 19, 21, 23, 25, 27, 29]\n",
      "\n",
      "[10, 11, 12, 13, 14, 15, 16, 17, 18, 19, 20, 21, 22, 23, 24, 25, 26, 27, 28, 29]\n",
      "\n",
      "[2, 3, 4, 5, 6, 7, 8, 9, 10]\n",
      "\n",
      "[(2, 4, 8), (3, 6, 27), (4, 8, 64), (5, 10, 125), (6, 12, 216), (7, 14, 343), (8, 16, 512), (9, 18, 729), (10, 20, 1000), (11, 22, 1331), (12, 24, 1728), (13, 26, 2197), (14, 28, 2744), (15, 30, 3375), (16, 32, 4096), (17, 34, 4913), (18, 36, 5832), (19, 38, 6859), (20, 40, 8000), (21, 42, 9261), (22, 44, 10648), (23, 46, 12167), (24, 48, 13824), (25, 50, 15625), (26, 52, 17576), (27, 54, 19683), (28, 56, 21952), (29, 58, 24389)]\n"
     ]
    }
   ],
   "source": [
    "list12 = [j for j in range(2,30)]\n",
    "print(list12)\n",
    "print()\n",
    "list13 = [i for i in list12 if i%2==0]\n",
    "print(list13)\n",
    "print()\n",
    "list14 = [k for k in list12 if k%2 != 0]\n",
    "print(list14)\n",
    "print()\n",
    "list15 = [l for l in list12 if l >= 10]\n",
    "print(list15)\n",
    "print()\n",
    "list16 = [m for m in list12 if m <= 10]\n",
    "print(list16)\n",
    "print()\n",
    "list17 = [(n,n*2,n*n*n) for n in list12 ]\n",
    "print(list17)"
   ]
  },
  {
   "cell_type": "code",
   "execution_count": 220,
   "id": "f13338d9",
   "metadata": {},
   "outputs": [],
   "source": [
    "list18 = [(i*j) for i in range(1,8) for j in range(2,7)]"
   ]
  },
  {
   "cell_type": "code",
   "execution_count": 222,
   "id": "0bd00379",
   "metadata": {},
   "outputs": [
    {
     "name": "stdout",
     "output_type": "stream",
     "text": [
      "[2, 3, 4, 5, 6, 4, 6, 8, 10, 12, 6, 9, 12, 15, 18, 8, 12, 16, 20, 24, 10, 15, 20, 25, 30, 12, 18, 24, 30, 36, 14, 21, 28, 35, 42]\n"
     ]
    }
   ],
   "source": [
    "print(list18)"
   ]
  },
  {
   "cell_type": "code",
   "execution_count": 182,
   "id": "d9c2c204",
   "metadata": {},
   "outputs": [],
   "source": [
    "list = [[2,3,4],[1,5,6],[7,8,9]]\n",
    "\n",
    "Flattenlist = []"
   ]
  },
  {
   "cell_type": "code",
   "execution_count": 183,
   "id": "8ac48885",
   "metadata": {},
   "outputs": [],
   "source": [
    "for pair in list:\n",
    "    for ele in pair:\n",
    "        Flattenlist.append(ele)    "
   ]
  },
  {
   "cell_type": "code",
   "execution_count": 184,
   "id": "2cc06107",
   "metadata": {},
   "outputs": [
    {
     "data": {
      "text/plain": [
       "[2, 3, 4, 1, 5, 6, 7, 8, 9]"
      ]
     },
     "execution_count": 184,
     "metadata": {},
     "output_type": "execute_result"
    }
   ],
   "source": [
    "Flattenlist"
   ]
  },
  {
   "cell_type": "code",
   "execution_count": 179,
   "id": "78854168",
   "metadata": {},
   "outputs": [],
   "source": [
    "list19 = [ele for pair in list for ele in pair]"
   ]
  },
  {
   "cell_type": "code",
   "execution_count": 180,
   "id": "0328d1e6",
   "metadata": {},
   "outputs": [
    {
     "data": {
      "text/plain": [
       "[2, 3, 4, 1, 5, 6, 7, 8, 9]"
      ]
     },
     "execution_count": 180,
     "metadata": {},
     "output_type": "execute_result"
    }
   ],
   "source": [
    "list19"
   ]
  },
  {
   "cell_type": "code",
   "execution_count": 188,
   "id": "61412cfc",
   "metadata": {},
   "outputs": [],
   "source": [
    "list21 = [(x,y) for x in letter for y in letter if x!=y]"
   ]
  },
  {
   "cell_type": "code",
   "execution_count": 190,
   "id": "2e7e0125",
   "metadata": {},
   "outputs": [
    {
     "name": "stdout",
     "output_type": "stream",
     "text": [
      "[('A', 'B'), ('A', 'C'), ('A', 'D'), ('A', 'E'), ('A', 'F'), ('B', 'A'), ('B', 'C'), ('B', 'D'), ('B', 'E'), ('B', 'F'), ('C', 'A'), ('C', 'B'), ('C', 'D'), ('C', 'E'), ('C', 'F'), ('D', 'A'), ('D', 'B'), ('D', 'C'), ('D', 'E'), ('D', 'F'), ('E', 'A'), ('E', 'B'), ('E', 'C'), ('E', 'D'), ('E', 'F'), ('F', 'A'), ('F', 'B'), ('F', 'C'), ('F', 'D'), ('F', 'E')]\n"
     ]
    }
   ],
   "source": [
    "print(list21)"
   ]
  },
  {
   "cell_type": "code",
   "execution_count": 11,
   "id": "14d087bb",
   "metadata": {},
   "outputs": [],
   "source": [
    "V = \"\"\"American Airlines is a major US-based airline headquartered in Fort Worth,\\\n",
    "Texas, within the Dallas–Fort Worth metroplex.\\\n",
    "It is the largest airline in the world when measured by fleet size,\\\n",
    "scheduled passengers carried,\\\n",
    "and revenue passenger mile.\"\"\""
   ]
  },
  {
   "cell_type": "code",
   "execution_count": 12,
   "id": "f8b7301c",
   "metadata": {},
   "outputs": [
    {
     "name": "stdout",
     "output_type": "stream",
     "text": [
      "['A', 'm', 'e', 'r', 'i', 'c', 'a', 'n', ' ', 'A', 'i', 'r', 'l', 'i', 'n', 'e', 's', ' ', 'i', 's', ' ', 'a', ' ', 'm', 'a', 'j', 'o', 'r', ' ', 'U', 'S', '-', 'b', 'a', 's', 'e', 'd', ' ', 'a', 'i', 'r', 'l', 'i', 'n', 'e', ' ', 'h', 'e', 'a', 'd', 'q', 'u', 'a', 'r', 't', 'e', 'r', 'e', 'd', ' ', 'i', 'n', ' ', 'F', 'o', 'r', 't', ' ', 'W', 'o', 'r', 't', 'h', ',', 'T', 'e', 'x', 'a', 's', ',', ' ', 'w', 'i', 't', 'h', 'i', 'n', ' ', 't', 'h', 'e', ' ', 'D', 'a', 'l', 'l', 'a', 's', '–', 'F', 'o', 'r', 't', ' ', 'W', 'o', 'r', 't', 'h', ' ', 'm', 'e', 't', 'r', 'o', 'p', 'l', 'e', 'x', '.', 'I', 't', ' ', 'i', 's', ' ', 't', 'h', 'e', ' ', 'l', 'a', 'r', 'g', 'e', 's', 't', ' ', 'a', 'i', 'r', 'l', 'i', 'n', 'e', ' ', 'i', 'n', ' ', 't', 'h', 'e', ' ', 'w', 'o', 'r', 'l', 'd', ' ', 'w', 'h', 'e', 'n', ' ', 'm', 'e', 'a', 's', 'u', 'r', 'e', 'd', ' ', 'b', 'y', ' ', 'f', 'l', 'e', 'e', 't', ' ', 's', 'i', 'z', 'e', ',', 's', 'c', 'h', 'e', 'd', 'u', 'l', 'e', 'd', ' ', 'p', 'a', 's', 's', 'e', 'n', 'g', 'e', 'r', 's', ' ', 'c', 'a', 'r', 'r', 'i', 'e', 'd', ',', 'a', 'n', 'd', ' ', 'r', 'e', 'v', 'e', 'n', 'u', 'e', ' ', 'p', 'a', 's', 's', 'e', 'n', 'g', 'e', 'r', ' ', 'm', 'i', 'l', 'e', '.']\n"
     ]
    }
   ],
   "source": [
    "print([word for word in V])"
   ]
  },
  {
   "cell_type": "code",
   "execution_count": 13,
   "id": "67abf33e",
   "metadata": {},
   "outputs": [
    {
     "name": "stdout",
     "output_type": "stream",
     "text": [
      "['American', 'Airlines', 'is', 'a', 'major', 'US-based', 'airline', 'headquartered', 'in', 'Fort', 'Worth,Texas,', 'within', 'the', 'Dallas–Fort', 'Worth', 'metroplex.It', 'is', 'the', 'largest', 'airline', 'in', 'the', 'world', 'when', 'measured', 'by', 'fleet', 'size,scheduled', 'passengers', 'carried,and', 'revenue', 'passenger', 'mile.']\n"
     ]
    }
   ],
   "source": [
    "print([word for word in V.split()])"
   ]
  },
  {
   "cell_type": "code",
   "execution_count": 14,
   "id": "d6995a4c",
   "metadata": {},
   "outputs": [
    {
     "name": "stdout",
     "output_type": "stream",
     "text": [
      "['American', 'Airlines', 'US-based', 'airline', 'headquartered', 'Worth,Texas,', 'within', 'Dallas–Fort', 'metroplex.It', 'largest', 'airline', 'measured', 'size,scheduled', 'passengers', 'carried,and', 'revenue', 'passenger']\n"
     ]
    }
   ],
   "source": [
    "print([word for word in V.split() if len(word)>=6])"
   ]
  },
  {
   "cell_type": "code",
   "execution_count": 16,
   "id": "994f6fe3",
   "metadata": {
    "scrolled": true
   },
   "outputs": [
    {
     "name": "stdout",
     "output_type": "stream",
     "text": [
      "American Airlines US-based airline headquartered Worth,Texas, Dallas–Fort metroplex.It largest airline measured size,scheduled passengers carried,and revenue passenger "
     ]
    }
   ],
   "source": [
    "for i in V.split():\n",
    "    if len(i) >6:\n",
    "        print(i,end = \" \")"
   ]
  },
  {
   "cell_type": "code",
   "execution_count": 212,
   "id": "58ddd86a",
   "metadata": {},
   "outputs": [
    {
     "name": "stdout",
     "output_type": "stream",
     "text": [
      "1  2  3  5  7  11  13  17  19  23  29  31  37  "
     ]
    }
   ],
   "source": [
    "for i in range(1,40):\n",
    "    for j in range(2,i):\n",
    "        if i%j == 0:\n",
    "            break\n",
    "    else:\n",
    "        print(i,end = \"  \")"
   ]
  },
  {
   "cell_type": "code",
   "execution_count": 17,
   "id": "fc201526",
   "metadata": {},
   "outputs": [
    {
     "name": "stdout",
     "output_type": "stream",
     "text": [
      "1  2  "
     ]
    }
   ],
   "source": [
    "for i in range(1,40):\n",
    "    for j in range(2,i):\n",
    "        if i%j != 0:\n",
    "            break\n",
    "    else:\n",
    "        print(i,end = \"  \")"
   ]
  },
  {
   "cell_type": "code",
   "execution_count": 18,
   "id": "3d325f8a",
   "metadata": {},
   "outputs": [
    {
     "name": "stdout",
     "output_type": "stream",
     "text": [
      "1  2  3  5  7  11  13  17  19  23  29  31  37  "
     ]
    }
   ],
   "source": [
    "for i in range(1,40):\n",
    "    for j in range(2,i):\n",
    "        if i%j == 0:\n",
    "            break\n",
    "    else:\n",
    "        print(i,end = \"  \")"
   ]
  },
  {
   "cell_type": "code",
   "execution_count": 19,
   "id": "093dc909",
   "metadata": {},
   "outputs": [
    {
     "name": "stdout",
     "output_type": "stream",
     "text": [
      "2 * 1 = 2\n",
      "2 * 2 = 4\n",
      "2 * 3 = 6\n",
      "2 * 4 = 8\n",
      "2 * 5 = 10\n",
      "2 * 6 = 12\n",
      "2 * 7 = 14\n",
      "2 * 8 = 16\n",
      "2 * 9 = 18\n",
      "2 * 10 = 20\n"
     ]
    }
   ],
   "source": [
    "for i in range(1,11):\n",
    "    print(2,\"*\",i,\"=\",2*i)"
   ]
  },
  {
   "cell_type": "code",
   "execution_count": 235,
   "id": "2edd5f28",
   "metadata": {},
   "outputs": [],
   "source": [
    "list22 = [(2,\"*\",i,\"=\",2*i) for i in range(1,11)]"
   ]
  },
  {
   "cell_type": "code",
   "execution_count": 236,
   "id": "df628499",
   "metadata": {},
   "outputs": [
    {
     "data": {
      "text/plain": [
       "[(2, '*', 1, '=', 2),\n",
       " (2, '*', 2, '=', 4),\n",
       " (2, '*', 3, '=', 6),\n",
       " (2, '*', 4, '=', 8),\n",
       " (2, '*', 5, '=', 10),\n",
       " (2, '*', 6, '=', 12),\n",
       " (2, '*', 7, '=', 14),\n",
       " (2, '*', 8, '=', 16),\n",
       " (2, '*', 9, '=', 18),\n",
       " (2, '*', 10, '=', 20)]"
      ]
     },
     "execution_count": 236,
     "metadata": {},
     "output_type": "execute_result"
    }
   ],
   "source": [
    "list22"
   ]
  },
  {
   "cell_type": "code",
   "execution_count": 238,
   "id": "c3b6d0f5",
   "metadata": {},
   "outputs": [
    {
     "name": "stdout",
     "output_type": "stream",
     "text": [
      "890 \n",
      "\n",
      "890 890 \n",
      "\n",
      "890 890 890 \n",
      "\n",
      "890 890 890 890 \n",
      "\n",
      "890 890 890 890 890 \n",
      "\n",
      "890 890 890 890 890 890 \n",
      "\n",
      "890 890 890 890 890 890 890 \n",
      "\n"
     ]
    }
   ],
   "source": [
    "for i in range(1,8):\n",
    "    for j in range(1,i+1):\n",
    "        print(890,end = \" \")\n",
    "    print(\"\\n\")    "
   ]
  },
  {
   "cell_type": "code",
   "execution_count": 244,
   "id": "601cef1c",
   "metadata": {},
   "outputs": [
    {
     "name": "stdout",
     "output_type": "stream",
     "text": [
      "            890 \n",
      "\n",
      "          890 890 \n",
      "\n",
      "        890 890 890 \n",
      "\n",
      "      890 890 890 890 \n",
      "\n",
      "    890 890 890 890 890 \n",
      "\n",
      "  890 890 890 890 890 890 \n",
      "\n",
      "890 890 890 890 890 890 890 \n",
      "\n"
     ]
    }
   ],
   "source": [
    "for i in range(1,8):\n",
    "    for k in range(1,8-i):\n",
    "        print(\"  \",end = \"\")\n",
    "    for j in range(1,i+1):\n",
    "        print(890,end = \" \")\n",
    "    print(\"\\n\")  "
   ]
  }
 ],
 "metadata": {
  "kernelspec": {
   "display_name": "Python 3 (ipykernel)",
   "language": "python",
   "name": "python3"
  },
  "language_info": {
   "codemirror_mode": {
    "name": "ipython",
    "version": 3
   },
   "file_extension": ".py",
   "mimetype": "text/x-python",
   "name": "python",
   "nbconvert_exporter": "python",
   "pygments_lexer": "ipython3",
   "version": "3.9.12"
  }
 },
 "nbformat": 4,
 "nbformat_minor": 5
}
