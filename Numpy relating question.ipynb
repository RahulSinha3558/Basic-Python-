{
 "cells": [
  {
   "cell_type": "code",
   "execution_count": 56,
   "id": "44691670",
   "metadata": {},
   "outputs": [],
   "source": [
    "import numpy as np"
   ]
  },
  {
   "cell_type": "markdown",
   "id": "b722bbdf",
   "metadata": {},
   "source": [
    "# Create an array of 10 zeros"
   ]
  },
  {
   "cell_type": "code",
   "execution_count": 2,
   "id": "7046043d",
   "metadata": {},
   "outputs": [
    {
     "name": "stdout",
     "output_type": "stream",
     "text": [
      "[0. 0. 0. 0. 0. 0. 0. 0. 0. 0.]\n",
      "\n",
      "[0 0 0 0 0 0 0 0 0 0]\n"
     ]
    }
   ],
   "source": [
    "varr1 = np.zeros(10)\n",
    "print(varr1)\n",
    "print()\n",
    "\n",
    "varr2 = np.zeros(10,dtype = \"i\")\n",
    "print(varr2)"
   ]
  },
  {
   "cell_type": "markdown",
   "id": "369888a8",
   "metadata": {},
   "source": [
    "# create an array 10 ones"
   ]
  },
  {
   "cell_type": "code",
   "execution_count": 3,
   "id": "e350f48b",
   "metadata": {},
   "outputs": [
    {
     "name": "stdout",
     "output_type": "stream",
     "text": [
      "[1. 1. 1. 1. 1. 1. 1. 1. 1. 1.]\n",
      "\n",
      "[1 1 1 1 1 1 1 1 1 1]\n"
     ]
    }
   ],
   "source": [
    "varr3 = np.ones(10)\n",
    "print(varr3)\n",
    "print()\n",
    "varr4 = np.ones(10,dtype = \"i\")\n",
    "print(varr4)"
   ]
  },
  {
   "cell_type": "markdown",
   "id": "92e687eb",
   "metadata": {},
   "source": [
    "# create an array 10 fives"
   ]
  },
  {
   "cell_type": "code",
   "execution_count": 4,
   "id": "364f2c89",
   "metadata": {},
   "outputs": [
    {
     "name": "stdout",
     "output_type": "stream",
     "text": [
      "[1 1 1 1 1 1 1 1 1 1]\n",
      "\n",
      "[5 5 5 5 5 5 5 5 5 5]\n"
     ]
    }
   ],
   "source": [
    "varr5 = np.ones(10,dtype = \"i\")\n",
    "print(varr5)\n",
    "print()\n",
    "varr6 = 5*varr5\n",
    "print(varr6)"
   ]
  },
  {
   "cell_type": "markdown",
   "id": "971d88c2",
   "metadata": {},
   "source": [
    "# create an array 10 seven"
   ]
  },
  {
   "cell_type": "code",
   "execution_count": 5,
   "id": "d3489fef",
   "metadata": {},
   "outputs": [
    {
     "name": "stdout",
     "output_type": "stream",
     "text": [
      "[1. 1. 1. 1. 1. 1. 1. 1. 1. 1.]\n",
      "\n",
      "[7. 7. 7. 7. 7. 7. 7. 7. 7. 7.]\n",
      "\n",
      "[7 7 7 7 7 7 7 7 7 7]\n"
     ]
    }
   ],
   "source": [
    "varr6 = np.ones(10)\n",
    "print(varr6)\n",
    "print()\n",
    "varr7 = 7*varr6\n",
    "print(varr7)\n",
    "print()\n",
    "varr8 = np.int64(varr7)\n",
    "print(varr8)"
   ]
  },
  {
   "cell_type": "markdown",
   "id": "9d23ae9a",
   "metadata": {},
   "source": [
    "# create an integer from 10 and 50"
   ]
  },
  {
   "cell_type": "code",
   "execution_count": 6,
   "id": "83287076",
   "metadata": {},
   "outputs": [
    {
     "name": "stdout",
     "output_type": "stream",
     "text": [
      "[10 11 12 13 14 15 16 17 18 19 20 21 22 23 24 25 26 27 28 29 30 31 32 33\n",
      " 34 35 36 37 38 39 40 41 42 43 44 45 46 47 48 49]\n",
      "\n",
      "(40,)\n",
      "\n",
      "[[10 11 12 13 14]\n",
      " [15 16 17 18 19]\n",
      " [20 21 22 23 24]\n",
      " [25 26 27 28 29]\n",
      " [30 31 32 33 34]\n",
      " [35 36 37 38 39]\n",
      " [40 41 42 43 44]\n",
      " [45 46 47 48 49]]\n",
      "\n",
      "[[10 11 12 13 14 15 16 17]\n",
      " [18 19 20 21 22 23 24 25]\n",
      " [26 27 28 29 30 31 32 33]\n",
      " [34 35 36 37 38 39 40 41]\n",
      " [42 43 44 45 46 47 48 49]]\n"
     ]
    }
   ],
   "source": [
    "varr9 = np.arange(10,50)\n",
    "print(varr9)\n",
    "print()\n",
    "print(varr9.shape)\n",
    "print()\n",
    "varr15 = varr9.reshape(8,5)\n",
    "print(varr15)\n",
    "print()\n",
    "varr16 = varr15.reshape(5,8)\n",
    "print(varr16)"
   ]
  },
  {
   "cell_type": "markdown",
   "id": "b0f1502d",
   "metadata": {},
   "source": [
    "# create 3 * 3 matrix with value ranging 0 to 8"
   ]
  },
  {
   "cell_type": "code",
   "execution_count": 3,
   "id": "ad77663d",
   "metadata": {},
   "outputs": [
    {
     "name": "stdout",
     "output_type": "stream",
     "text": [
      "[0 1 2 3 4 5 6 7 8]\n",
      "(9,)\n",
      "\n",
      "[[0 1 2]\n",
      " [3 4 5]\n",
      " [6 7 8]]\n"
     ]
    }
   ],
   "source": [
    "varr10 = np.arange(0,9)\n",
    "print(varr10)\n",
    "print(varr10.shape)\n",
    "print()\n",
    "varr11 = varr10.reshape(3,3)\n",
    "print(varr11)"
   ]
  },
  {
   "cell_type": "markdown",
   "id": "101fe170",
   "metadata": {},
   "source": [
    "# create an even integer from 10 and 50"
   ]
  },
  {
   "cell_type": "code",
   "execution_count": 8,
   "id": "a1b2d1c6",
   "metadata": {},
   "outputs": [
    {
     "name": "stdout",
     "output_type": "stream",
     "text": [
      "[10 12 14 16 18 20 22 24 26 28 30 32 34 36 38 40 42 44 46 48]\n",
      "(20,)\n",
      "\n",
      "[[10 12 14 16 18]\n",
      " [20 22 24 26 28]\n",
      " [30 32 34 36 38]\n",
      " [40 42 44 46 48]]\n",
      "(4, 5)\n",
      "2\n"
     ]
    }
   ],
   "source": [
    "varr12 = np.arange(10,50,2)\n",
    "print(varr12)\n",
    "print(varr12.shape)\n",
    "print()\n",
    "varr13 = varr12.reshape(4,5)\n",
    "print(varr13)\n",
    "print(varr13.shape)\n",
    "print(varr13.ndim)"
   ]
  },
  {
   "cell_type": "markdown",
   "id": "1501acef",
   "metadata": {},
   "source": [
    "# create an  integer from 10 and 50"
   ]
  },
  {
   "cell_type": "code",
   "execution_count": 9,
   "id": "4da27eba",
   "metadata": {},
   "outputs": [
    {
     "name": "stdout",
     "output_type": "stream",
     "text": [
      "[10 15 20 25 30 35 40 45 50 55 60 65 70 75]\n",
      "(14,)\n",
      "\n",
      "[[10 15]\n",
      " [20 25]\n",
      " [30 35]\n",
      " [40 45]\n",
      " [50 55]\n",
      " [60 65]\n",
      " [70 75]]\n",
      "(7, 2)\n",
      "2\n"
     ]
    }
   ],
   "source": [
    "varr12 = np.arange(10,80,5)\n",
    "print(varr12)\n",
    "print(varr12.shape)\n",
    "print()\n",
    "varr13 = varr12.reshape(7,2)\n",
    "print(varr13)\n",
    "print(varr13.shape)\n",
    "print(varr13.ndim)"
   ]
  },
  {
   "cell_type": "markdown",
   "id": "06839dbf",
   "metadata": {},
   "source": [
    "# create 3*3 identity matrix"
   ]
  },
  {
   "cell_type": "code",
   "execution_count": 4,
   "id": "8f03c47e",
   "metadata": {},
   "outputs": [
    {
     "name": "stdout",
     "output_type": "stream",
     "text": [
      "[[1. 0. 0.]\n",
      " [0. 1. 0.]\n",
      " [0. 0. 1.]]\n"
     ]
    }
   ],
   "source": [
    "varr14 = np.eye(3,3)\n",
    "print(varr14)"
   ]
  },
  {
   "cell_type": "markdown",
   "id": "35b8d287",
   "metadata": {},
   "source": [
    "# use numpy to generate a random number between 0 and 1"
   ]
  },
  {
   "cell_type": "code",
   "execution_count": 58,
   "id": "1cbb8bf1",
   "metadata": {},
   "outputs": [
    {
     "name": "stdout",
     "output_type": "stream",
     "text": [
      "0.35914630675101966\n"
     ]
    }
   ],
   "source": [
    "varr15 = np.random.rand()\n",
    "print(varr15)"
   ]
  },
  {
   "cell_type": "markdown",
   "id": "a6db0ee8",
   "metadata": {},
   "source": [
    "# use numpy to generate an array 25 random numbers sampled from  a standard normal distribution"
   ]
  },
  {
   "cell_type": "code",
   "execution_count": 66,
   "id": "95d73bc5",
   "metadata": {},
   "outputs": [
    {
     "name": "stdout",
     "output_type": "stream",
     "text": [
      "[-0.30171923  1.27057728 -0.59830899  1.47392358 -1.01725119  1.16192389\n",
      "  1.17419614 -0.40341867  1.40918393 -0.97951184  0.68965652 -0.00860573\n",
      "  0.94541551 -1.05002269  0.99805547 -0.69772918  1.02447763  1.11515712\n",
      "  0.47204802 -3.44864385  1.00471851 -0.6147133  -0.41456137  0.24369852\n",
      "  1.0628985 ]\n",
      "\n"
     ]
    }
   ],
   "source": [
    "varr16 = np.random.randn(25)\n",
    "print(varr16)\n",
    "print()"
   ]
  },
  {
   "cell_type": "code",
   "execution_count": 67,
   "id": "72a67d48",
   "metadata": {},
   "outputs": [
    {
     "name": "stdout",
     "output_type": "stream",
     "text": [
      "[ 0.16949567 -0.60123779 -0.4233718  -0.00626139 -0.53028725 -0.05718658\n",
      " -1.21276242  0.29780691 -0.29778367  0.51341761 -0.28041075 -0.51914402\n",
      "  1.42087851  1.04376363  0.11698567  1.75547427 -1.10449897  1.26003858\n",
      " -0.50562012 -2.2787802   1.44626606 -0.0405734   0.23570707  0.19008498\n",
      " -0.10190831]\n"
     ]
    }
   ],
   "source": [
    "varr17 = np.random.standard_normal(25)\n",
    "print(varr17)"
   ]
  },
  {
   "cell_type": "markdown",
   "id": "5d81a31b",
   "metadata": {},
   "source": [
    "# create an 20 linear space points between 0 and 1"
   ]
  },
  {
   "cell_type": "code",
   "execution_count": 75,
   "id": "49e56a03",
   "metadata": {},
   "outputs": [
    {
     "name": "stdout",
     "output_type": "stream",
     "text": [
      "[0.         0.05263158 0.10526316 0.15789474 0.21052632 0.26315789\n",
      " 0.31578947 0.36842105 0.42105263 0.47368421 0.52631579 0.57894737\n",
      " 0.63157895 0.68421053 0.73684211 0.78947368 0.84210526 0.89473684\n",
      " 0.94736842 1.        ]\n"
     ]
    }
   ],
   "source": [
    "varr18 = np.linspace(0,1, num = 20)\n",
    "print(varr18)"
   ]
  },
  {
   "cell_type": "markdown",
   "id": "565bbc75",
   "metadata": {},
   "source": [
    "# create the following matrix"
   ]
  },
  {
   "cell_type": "code",
   "execution_count": 77,
   "id": "4aa8d139",
   "metadata": {},
   "outputs": [
    {
     "name": "stdout",
     "output_type": "stream",
     "text": [
      "[[11  1]\n",
      " [ 8  0]]\n"
     ]
    }
   ],
   "source": [
    "import numpy as np\n",
    "\n",
    "A = np.array([[2, 4], [5, -6]])\n",
    "B = np.array([[9, -3], [3, 6]])\n",
    "C = A + B      # element wise addition\n",
    "print(C)"
   ]
  },
  {
   "cell_type": "markdown",
   "id": "8799e714",
   "metadata": {},
   "source": [
    "# Numpy indexing and selection"
   ]
  },
  {
   "cell_type": "code",
   "execution_count": 79,
   "id": "1efa93f2",
   "metadata": {},
   "outputs": [
    {
     "name": "stdout",
     "output_type": "stream",
     "text": [
      "[ 1  2  3  4  5  6  7  8  9 10 11 12 13 14 15 16 17 18 19 20 21 22 23 24\n",
      " 25]\n",
      "(25,)\n",
      "\n",
      "[[ 1  2  3  4  5]\n",
      " [ 6  7  8  9 10]\n",
      " [11 12 13 14 15]\n",
      " [16 17 18 19 20]\n",
      " [21 22 23 24 25]]\n"
     ]
    }
   ],
   "source": [
    "varr20 = np.arange(1,26)\n",
    "print(varr20)\n",
    "print(varr20.shape)\n",
    "print()\n",
    "varr21 = varr20.reshape(5,5)\n",
    "print(varr21)"
   ]
  },
  {
   "cell_type": "code",
   "execution_count": 17,
   "id": "3fc2af5e",
   "metadata": {},
   "outputs": [
    {
     "data": {
      "text/plain": [
       "array([[21, 22, 23, 24, 25],\n",
       "       [16, 17, 18, 19, 20],\n",
       "       [11, 12, 13, 14, 15],\n",
       "       [ 6,  7,  8,  9, 10],\n",
       "       [ 1,  2,  3,  4,  5]])"
      ]
     },
     "execution_count": 17,
     "metadata": {},
     "output_type": "execute_result"
    }
   ],
   "source": [
    "varr21[::-1]"
   ]
  },
  {
   "cell_type": "code",
   "execution_count": 18,
   "id": "5be312c4",
   "metadata": {},
   "outputs": [
    {
     "data": {
      "text/plain": [
       "array([[12, 13, 14, 15],\n",
       "       [17, 18, 19, 20],\n",
       "       [22, 23, 24, 25]])"
      ]
     },
     "execution_count": 18,
     "metadata": {},
     "output_type": "execute_result"
    }
   ],
   "source": [
    "varr21[2:,1:]"
   ]
  },
  {
   "cell_type": "code",
   "execution_count": 19,
   "id": "2cecd1c5",
   "metadata": {},
   "outputs": [
    {
     "data": {
      "text/plain": [
       "20"
      ]
     },
     "execution_count": 19,
     "metadata": {},
     "output_type": "execute_result"
    }
   ],
   "source": [
    "varr21[3,4]"
   ]
  },
  {
   "cell_type": "code",
   "execution_count": 20,
   "id": "26fcbe09",
   "metadata": {},
   "outputs": [
    {
     "data": {
      "text/plain": [
       "array([ 2,  7, 12])"
      ]
     },
     "execution_count": 20,
     "metadata": {},
     "output_type": "execute_result"
    }
   ],
   "source": [
    "varr21[0:3,1]"
   ]
  },
  {
   "cell_type": "code",
   "execution_count": 21,
   "id": "0bb6c316",
   "metadata": {},
   "outputs": [
    {
     "data": {
      "text/plain": [
       "array([[ 2,  3,  4,  5],\n",
       "       [ 7,  8,  9, 10],\n",
       "       [12, 13, 14, 15]])"
      ]
     },
     "execution_count": 21,
     "metadata": {},
     "output_type": "execute_result"
    }
   ],
   "source": [
    "varr21[0:3,1:]"
   ]
  },
  {
   "cell_type": "code",
   "execution_count": 22,
   "id": "0d076856",
   "metadata": {},
   "outputs": [
    {
     "name": "stdout",
     "output_type": "stream",
     "text": [
      "[[ 2]\n",
      " [ 7]\n",
      " [12]]\n"
     ]
    }
   ],
   "source": [
    "varr22 = varr21[0:3,1].reshape(3,1)\n",
    "print(varr22)"
   ]
  },
  {
   "cell_type": "code",
   "execution_count": 23,
   "id": "6cff8cd8",
   "metadata": {},
   "outputs": [
    {
     "data": {
      "text/plain": [
       "array([21, 22, 23, 24, 25])"
      ]
     },
     "execution_count": 23,
     "metadata": {},
     "output_type": "execute_result"
    }
   ],
   "source": [
    "varr21[4,:]"
   ]
  },
  {
   "cell_type": "code",
   "execution_count": 24,
   "id": "301b5868",
   "metadata": {},
   "outputs": [
    {
     "data": {
      "text/plain": [
       "array([[16, 17, 18, 19, 20],\n",
       "       [21, 22, 23, 24, 25]])"
      ]
     },
     "execution_count": 24,
     "metadata": {},
     "output_type": "execute_result"
    }
   ],
   "source": [
    "varr21[3:5,:]"
   ]
  },
  {
   "cell_type": "code",
   "execution_count": 25,
   "id": "9517cf37",
   "metadata": {},
   "outputs": [
    {
     "data": {
      "text/plain": [
       "array([[21, 22, 23, 24, 25],\n",
       "       [16, 17, 18, 19, 20],\n",
       "       [11, 12, 13, 14, 15],\n",
       "       [ 6,  7,  8,  9, 10],\n",
       "       [ 1,  2,  3,  4,  5]])"
      ]
     },
     "execution_count": 25,
     "metadata": {},
     "output_type": "execute_result"
    }
   ],
   "source": [
    "varr21[::-1,:]"
   ]
  },
  {
   "cell_type": "code",
   "execution_count": 26,
   "id": "1ad76d25",
   "metadata": {
    "scrolled": true
   },
   "outputs": [
    {
     "data": {
      "text/plain": [
       "array([[ 5,  4,  3,  2,  1],\n",
       "       [10,  9,  8,  7,  6],\n",
       "       [15, 14, 13, 12, 11],\n",
       "       [20, 19, 18, 17, 16],\n",
       "       [25, 24, 23, 22, 21]])"
      ]
     },
     "execution_count": 26,
     "metadata": {},
     "output_type": "execute_result"
    }
   ],
   "source": [
    "varr21[:,::-1]"
   ]
  },
  {
   "cell_type": "code",
   "execution_count": 27,
   "id": "6bc920f1",
   "metadata": {},
   "outputs": [
    {
     "data": {
      "text/plain": [
       "array([[ 1,  5],\n",
       "       [ 6, 10],\n",
       "       [11, 15],\n",
       "       [16, 20],\n",
       "       [21, 25]])"
      ]
     },
     "execution_count": 27,
     "metadata": {},
     "output_type": "execute_result"
    }
   ],
   "source": [
    "varr21[:,::4]"
   ]
  },
  {
   "cell_type": "code",
   "execution_count": 28,
   "id": "6b0d083d",
   "metadata": {},
   "outputs": [
    {
     "data": {
      "text/plain": [
       "array([[ 1,  2,  3,  4,  5],\n",
       "       [21, 22, 23, 24, 25]])"
      ]
     },
     "execution_count": 28,
     "metadata": {},
     "output_type": "execute_result"
    }
   ],
   "source": [
    "varr21[::4,:]"
   ]
  },
  {
   "cell_type": "markdown",
   "id": "73fde7f0",
   "metadata": {},
   "source": [
    "# get the sum of all values "
   ]
  },
  {
   "cell_type": "code",
   "execution_count": 80,
   "id": "53dbdf1d",
   "metadata": {
    "scrolled": true
   },
   "outputs": [
    {
     "data": {
      "text/plain": [
       "325"
      ]
     },
     "execution_count": 80,
     "metadata": {},
     "output_type": "execute_result"
    }
   ],
   "source": [
    "varr23 = varr21.sum()\n",
    "varr23"
   ]
  },
  {
   "cell_type": "markdown",
   "id": "066b7dba",
   "metadata": {},
   "source": [
    "# Get Standard deviation of all values"
   ]
  },
  {
   "cell_type": "code",
   "execution_count": 81,
   "id": "89730a34",
   "metadata": {},
   "outputs": [
    {
     "data": {
      "text/plain": [
       "7.211102550927978"
      ]
     },
     "execution_count": 81,
     "metadata": {},
     "output_type": "execute_result"
    }
   ],
   "source": [
    "varr24 = varr21.std()\n",
    "varr24"
   ]
  },
  {
   "cell_type": "markdown",
   "id": "242cac3a",
   "metadata": {},
   "source": [
    "# get the sum of all values columns wise and row wise"
   ]
  },
  {
   "cell_type": "code",
   "execution_count": 82,
   "id": "1108732a",
   "metadata": {},
   "outputs": [
    {
     "data": {
      "text/plain": [
       "array([ 15,  40,  65,  90, 115])"
      ]
     },
     "execution_count": 82,
     "metadata": {},
     "output_type": "execute_result"
    }
   ],
   "source": [
    "varr25 = varr21.sum(axis = 1)\n",
    "varr25"
   ]
  },
  {
   "cell_type": "code",
   "execution_count": 83,
   "id": "f9837682",
   "metadata": {
    "scrolled": true
   },
   "outputs": [
    {
     "data": {
      "text/plain": [
       "array([55, 60, 65, 70, 75])"
      ]
     },
     "execution_count": 83,
     "metadata": {},
     "output_type": "execute_result"
    }
   ],
   "source": [
    "varr26 = varr21.sum(axis = 0)\n",
    "varr26"
   ]
  },
  {
   "cell_type": "markdown",
   "id": "520deeaf",
   "metadata": {},
   "source": [
    "# create a 1D array of number from 0 to 9"
   ]
  },
  {
   "cell_type": "code",
   "execution_count": 85,
   "id": "cc30b00c",
   "metadata": {},
   "outputs": [
    {
     "name": "stdout",
     "output_type": "stream",
     "text": [
      "[0 1 2 3 4 5 6 7 8]\n",
      "1\n"
     ]
    }
   ],
   "source": [
    "varr28 = np.arange(9)\n",
    "print(varr28)\n",
    "print(varr28.ndim)"
   ]
  },
  {
   "cell_type": "markdown",
   "id": "99148df1",
   "metadata": {},
   "source": [
    "# create 3*3 numpy array of all true's"
   ]
  },
  {
   "cell_type": "code",
   "execution_count": 34,
   "id": "dcfe1ef4",
   "metadata": {},
   "outputs": [
    {
     "name": "stdout",
     "output_type": "stream",
     "text": [
      "[[ True  True  True]\n",
      " [ True  True  True]\n",
      " [ True  True  True]]\n"
     ]
    }
   ],
   "source": [
    "varr29 = np.ones((3,3),dtype = bool)\n",
    "print(varr29)"
   ]
  },
  {
   "cell_type": "code",
   "execution_count": 86,
   "id": "fc2c8556",
   "metadata": {},
   "outputs": [
    {
     "name": "stdout",
     "output_type": "stream",
     "text": [
      "[[1. 1. 1.]\n",
      " [1. 1. 1.]\n",
      " [1. 1. 1.]]\n"
     ]
    }
   ],
   "source": [
    "varr29 = np.ones((3,3),dtype = \"f\")\n",
    "print(varr29)"
   ]
  },
  {
   "cell_type": "markdown",
   "id": "4ebf1e28",
   "metadata": {},
   "source": [
    "# extract all odd number from arr"
   ]
  },
  {
   "cell_type": "code",
   "execution_count": 3,
   "id": "b8c5a1b4",
   "metadata": {},
   "outputs": [],
   "source": [
    "import numpy as np"
   ]
  },
  {
   "cell_type": "code",
   "execution_count": 29,
   "id": "69ad1c08",
   "metadata": {},
   "outputs": [
    {
     "name": "stdout",
     "output_type": "stream",
     "text": [
      "[ 0  1  2  3  4  5  6  7  8  9 10 11 12 13 14 15 16 17 18 19 20 21 22 23\n",
      " 24 25 26 27 28 29 30 31 32 33 34 35 36 37 38 39 40 41 42 43 44 45 46 47\n",
      " 48 49]\n",
      "\n",
      "[False  True False  True False  True False  True False  True False  True\n",
      " False  True False  True False  True False  True False  True False  True\n",
      " False  True False  True False  True False  True False  True False  True\n",
      " False  True False  True False  True False  True False  True False  True\n",
      " False  True]\n",
      "\n",
      "[ 1  3  5  7  9 11 13 15 17 19 21 23 25 27 29 31 33 35 37 39 41 43 45 47\n",
      " 49]\n",
      "(25,)\n",
      "\n",
      "[[ 1  3  5  7  9]\n",
      " [11 13 15 17 19]\n",
      " [21 23 25 27 29]\n",
      " [31 33 35 37 39]\n",
      " [41 43 45 47 49]]\n",
      "\n",
      "2\n",
      "\n",
      "(5, 5)\n",
      "\n",
      "int32\n",
      "\n",
      "[[ 1.  3.  5.  7.  9.]\n",
      " [11. 13. 15. 17. 19.]\n",
      " [21. 23. 25. 27. 29.]\n",
      " [31. 33. 35. 37. 39.]\n",
      " [41. 43. 45. 47. 49.]]\n",
      "\n",
      "[[ 1  3  5  7  9]\n",
      " [11 13 15 17 19]\n",
      " [21 23 25 27 29]\n",
      " [31 33 35 37 39]\n",
      " [41 43 45 47 49]]\n"
     ]
    }
   ],
   "source": [
    "varr83 = np.arange(50)\n",
    "print(varr83)\n",
    "print()\n",
    "varr84 = varr83%2 != 0\n",
    "print(varr84)\n",
    "print()\n",
    "varr85 = varr83[varr83%2 != 0]\n",
    "print(varr85)\n",
    "print(varr85.shape)\n",
    "print()\n",
    "varr86 = varr85.reshape(5,5)\n",
    "print(varr86)\n",
    "print()\n",
    "print(varr86.ndim)\n",
    "print()\n",
    "print(varr86.shape)\n",
    "print()\n",
    "print(varr86.dtype)\n",
    "print()\n",
    "varr87 = np.float64(varr86)\n",
    "print(varr87)\n",
    "print()\n",
    "varr88 = np.int_(varr87)\n",
    "print(varr88)"
   ]
  },
  {
   "cell_type": "code",
   "execution_count": 36,
   "id": "52104b04",
   "metadata": {},
   "outputs": [
    {
     "name": "stdout",
     "output_type": "stream",
     "text": [
      "[ 0  1  2  3  4  5  6  7  8  9 10 11 12 13 14 15 16 17 18 19]\n"
     ]
    },
    {
     "data": {
      "text/plain": [
       "array([ 1,  3,  5,  7,  9, 11, 13, 15, 17, 19])"
      ]
     },
     "execution_count": 36,
     "metadata": {},
     "output_type": "execute_result"
    }
   ],
   "source": [
    "varr30 = np.arange(20)\n",
    "print(varr30)\n",
    "varr31 = varr30%2 == 1\n",
    "varr31 = varr30[varr30%2 == 1]\n",
    "varr31"
   ]
  },
  {
   "cell_type": "markdown",
   "id": "3ebc96df",
   "metadata": {},
   "source": [
    "# extract all even number from arr"
   ]
  },
  {
   "cell_type": "code",
   "execution_count": 113,
   "id": "bd81ba06",
   "metadata": {},
   "outputs": [
    {
     "name": "stdout",
     "output_type": "stream",
     "text": [
      "[ 0  1  2  3  4  5  6  7  8  9 10 11 12 13 14 15 16 17 18 19]\n",
      "\n",
      "[ True False  True False  True False  True False  True False  True False\n",
      "  True False  True False  True False  True False]\n",
      "\n",
      "[ 0  2  4  6  8 10 12 14 16 18]\n",
      "\n",
      "int32\n",
      "\n",
      "[ 0.  1.  2.  3.  4.  5.  6.  7.  8.  9. 10. 11. 12. 13. 14. 15. 16. 17.\n",
      " 18. 19.]\n",
      "\n",
      "[ 0.  1.  2.  3.  4.  5.  6.  7.  8.  9. 10. 11. 12. 13. 14. 15. 16. 17.\n",
      " 18. 19.]\n"
     ]
    }
   ],
   "source": [
    "varr30 = np.arange(20)\n",
    "print(varr30)\n",
    "print()\n",
    "varr31 = varr30%2 == 0\n",
    "print(varr31)\n",
    "print()\n",
    "varr31 = varr30[varr30%2 == 0]\n",
    "print(varr31)\n",
    "print()\n",
    "varr82 = varr31.dtype\n",
    "print(varr82)\n",
    "print()\n",
    "varr83 = np.float64(varr30)\n",
    "print(varr83)\n",
    "print()\n",
    "varr84 = np.int_(varr83)\n",
    "print(varr83)"
   ]
  },
  {
   "cell_type": "code",
   "execution_count": 121,
   "id": "0c94fb51",
   "metadata": {},
   "outputs": [
    {
     "name": "stdout",
     "output_type": "stream",
     "text": [
      "[ 0  1  2  3  4  5  6  7  8  9 10 11 12 13 14 15 16 17 18 19]\n",
      "(20,)\n",
      "\n",
      "[[ 0  1  2  3  4]\n",
      " [ 5  6  7  8  9]\n",
      " [10 11 12 13 14]\n",
      " [15 16 17 18 19]]\n",
      "\n",
      "[ 1  3  5  7  9 11 13 15 17 19]\n",
      "(10,)\n",
      "\n",
      "[[ 1  3  5  7  9]\n",
      " [11 13 15 17 19]]\n",
      "\n",
      "[ 1  3  5  7  9 11 13 15 17 19]\n",
      "\n",
      "[ 1  3  5  7  9 11 13 15 17 19]\n"
     ]
    }
   ],
   "source": [
    "varr32 = np.arange(20)\n",
    "print(varr32)\n",
    "print(varr32.shape)\n",
    "print()\n",
    "varr33 = varr32.reshape(4,5)\n",
    "print(varr33)\n",
    "print()\n",
    "varr34 = varr33%2 == 1\n",
    "varr34 = varr33[varr33%2 == 1]\n",
    "print(varr34)\n",
    "print(varr34.shape)\n",
    "print()\n",
    "varr35 = varr34.reshape(2,5)\n",
    "print(varr35)\n",
    "print()\n",
    "varr86 = np.ravel(varr35)\n",
    "print(varr86)\n",
    "print()\n",
    "varr87 = varr35.flatten()\n",
    "print(varr87)"
   ]
  },
  {
   "cell_type": "code",
   "execution_count": 122,
   "id": "8845cb4a",
   "metadata": {},
   "outputs": [
    {
     "name": "stdout",
     "output_type": "stream",
     "text": [
      "[ 0  1  2  3  4  5  6  7  8  9 10 11 12 13 14 15 16 17 18 19]\n",
      "(20,)\n",
      "\n",
      "[[ 0  1  2  3  4]\n",
      " [ 5  6  7  8  9]\n",
      " [10 11 12 13 14]\n",
      " [15 16 17 18 19]]\n",
      "\n",
      "[ 0  2  4  6  8 10 12 14 16 18]\n",
      "(10,)\n",
      "\n",
      "[[ 0  2  4  6  8]\n",
      " [10 12 14 16 18]]\n"
     ]
    }
   ],
   "source": [
    "varr32 = np.arange(20)\n",
    "print(varr32)\n",
    "print(varr32.shape)\n",
    "print()\n",
    "varr33 = varr32.reshape(4,5)\n",
    "print(varr33)\n",
    "print()\n",
    "varr34 = varr33%2 == 0\n",
    "varr34 = varr33[varr33%2 == 0]\n",
    "print(varr34)\n",
    "print(varr34.shape)\n",
    "print()\n",
    "varr35 = varr34.reshape(2,5)\n",
    "print(varr35)"
   ]
  },
  {
   "cell_type": "markdown",
   "id": "d09b4be1",
   "metadata": {},
   "source": [
    "# replace all odd number in arr with -1"
   ]
  },
  {
   "cell_type": "code",
   "execution_count": 123,
   "id": "9f168abd",
   "metadata": {},
   "outputs": [
    {
     "name": "stdout",
     "output_type": "stream",
     "text": [
      "[0 1 2 3 4 5 6 7 8 9]\n",
      "[1 3 5 7 9]\n"
     ]
    }
   ],
   "source": [
    "varr36 = np.arange(10)\n",
    "print(varr36)\n",
    "varr37 = varr36%2==1\n",
    "varr37\n",
    "varr38 = varr36[varr37]\n",
    "print(varr38)"
   ]
  },
  {
   "cell_type": "code",
   "execution_count": 124,
   "id": "82da76da",
   "metadata": {},
   "outputs": [
    {
     "data": {
      "text/plain": [
       "array([ 0, -1,  2, -1,  4, -1,  6, -1,  8, -1])"
      ]
     },
     "execution_count": 124,
     "metadata": {},
     "output_type": "execute_result"
    }
   ],
   "source": [
    "varr36[varr36%2 == 1] = -1\n",
    "varr36"
   ]
  },
  {
   "cell_type": "markdown",
   "id": "21c003b5",
   "metadata": {},
   "source": [
    "# replace all even number in arr with -1"
   ]
  },
  {
   "cell_type": "code",
   "execution_count": 2,
   "id": "af46cf66",
   "metadata": {},
   "outputs": [],
   "source": [
    "import numpy as np"
   ]
  },
  {
   "cell_type": "code",
   "execution_count": 11,
   "id": "d43b27ae",
   "metadata": {},
   "outputs": [
    {
     "name": "stdout",
     "output_type": "stream",
     "text": [
      "[20 21 22 23 24 25 26 27 28 29 30 31 32 33 34 35 36 37 38 39 40 41 42 43\n",
      " 44 45 46 47 48 49 50 51 52 53 54 55 56 57 58 59 60 61 62 63 64 65 66 67\n",
      " 68 69 70 71 72 73 74 75 76 77 78 79]\n",
      "\n",
      "[ True False  True False  True False  True False  True False  True False\n",
      "  True False  True False  True False  True False  True False  True False\n",
      "  True False  True False  True False  True False  True False  True False\n",
      "  True False  True False  True False  True False  True False  True False\n",
      "  True False  True False  True False  True False  True False  True False]\n",
      "\n",
      "[20 22 24 26 28 30 32 34 36 38 40 42 44 46 48 50 52 54 56 58 60 62 64 66\n",
      " 68 70 72 74 76 78]\n",
      "\n",
      "[-1 21 -1 23 -1 25 -1 27 -1 29 -1 31 -1 33 -1 35 -1 37 -1 39 -1 41 -1 43\n",
      " -1 45 -1 47 -1 49 -1 51 -1 53 -1 55 -1 57 -1 59 -1 61 -1 63 -1 65 -1 67\n",
      " -1 69 -1 71 -1 73 -1 75 -1 77 -1 79]\n",
      "\n",
      "int32\n",
      "(60,)\n",
      "\n",
      "[[-1 21 -1 23 -1]\n",
      " [25 -1 27 -1 29]\n",
      " [-1 31 -1 33 -1]\n",
      " [35 -1 37 -1 39]\n",
      " [-1 41 -1 43 -1]\n",
      " [45 -1 47 -1 49]\n",
      " [-1 51 -1 53 -1]\n",
      " [55 -1 57 -1 59]\n",
      " [-1 61 -1 63 -1]\n",
      " [65 -1 67 -1 69]\n",
      " [-1 71 -1 73 -1]\n",
      " [75 -1 77 -1 79]]\n",
      "\n",
      "\n",
      "reshape [-1 21 -1 23 -1 25 -1 27 -1 29 -1 31 -1 33 -1 35 -1 37 -1 39 -1 41 -1 43\n",
      " -1 45 -1 47 -1 49 -1 51 -1 53 -1 55 -1 57 -1 59 -1 61 -1 63 -1 65 -1 67\n",
      " -1 69 -1 71 -1 73 -1 75 -1 77 -1 79]\n",
      "\n",
      "Faltten [-1 21 -1 23 -1 25 -1 27 -1 29 -1 31 -1 33 -1 35 -1 37 -1 39 -1 41 -1 43\n",
      " -1 45 -1 47 -1 49 -1 51 -1 53 -1 55 -1 57 -1 59 -1 61 -1 63 -1 65 -1 67\n",
      " -1 69 -1 71 -1 73 -1 75 -1 77 -1 79]\n",
      "\n",
      "ravel [-1 21 -1 23 -1 25 -1 27 -1 29 -1 31 -1 33 -1 35 -1 37 -1 39 -1 41 -1 43\n",
      " -1 45 -1 47 -1 49 -1 51 -1 53 -1 55 -1 57 -1 59 -1 61 -1 63 -1 65 -1 67\n",
      " -1 69 -1 71 -1 73 -1 75 -1 77 -1 79]\n"
     ]
    }
   ],
   "source": [
    "varr100 = np.arange(20,80)\n",
    "print(varr100)\n",
    "print()\n",
    "varr101 = varr100%2 == 0\n",
    "print(varr101)\n",
    "print()\n",
    "varr102 = varr100[varr100%2 == 0]\n",
    "print(varr102)\n",
    "print()\n",
    "varr100[varr100%2 == 0]=-1\n",
    "print(varr100)\n",
    "print()\n",
    "print(varr100.dtype)\n",
    "print(varr100.shape)\n",
    "print()\n",
    "print(varr100.reshape(12,5))\n",
    "print()\n",
    "print()\n",
    "varr103 = varr100.reshape(-1)\n",
    "print(\"reshape\",varr103.reshape(-1))\n",
    "print()\n",
    "varr104 = varr100.flatten()\n",
    "print(\"Faltten\", varr104)\n",
    "print()\n",
    "varr105 = np.ravel(varr100)\n",
    "print(\"ravel\", varr105)\n"
   ]
  },
  {
   "cell_type": "code",
   "execution_count": 9,
   "id": "c5876d6a",
   "metadata": {},
   "outputs": [
    {
     "name": "stdout",
     "output_type": "stream",
     "text": [
      "[10 11 12 13 14 15 16 17 18 19 20 21 22 23 24 25 26 27 28 29 30 31 32 33\n",
      " 34 35 36 37 38 39 40 41 42 43 44 45 46 47 48 49 50 51 52 53 54 55 56 57\n",
      " 58 59]\n",
      "\n",
      "[-1 11 -1 13 -1 15 -1 17 -1 19 -1 21 -1 23 -1 25 -1 27 -1 29 -1 31 -1 33\n",
      " -1 35 -1 37 -1 39 -1 41 -1 43 -1 45 -1 47 -1 49 -1 51 -1 53 -1 55 -1 57\n",
      " -1 59]\n"
     ]
    }
   ],
   "source": [
    "varr38 = np.arange(10,60)\n",
    "print(varr38)\n",
    "varr38%2 == 0\n",
    "varr38[varr38%2 == 0]\n",
    "print()\n",
    "varr38[varr38%2 == 0] = -1\n",
    "print(varr38)"
   ]
  },
  {
   "cell_type": "markdown",
   "id": "9d58e7c7",
   "metadata": {},
   "source": [
    "# replace all even number in arr with -1 without chganging arr"
   ]
  },
  {
   "cell_type": "code",
   "execution_count": 43,
   "id": "9d159a81",
   "metadata": {},
   "outputs": [
    {
     "data": {
      "text/plain": [
       "array([-1, 11, -1, 13, -1, 15, -1, 17, -1, 19, -1, 21, -1, 23, -1, 25, -1,\n",
       "       27, -1, 29, -1, 31, -1, 33, -1, 35, -1, 37, -1, 39, -1, 41, -1, 43,\n",
       "       -1, 45, -1, 47, -1, 49, -1, 51, -1, 53, -1, 55, -1, 57, -1, 59])"
      ]
     },
     "execution_count": 43,
     "metadata": {},
     "output_type": "execute_result"
    }
   ],
   "source": [
    "np.where(varr38%2 == 0,-1,varr38)"
   ]
  },
  {
   "cell_type": "markdown",
   "id": "0c9153f4",
   "metadata": {},
   "source": [
    "# convert 1 D to 2D array  with 2 row"
   ]
  },
  {
   "cell_type": "code",
   "execution_count": 44,
   "id": "efbdeade",
   "metadata": {
    "scrolled": true
   },
   "outputs": [
    {
     "name": "stdout",
     "output_type": "stream",
     "text": [
      "[0 1 2 3 4 5 6 7]\n",
      "(8,)\n",
      "\n",
      "[[0 1 2 3]\n",
      " [4 5 6 7]]\n",
      "2\n",
      "\n"
     ]
    }
   ],
   "source": [
    "varr39 = np.arange(8)\n",
    "print(varr39)\n",
    "print(varr39.shape)\n",
    "print()\n",
    "varr40 = varr39.reshape(2,4)\n",
    "print(varr40)\n",
    "print(varr40.ndim)\n",
    "print()"
   ]
  },
  {
   "cell_type": "markdown",
   "id": "352034dd",
   "metadata": {},
   "source": [
    "# create 2D array of size 3*3 but all the element should be between 0 and 1"
   ]
  },
  {
   "cell_type": "code",
   "execution_count": 14,
   "id": "ee2548b8",
   "metadata": {},
   "outputs": [
    {
     "name": "stdout",
     "output_type": "stream",
     "text": [
      "[0.0686773  0.06082606 0.22152121 0.85985698 0.36456077 0.01456715\n",
      " 0.61972209 0.82312269 0.56487656]\n",
      "\n",
      "[[0.0686773  0.06082606 0.22152121]\n",
      " [0.85985698 0.36456077 0.01456715]\n",
      " [0.61972209 0.82312269 0.56487656]]\n",
      "\n",
      "2\n"
     ]
    }
   ],
   "source": [
    "varr104 = np.random.rand(9)\n",
    "print(varr104)\n",
    "print()\n",
    "varr105 = varr104.reshape(3,3)\n",
    "print(varr105)\n",
    "print()\n",
    "varr106 = varr105.ndim\n",
    "print(varr106)"
   ]
  },
  {
   "cell_type": "markdown",
   "id": "9f17e22e",
   "metadata": {},
   "source": [
    "# How to stack arrays a and b vertically"
   ]
  },
  {
   "cell_type": "code",
   "execution_count": 16,
   "id": "af3d2c80",
   "metadata": {},
   "outputs": [
    {
     "name": "stdout",
     "output_type": "stream",
     "text": [
      "\n",
      "[[ 0  1  2  3  4]\n",
      " [ 5  6  7  8  9]\n",
      " [10 11 12 13 14]\n",
      " [15 16 17 18 19]]\n",
      "\n",
      "[[ 1  2  3  4  5]\n",
      " [ 6  7  8  9 10]\n",
      " [11 12 13 14 15]\n",
      " [16 17 18 19 20]]\n"
     ]
    }
   ],
   "source": [
    "varr41 = np.arange(20).reshape(4,5)\n",
    "varr42 = np.arange(1,21).reshape(4,5)\n",
    "print()\n",
    "print(varr41)\n",
    "print()\n",
    "print(varr42)\n"
   ]
  },
  {
   "cell_type": "code",
   "execution_count": 17,
   "id": "255ee142",
   "metadata": {
    "scrolled": true
   },
   "outputs": [
    {
     "name": "stdout",
     "output_type": "stream",
     "text": [
      "[[ 0  1  2  3  4]\n",
      " [ 5  6  7  8  9]\n",
      " [10 11 12 13 14]\n",
      " [15 16 17 18 19]\n",
      " [ 1  2  3  4  5]\n",
      " [ 6  7  8  9 10]\n",
      " [11 12 13 14 15]\n",
      " [16 17 18 19 20]]\n"
     ]
    }
   ],
   "source": [
    "varr43 = np.vstack((varr41,varr42))\n",
    "print(varr43)"
   ]
  },
  {
   "cell_type": "code",
   "execution_count": 20,
   "id": "2d1ce14a",
   "metadata": {},
   "outputs": [
    {
     "name": "stdout",
     "output_type": "stream",
     "text": [
      "[[ 0  1  2  3  4]\n",
      " [ 5  6  7  8  9]\n",
      " [10 11 12 13 14]\n",
      " [15 16 17 18 19]\n",
      " [ 1  2  3  4  5]\n",
      " [ 6  7  8  9 10]\n",
      " [11 12 13 14 15]\n",
      " [16 17 18 19 20]]\n"
     ]
    }
   ],
   "source": [
    "varr46 = np.concatenate((varr41,varr42),axis = 0)\n",
    "print(varr46)"
   ]
  },
  {
   "cell_type": "markdown",
   "id": "70af20ef",
   "metadata": {},
   "source": [
    "# How to stack arrays a and b horizontally"
   ]
  },
  {
   "cell_type": "code",
   "execution_count": 18,
   "id": "277313a7",
   "metadata": {},
   "outputs": [
    {
     "name": "stdout",
     "output_type": "stream",
     "text": [
      "[[ 0  1  2  3  4  1  2  3  4  5]\n",
      " [ 5  6  7  8  9  6  7  8  9 10]\n",
      " [10 11 12 13 14 11 12 13 14 15]\n",
      " [15 16 17 18 19 16 17 18 19 20]]\n"
     ]
    }
   ],
   "source": [
    "varr44 = np.hstack((varr41,varr42))\n",
    "print(varr44)"
   ]
  },
  {
   "cell_type": "code",
   "execution_count": 49,
   "id": "f3b9d5a1",
   "metadata": {},
   "outputs": [
    {
     "name": "stdout",
     "output_type": "stream",
     "text": [
      "[[ 0  1  2  3  4  1  2  3  4  5]\n",
      " [ 5  6  7  8  9  6  7  8  9 10]\n",
      " [10 11 12 13 14 11 12 13 14 15]\n",
      " [15 16 17 18 19 16 17 18 19 20]]\n"
     ]
    }
   ],
   "source": [
    "varr45 = np.concatenate((varr41,varr42),axis = 1)\n",
    "print(varr45)"
   ]
  },
  {
   "cell_type": "markdown",
   "id": "e1649936",
   "metadata": {},
   "source": [
    "# How to get the common items between two python numpy arrays?¶"
   ]
  },
  {
   "cell_type": "code",
   "execution_count": 22,
   "id": "cd9541c5",
   "metadata": {
    "scrolled": true
   },
   "outputs": [
    {
     "name": "stdout",
     "output_type": "stream",
     "text": [
      "\n",
      "[[0 1 2 3 4]\n",
      " [5 6 7 8 9]]\n",
      "\n",
      "[[ 1  2  3  4  5]\n",
      " [ 6  7  8  9 10]]\n"
     ]
    }
   ],
   "source": [
    "varr46 = np.arange(10).reshape(2,5)\n",
    "varr47 = np.arange(1,11).reshape(2,5)\n",
    "print()\n",
    "print(varr46)\n",
    "print()\n",
    "print(varr47)"
   ]
  },
  {
   "cell_type": "code",
   "execution_count": 24,
   "id": "aaac6982",
   "metadata": {},
   "outputs": [
    {
     "name": "stdout",
     "output_type": "stream",
     "text": [
      "[1 2 3 4 5 6 7 8 9]\n",
      "(9,)\n",
      "\n",
      "[[1 2 3]\n",
      " [4 5 6]\n",
      " [7 8 9]]\n"
     ]
    }
   ],
   "source": [
    "varr48 = np.intersect1d(varr46,varr47)\n",
    "print(varr48)\n",
    "print(varr48.shape)\n",
    "print()\n",
    "varr49 = varr48.reshape(3,3)\n",
    "print(varr49)"
   ]
  },
  {
   "cell_type": "markdown",
   "id": "f4c82676",
   "metadata": {},
   "source": [
    "# from array c remove  all item present in array d"
   ]
  },
  {
   "cell_type": "code",
   "execution_count": 25,
   "id": "480d68f8",
   "metadata": {},
   "outputs": [],
   "source": [
    "varr50 = np.array([1,2,3,4,5])\n",
    "varr51 = np.array([6,3,8,4,9])"
   ]
  },
  {
   "cell_type": "code",
   "execution_count": 53,
   "id": "3bb9b438",
   "metadata": {},
   "outputs": [
    {
     "data": {
      "text/plain": [
       "array([1, 2, 5])"
      ]
     },
     "execution_count": 53,
     "metadata": {},
     "output_type": "execute_result"
    }
   ],
   "source": [
    "varr52 = np.setdiff1d(varr50,varr51)\n",
    "varr52"
   ]
  },
  {
   "cell_type": "markdown",
   "id": "a17a9b1a",
   "metadata": {},
   "source": [
    "# get position where element of two array match"
   ]
  },
  {
   "cell_type": "code",
   "execution_count": 27,
   "id": "228bad8d",
   "metadata": {},
   "outputs": [
    {
     "name": "stdout",
     "output_type": "stream",
     "text": [
      "[ 0  1  2  3  4  5  6  7  8  9 10 11 12 13 14]\n",
      "[ 0  1  2  3  4  5  6  7  8  9 10 11 12 13 14]\n"
     ]
    }
   ],
   "source": [
    "varr53 = np.arange(15)\n",
    "varr54 = np.arange(15)\n",
    "print(varr53)\n",
    "print(varr54)"
   ]
  },
  {
   "cell_type": "code",
   "execution_count": 55,
   "id": "6f6aee68",
   "metadata": {},
   "outputs": [
    {
     "name": "stdout",
     "output_type": "stream",
     "text": [
      "(array([ 0,  1,  2,  3,  4,  5,  6,  7,  8,  9, 10, 11, 12, 13, 14],\n",
      "      dtype=int64),)\n"
     ]
    }
   ],
   "source": [
    "varr55 = np.where(varr53 == varr54)\n",
    "print(varr55)"
   ]
  },
  {
   "cell_type": "code",
   "execution_count": 28,
   "id": "cef5c488",
   "metadata": {},
   "outputs": [
    {
     "name": "stdout",
     "output_type": "stream",
     "text": [
      "[1 2 3 2 3 4 3 4 5 6]\n",
      "[ 7  2 10  2  7  4  9  4  9  9]\n"
     ]
    }
   ],
   "source": [
    "varr56 = np.array([1,2,3,2,3,4,3,4,5,6])\n",
    "varr57 = np.array([7,2,10,2,7,4,9,4,9,9])\n",
    "print(varr56)\n",
    "print(varr57)"
   ]
  },
  {
   "cell_type": "code",
   "execution_count": 29,
   "id": "b131b7e7",
   "metadata": {},
   "outputs": [
    {
     "name": "stdout",
     "output_type": "stream",
     "text": [
      "(array([1, 3, 5, 7], dtype=int64),)\n"
     ]
    }
   ],
   "source": [
    "varr58 = np.where(varr56 == varr57)\n",
    "print(varr58)"
   ]
  },
  {
   "cell_type": "markdown",
   "id": "4acded56",
   "metadata": {},
   "source": [
    "# Get all element between 5 and 10 from array"
   ]
  },
  {
   "cell_type": "code",
   "execution_count": 30,
   "id": "2b30f852",
   "metadata": {},
   "outputs": [
    {
     "name": "stdout",
     "output_type": "stream",
     "text": [
      "[ 0  1  2  3  4  5  6  7  8  9 10 11 12 13 14]\n"
     ]
    }
   ],
   "source": [
    "varr59 = np.arange(15)\n",
    "print(varr59)"
   ]
  },
  {
   "cell_type": "code",
   "execution_count": 31,
   "id": "f4828884",
   "metadata": {},
   "outputs": [
    {
     "data": {
      "text/plain": [
       "array([False, False, False, False, False,  True,  True,  True,  True,\n",
       "        True,  True, False, False, False, False])"
      ]
     },
     "execution_count": 31,
     "metadata": {},
     "output_type": "execute_result"
    }
   ],
   "source": [
    "(varr59>=5)&(varr59<=10)"
   ]
  },
  {
   "cell_type": "code",
   "execution_count": 32,
   "id": "78f0df47",
   "metadata": {},
   "outputs": [
    {
     "data": {
      "text/plain": [
       "array([ 5,  6,  7,  8,  9, 10])"
      ]
     },
     "execution_count": 32,
     "metadata": {},
     "output_type": "execute_result"
    }
   ],
   "source": [
    "varr59[(varr59>=5)&(varr59<=10)]"
   ]
  },
  {
   "cell_type": "markdown",
   "id": "2afa1a09",
   "metadata": {},
   "source": [
    "# method 2"
   ]
  },
  {
   "cell_type": "code",
   "execution_count": 33,
   "id": "227affda",
   "metadata": {},
   "outputs": [
    {
     "data": {
      "text/plain": [
       "(array([ 5,  6,  7,  8,  9, 10], dtype=int64),)"
      ]
     },
     "execution_count": 33,
     "metadata": {},
     "output_type": "execute_result"
    }
   ],
   "source": [
    "np.where(np.logical_and((varr59>=5),(varr59<=10)))"
   ]
  },
  {
   "cell_type": "markdown",
   "id": "a6288a4b",
   "metadata": {},
   "source": [
    "# method 2"
   ]
  },
  {
   "cell_type": "code",
   "execution_count": 61,
   "id": "4892bbef",
   "metadata": {},
   "outputs": [
    {
     "data": {
      "text/plain": [
       "array([ 0,  1,  2,  3,  4,  5,  6,  7,  8,  9, 10, 11, 12, 13, 14])"
      ]
     },
     "execution_count": 61,
     "metadata": {},
     "output_type": "execute_result"
    }
   ],
   "source": [
    "varr60 = np.arange(15)\n",
    "varr60"
   ]
  },
  {
   "cell_type": "code",
   "execution_count": 62,
   "id": "6f7c210e",
   "metadata": {
    "scrolled": false
   },
   "outputs": [
    {
     "data": {
      "text/plain": [
       "(array([ 5,  6,  7,  8,  9, 10], dtype=int64),)"
      ]
     },
     "execution_count": 62,
     "metadata": {},
     "output_type": "execute_result"
    }
   ],
   "source": [
    "varr61 = np.where((varr60>=5)&(varr60<=10))\n",
    "varr61"
   ]
  },
  {
   "cell_type": "markdown",
   "id": "967511a5",
   "metadata": {},
   "source": [
    "# How can you reverse a NumPy array?"
   ]
  },
  {
   "cell_type": "code",
   "execution_count": 34,
   "id": "367818f4",
   "metadata": {},
   "outputs": [
    {
     "name": "stdout",
     "output_type": "stream",
     "text": [
      "[[ 0  1  2  3  4  5]\n",
      " [ 6  7  8  9 10 11]\n",
      " [12 13 14 15 16 17]]\n"
     ]
    }
   ],
   "source": [
    "varr62 = np.arange(18).reshape(3,6)\n",
    "print(varr62)"
   ]
  },
  {
   "cell_type": "code",
   "execution_count": 64,
   "id": "0ed6a4eb",
   "metadata": {},
   "outputs": [
    {
     "data": {
      "text/plain": [
       "array([[12, 13, 14, 15, 16, 17],\n",
       "       [ 6,  7,  8,  9, 10, 11],\n",
       "       [ 0,  1,  2,  3,  4,  5]])"
      ]
     },
     "execution_count": 64,
     "metadata": {},
     "output_type": "execute_result"
    }
   ],
   "source": [
    "varr62[::-1,]"
   ]
  },
  {
   "cell_type": "code",
   "execution_count": 65,
   "id": "4f146e7d",
   "metadata": {
    "scrolled": true
   },
   "outputs": [
    {
     "data": {
      "text/plain": [
       "array([[ 5,  4,  3,  2,  1,  0],\n",
       "       [11, 10,  9,  8,  7,  6],\n",
       "       [17, 16, 15, 14, 13, 12]])"
      ]
     },
     "execution_count": 65,
     "metadata": {},
     "output_type": "execute_result"
    }
   ],
   "source": [
    "varr62[:,::-1]"
   ]
  },
  {
   "cell_type": "code",
   "execution_count": 35,
   "id": "0d38e43e",
   "metadata": {},
   "outputs": [
    {
     "data": {
      "text/plain": [
       "array([[17, 16, 15, 14, 13, 12],\n",
       "       [11, 10,  9,  8,  7,  6],\n",
       "       [ 5,  4,  3,  2,  1,  0]])"
      ]
     },
     "execution_count": 35,
     "metadata": {},
     "output_type": "execute_result"
    }
   ],
   "source": [
    "varr62[::-1,::-1]"
   ]
  },
  {
   "cell_type": "code",
   "execution_count": 36,
   "id": "45e2dfad",
   "metadata": {},
   "outputs": [
    {
     "name": "stdout",
     "output_type": "stream",
     "text": [
      "\n"
     ]
    },
    {
     "data": {
      "text/plain": [
       "array([17, 16, 15, 14, 13, 12, 11, 10,  9,  8,  7,  6,  5,  4,  3,  2,  1,\n",
       "        0])"
      ]
     },
     "execution_count": 36,
     "metadata": {},
     "output_type": "execute_result"
    }
   ],
   "source": [
    "varr67 = varr62.flatten()\n",
    "varr67\n",
    "print()\n",
    "varr67[::-1]"
   ]
  },
  {
   "cell_type": "code",
   "execution_count": 37,
   "id": "6f32ae16",
   "metadata": {},
   "outputs": [
    {
     "name": "stdout",
     "output_type": "stream",
     "text": [
      "[[0 1 2]\n",
      " [3 4 5]\n",
      " [6 7 8]]\n"
     ]
    }
   ],
   "source": [
    "varr62 = np.arange(9).reshape(3,3)\n",
    "print(varr62)"
   ]
  },
  {
   "cell_type": "code",
   "execution_count": 38,
   "id": "d9fdaeb2",
   "metadata": {},
   "outputs": [
    {
     "data": {
      "text/plain": [
       "array([[0, 1, 2],\n",
       "       [3, 4, 5],\n",
       "       [6, 7, 8]])"
      ]
     },
     "execution_count": 38,
     "metadata": {},
     "output_type": "execute_result"
    }
   ],
   "source": [
    "varr62"
   ]
  },
  {
   "cell_type": "code",
   "execution_count": 68,
   "id": "186323d6",
   "metadata": {},
   "outputs": [
    {
     "data": {
      "text/plain": [
       "array([[6, 7, 8],\n",
       "       [3, 4, 5],\n",
       "       [0, 1, 2]])"
      ]
     },
     "execution_count": 68,
     "metadata": {},
     "output_type": "execute_result"
    }
   ],
   "source": [
    "varr63 = np.flipud(varr62)\n",
    "varr63"
   ]
  },
  {
   "cell_type": "code",
   "execution_count": 69,
   "id": "46bca35c",
   "metadata": {},
   "outputs": [
    {
     "data": {
      "text/plain": [
       "array([2, 1, 0, 5, 4, 3, 8, 7, 6])"
      ]
     },
     "execution_count": 69,
     "metadata": {},
     "output_type": "execute_result"
    }
   ],
   "source": [
    "varr68 = varr63.ravel()\n",
    "varr68[::-1]\n"
   ]
  },
  {
   "cell_type": "markdown",
   "id": "abc75431",
   "metadata": {},
   "source": [
    "# Write a program to convert a string element to uppercase, lowercase, capitalise the first letter, title-case and swapcase of a given NumPy array."
   ]
  },
  {
   "cell_type": "code",
   "execution_count": 70,
   "id": "32dbec61",
   "metadata": {},
   "outputs": [
    {
     "name": "stdout",
     "output_type": "stream",
     "text": [
      "['i' 'love' 'NumPy' 'AND' 'interviewbit']\n",
      "\n",
      "Upper Conversion:  ['I' 'LOVE' 'NUMPY' 'AND' 'INTERVIEWBIT']\n",
      "Lower Conversion:  ['i' 'love' 'numpy' 'and' 'interviewbit']\n",
      "Capitalize First Letter Conversion:  ['I' 'Love' 'Numpy' 'And' 'Interviewbit']\n",
      "Titlecase Conversion:  ['I' 'Love' 'Numpy' 'And' 'Interviewbit']\n",
      "Swapcase Conversion:  ['I' 'LOVE' 'nUMpY' 'and' 'INTERVIEWBIT']\n"
     ]
    }
   ],
   "source": [
    "arr = np.array(['i', 'love', 'NumPy', 'AND', 'interviewbit'], dtype=str)\n",
    "print(arr)\n",
    "print()\n",
    "upper_case_arr = np.char.upper(arr)\n",
    "lower_case_arr = np.char.lower(arr)\n",
    "capitalize_case_arr = np.char.capitalize(arr)\n",
    "titlecase_arr = np.char.title(arr)\n",
    "swapcase_arr = np.char.swapcase(arr)\n",
    "\n",
    "print(\"Upper Conversion: \", upper_case_arr)\n",
    "print(\"Lower Conversion: \", lower_case_arr)\n",
    "print(\"Capitalize First Letter Conversion: \", capitalize_case_arr)\n",
    "print(\"Titlecase Conversion: \", titlecase_arr)\n",
    "print(\"Swapcase Conversion: \", swapcase_arr)"
   ]
  },
  {
   "cell_type": "markdown",
   "id": "6c611aaa",
   "metadata": {},
   "source": [
    "# Given a 4x4 Numpy matrix, how to reverse the matrix?"
   ]
  },
  {
   "cell_type": "code",
   "execution_count": 39,
   "id": "19908384",
   "metadata": {},
   "outputs": [
    {
     "name": "stdout",
     "output_type": "stream",
     "text": [
      "[[ 0  1  2  3]\n",
      " [ 4  5  6  7]\n",
      " [ 8  9 10 11]\n",
      " [12 13 14 15]]\n"
     ]
    }
   ],
   "source": [
    "varr64 = np.arange(16).reshape(4,4)\n",
    "print(varr64)"
   ]
  },
  {
   "cell_type": "code",
   "execution_count": 41,
   "id": "2cd767cc",
   "metadata": {},
   "outputs": [
    {
     "data": {
      "text/plain": [
       "array([[12, 13, 14, 15],\n",
       "       [ 8,  9, 10, 11],\n",
       "       [ 4,  5,  6,  7],\n",
       "       [ 0,  1,  2,  3]])"
      ]
     },
     "execution_count": 41,
     "metadata": {},
     "output_type": "execute_result"
    }
   ],
   "source": [
    "varr107 = np.flipud(varr64)\n",
    "varr107"
   ]
  },
  {
   "cell_type": "code",
   "execution_count": 43,
   "id": "e273c3ef",
   "metadata": {},
   "outputs": [
    {
     "data": {
      "text/plain": [
       "array([[ 3,  2,  1,  0],\n",
       "       [ 7,  6,  5,  4],\n",
       "       [11, 10,  9,  8],\n",
       "       [15, 14, 13, 12]])"
      ]
     },
     "execution_count": 43,
     "metadata": {},
     "output_type": "execute_result"
    }
   ],
   "source": [
    "varr108 = np.flip(varr64,axis = 1)\n",
    "varr108                           "
   ]
  },
  {
   "cell_type": "code",
   "execution_count": 44,
   "id": "108425e5",
   "metadata": {},
   "outputs": [
    {
     "data": {
      "text/plain": [
       "array([[12, 13, 14, 15],\n",
       "       [ 8,  9, 10, 11],\n",
       "       [ 4,  5,  6,  7],\n",
       "       [ 0,  1,  2,  3]])"
      ]
     },
     "execution_count": 44,
     "metadata": {},
     "output_type": "execute_result"
    }
   ],
   "source": [
    "varr108 = np.flip(varr64,axis = 0)\n",
    "varr108"
   ]
  },
  {
   "cell_type": "code",
   "execution_count": 46,
   "id": "bb00262f",
   "metadata": {},
   "outputs": [
    {
     "data": {
      "text/plain": [
       "array([[15, 14, 13, 12],\n",
       "       [11, 10,  9,  8],\n",
       "       [ 7,  6,  5,  4],\n",
       "       [ 3,  2,  1,  0]])"
      ]
     },
     "execution_count": 46,
     "metadata": {},
     "output_type": "execute_result"
    }
   ],
   "source": [
    "varr108 = np.flip(varr64,axis = (0,1))\n",
    "varr108"
   ]
  },
  {
   "cell_type": "code",
   "execution_count": 72,
   "id": "241e454e",
   "metadata": {},
   "outputs": [
    {
     "data": {
      "text/plain": [
       "array([[12, 13, 14, 15],\n",
       "       [ 8,  9, 10, 11],\n",
       "       [ 4,  5,  6,  7],\n",
       "       [ 0,  1,  2,  3]])"
      ]
     },
     "execution_count": 72,
     "metadata": {},
     "output_type": "execute_result"
    }
   ],
   "source": [
    "varr64[::-1]"
   ]
  },
  {
   "cell_type": "code",
   "execution_count": 73,
   "id": "9b043276",
   "metadata": {},
   "outputs": [
    {
     "data": {
      "text/plain": [
       "array([[ 3,  2,  1,  0],\n",
       "       [ 7,  6,  5,  4],\n",
       "       [11, 10,  9,  8],\n",
       "       [15, 14, 13, 12]])"
      ]
     },
     "execution_count": 73,
     "metadata": {},
     "output_type": "execute_result"
    }
   ],
   "source": [
    "varr64[:,::-1]"
   ]
  },
  {
   "cell_type": "code",
   "execution_count": 74,
   "id": "226c6996",
   "metadata": {},
   "outputs": [
    {
     "data": {
      "text/plain": [
       "array([ 0,  1,  2,  3,  4,  5,  6,  7,  8,  9, 10, 11, 12, 13, 14, 15])"
      ]
     },
     "execution_count": 74,
     "metadata": {},
     "output_type": "execute_result"
    }
   ],
   "source": [
    "varr65 = varr64.flatten()\n",
    "varr65"
   ]
  },
  {
   "cell_type": "code",
   "execution_count": 75,
   "id": "cf4084f2",
   "metadata": {},
   "outputs": [
    {
     "data": {
      "text/plain": [
       "array([15, 14, 13, 12, 11, 10,  9,  8,  7,  6,  5,  4,  3,  2,  1,  0])"
      ]
     },
     "execution_count": 75,
     "metadata": {},
     "output_type": "execute_result"
    }
   ],
   "source": [
    "varr65[::-1]"
   ]
  },
  {
   "cell_type": "code",
   "execution_count": 76,
   "id": "1e36cf5f",
   "metadata": {},
   "outputs": [
    {
     "data": {
      "text/plain": [
       "array([ 0,  1,  2,  3,  4,  5,  6,  7,  8,  9, 10, 11, 12, 13, 14, 15])"
      ]
     },
     "execution_count": 76,
     "metadata": {},
     "output_type": "execute_result"
    }
   ],
   "source": [
    "varr66 = varr64.ravel()\n",
    "varr66"
   ]
  },
  {
   "cell_type": "markdown",
   "id": "f6f29129",
   "metadata": {},
   "source": [
    "# How do you multiply two matrices?"
   ]
  },
  {
   "cell_type": "code",
   "execution_count": 77,
   "id": "59abe3d0",
   "metadata": {},
   "outputs": [],
   "source": [
    "varr67 = np.arange(9).reshape(3,3)\n",
    "varr68 = np.arange(10,19).reshape(3,3)"
   ]
  },
  {
   "cell_type": "code",
   "execution_count": 78,
   "id": "4da6ec05",
   "metadata": {},
   "outputs": [
    {
     "name": "stdout",
     "output_type": "stream",
     "text": [
      "[[0 1 2]\n",
      " [3 4 5]\n",
      " [6 7 8]]\n"
     ]
    }
   ],
   "source": [
    "print(varr67)"
   ]
  },
  {
   "cell_type": "code",
   "execution_count": 79,
   "id": "21272754",
   "metadata": {},
   "outputs": [
    {
     "name": "stdout",
     "output_type": "stream",
     "text": [
      "[[10 11 12]\n",
      " [13 14 15]\n",
      " [16 17 18]]\n"
     ]
    }
   ],
   "source": [
    "print(varr68)"
   ]
  },
  {
   "cell_type": "code",
   "execution_count": 80,
   "id": "9cf42433",
   "metadata": {},
   "outputs": [
    {
     "data": {
      "text/plain": [
       "array([[ 45,  48,  51],\n",
       "       [162, 174, 186],\n",
       "       [279, 300, 321]])"
      ]
     },
     "execution_count": 80,
     "metadata": {},
     "output_type": "execute_result"
    }
   ],
   "source": [
    "varr69 = varr67.dot(varr68)\n",
    "varr69"
   ]
  },
  {
   "cell_type": "markdown",
   "id": "344baebe",
   "metadata": {},
   "source": [
    "# How to make a python function that handle scalers to work on numpy arrays?\n",
    "convert the function maxx that works on two  scaler, two work on the two array"
   ]
  },
  {
   "cell_type": "code",
   "execution_count": 47,
   "id": "83f71728",
   "metadata": {},
   "outputs": [],
   "source": [
    "varr70 = np.array([4,5,6,7,8,9])\n",
    "varr71 = np.array([5,7,8,3,2,6])"
   ]
  },
  {
   "cell_type": "code",
   "execution_count": 48,
   "id": "4379258d",
   "metadata": {},
   "outputs": [
    {
     "data": {
      "text/plain": [
       "array([5., 7., 8., 7., 8., 9.])"
      ]
     },
     "execution_count": 48,
     "metadata": {},
     "output_type": "execute_result"
    }
   ],
   "source": [
    "def maxx(varr70,varr71):\n",
    "    if varr70 >= varr71:\n",
    "        return varr70\n",
    "    else:\n",
    "        return varr71\n",
    "pair_max = np.vectorize(maxx,otypes=[float]) \n",
    "pair_max(varr70,varr71)"
   ]
  },
  {
   "cell_type": "code",
   "execution_count": 49,
   "id": "4e140f79",
   "metadata": {},
   "outputs": [
    {
     "data": {
      "text/plain": [
       "array([4., 5., 6., 3., 2., 6.])"
      ]
     },
     "execution_count": 49,
     "metadata": {},
     "output_type": "execute_result"
    }
   ],
   "source": [
    "def maxx(varr70,varr71):\n",
    "    if varr71 >= varr70:\n",
    "        return varr71\n",
    "    else:\n",
    "        return varr70\n",
    "pair_max = np.vectorize(min,otypes=[float]) \n",
    "pair_max(varr70,varr71)"
   ]
  },
  {
   "cell_type": "markdown",
   "id": "9e03ce23",
   "metadata": {},
   "source": [
    "# swap columns 1 and 2 in array"
   ]
  },
  {
   "cell_type": "code",
   "execution_count": 50,
   "id": "d6e8ae39",
   "metadata": {
    "scrolled": true
   },
   "outputs": [
    {
     "name": "stdout",
     "output_type": "stream",
     "text": [
      "[[0 1 2]\n",
      " [3 4 5]\n",
      " [6 7 8]]\n"
     ]
    }
   ],
   "source": [
    "varr72 = np.arange(9).reshape(3,3)\n",
    "print(varr72)"
   ]
  },
  {
   "cell_type": "code",
   "execution_count": 61,
   "id": "651a5210",
   "metadata": {
    "scrolled": true
   },
   "outputs": [
    {
     "data": {
      "text/plain": [
       "array([[0, 3, 6],\n",
       "       [1, 4, 7],\n",
       "       [2, 5, 8]])"
      ]
     },
     "execution_count": 61,
     "metadata": {},
     "output_type": "execute_result"
    }
   ],
   "source": [
    "varr108 = np.swapaxes(varr72,0,1)\n",
    "varr108"
   ]
  },
  {
   "cell_type": "code",
   "execution_count": 97,
   "id": "7ba75c7d",
   "metadata": {},
   "outputs": [
    {
     "data": {
      "text/plain": [
       "array([[1, 0, 2],\n",
       "       [4, 3, 5],\n",
       "       [7, 6, 8]])"
      ]
     },
     "execution_count": 97,
     "metadata": {},
     "output_type": "execute_result"
    }
   ],
   "source": [
    "varr72[:,[1,0,2]]"
   ]
  },
  {
   "cell_type": "markdown",
   "id": "0eb9a669",
   "metadata": {},
   "source": [
    "# swap rows 1 and 2 in array"
   ]
  },
  {
   "cell_type": "code",
   "execution_count": 101,
   "id": "3bfa0e43",
   "metadata": {},
   "outputs": [
    {
     "data": {
      "text/plain": [
       "array([[3, 4, 5],\n",
       "       [0, 1, 2],\n",
       "       [6, 7, 8]])"
      ]
     },
     "execution_count": 101,
     "metadata": {},
     "output_type": "execute_result"
    }
   ],
   "source": [
    "varr72[[1,0,2], :]"
   ]
  },
  {
   "cell_type": "code",
   "execution_count": 102,
   "id": "61f5a1d3",
   "metadata": {},
   "outputs": [
    {
     "data": {
      "text/plain": [
       "array([[6, 7, 8],\n",
       "       [0, 1, 2],\n",
       "       [3, 4, 5]])"
      ]
     },
     "execution_count": 102,
     "metadata": {},
     "output_type": "execute_result"
    }
   ],
   "source": [
    "varr72[[2,0,1], :]"
   ]
  },
  {
   "cell_type": "code",
   "execution_count": 103,
   "id": "a9478a0b",
   "metadata": {},
   "outputs": [
    {
     "data": {
      "text/plain": [
       "array([[6, 7, 8],\n",
       "       [3, 4, 5],\n",
       "       [0, 1, 2]])"
      ]
     },
     "execution_count": 103,
     "metadata": {},
     "output_type": "execute_result"
    }
   ],
   "source": [
    "varr72[[2,1,0], :]"
   ]
  },
  {
   "cell_type": "markdown",
   "id": "2d884a7e",
   "metadata": {},
   "source": [
    "# reverse the rows of 2d  array"
   ]
  },
  {
   "cell_type": "code",
   "execution_count": 105,
   "id": "d09a215a",
   "metadata": {},
   "outputs": [
    {
     "data": {
      "text/plain": [
       "array([0, 1, 2, 3, 4, 5, 6, 7, 8])"
      ]
     },
     "execution_count": 105,
     "metadata": {},
     "output_type": "execute_result"
    }
   ],
   "source": [
    "varr73 = varr72.flatten()\n",
    "varr73"
   ]
  },
  {
   "cell_type": "code",
   "execution_count": 106,
   "id": "2a93af81",
   "metadata": {},
   "outputs": [
    {
     "data": {
      "text/plain": [
       "array([8, 7, 6, 5, 4, 3, 2, 1, 0])"
      ]
     },
     "execution_count": 106,
     "metadata": {},
     "output_type": "execute_result"
    }
   ],
   "source": [
    "varr73[::-1]"
   ]
  },
  {
   "cell_type": "code",
   "execution_count": 109,
   "id": "dfa3b708",
   "metadata": {},
   "outputs": [
    {
     "data": {
      "text/plain": [
       "array([[8, 7, 6],\n",
       "       [5, 4, 3],\n",
       "       [2, 1, 0]])"
      ]
     },
     "execution_count": 109,
     "metadata": {},
     "output_type": "execute_result"
    }
   ],
   "source": [
    "varr74 = varr73[::-1].reshape(3,3)\n",
    "varr74"
   ]
  },
  {
   "cell_type": "code",
   "execution_count": 110,
   "id": "7979585d",
   "metadata": {},
   "outputs": [
    {
     "data": {
      "text/plain": [
       "array([[6, 7, 8],\n",
       "       [3, 4, 5],\n",
       "       [0, 1, 2]])"
      ]
     },
     "execution_count": 110,
     "metadata": {},
     "output_type": "execute_result"
    }
   ],
   "source": [
    "varr72[::-1]"
   ]
  },
  {
   "cell_type": "markdown",
   "id": "27bfacd2",
   "metadata": {},
   "source": [
    "# reverse theb columns  of 2d  array"
   ]
  },
  {
   "cell_type": "code",
   "execution_count": 112,
   "id": "7215f1c8",
   "metadata": {},
   "outputs": [
    {
     "data": {
      "text/plain": [
       "array([[2, 1, 0],\n",
       "       [5, 4, 3],\n",
       "       [8, 7, 6]])"
      ]
     },
     "execution_count": 112,
     "metadata": {},
     "output_type": "execute_result"
    }
   ],
   "source": [
    "varr72[:,::-1]"
   ]
  },
  {
   "cell_type": "markdown",
   "id": "47805512",
   "metadata": {},
   "source": [
    "# create 2D array of shape 5*3 to contains random  decimal  number between 5 & 10"
   ]
  },
  {
   "cell_type": "code",
   "execution_count": 51,
   "id": "d381ecad",
   "metadata": {},
   "outputs": [
    {
     "name": "stdout",
     "output_type": "stream",
     "text": [
      "[[7 9 8]\n",
      " [5 6 7]\n",
      " [8 8 8]\n",
      " [6 9 6]\n",
      " [5 8 6]]\n",
      "\n",
      "[[7.5434459  9.93004971 8.54103223]\n",
      " [5.41052292 6.51660913 7.92844213]\n",
      " [8.27151732 8.94623653 8.72483995]\n",
      " [6.6533692  9.71959081 6.69742495]\n",
      " [5.95839557 8.60805137 6.10228249]]\n"
     ]
    }
   ],
   "source": [
    "varr75 = np.random.randint(low = 5, high = 10, size = (5,3))\n",
    "print(varr75)\n",
    "print()\n",
    "varr76 = varr75 + np.random.random((5,3))\n",
    "print(varr76)"
   ]
  },
  {
   "cell_type": "markdown",
   "id": "8e9a6e5a",
   "metadata": {},
   "source": [
    "# print or show only 3 decimal place in numpy array"
   ]
  },
  {
   "cell_type": "code",
   "execution_count": 52,
   "id": "b9d2019b",
   "metadata": {},
   "outputs": [
    {
     "data": {
      "text/plain": [
       "array([[0.8515782 , 0.79437305, 0.21651134],\n",
       "       [0.9986124 , 0.24453425, 0.53549709],\n",
       "       [0.48512895, 0.46839319, 0.37269819],\n",
       "       [0.92725781, 0.58723655, 0.4765325 ],\n",
       "       [0.70752949, 0.07476234, 0.04772788]])"
      ]
     },
     "execution_count": 52,
     "metadata": {},
     "output_type": "execute_result"
    }
   ],
   "source": [
    "varr78 = np.random.random((5,3))\n",
    "varr78"
   ]
  },
  {
   "cell_type": "code",
   "execution_count": 65,
   "id": "ee6c9ac6",
   "metadata": {},
   "outputs": [
    {
     "data": {
      "text/plain": [
       "array([[4.23144746e-01, 2.65727312e-01, 1.26217527e-01],\n",
       "       [4.84958580e-01, 9.52304909e-01, 2.34189113e-01],\n",
       "       [9.30070214e-01, 2.68879541e-01, 9.41640941e-01],\n",
       "       [7.55701526e-01, 4.68724532e-02, 6.32278673e-01],\n",
       "       [2.27860659e-04, 1.40588674e-01, 1.97798920e-01]])"
      ]
     },
     "execution_count": 65,
     "metadata": {},
     "output_type": "execute_result"
    }
   ],
   "source": [
    "varr79 = np.random.random([5,3])\n",
    "varr79"
   ]
  },
  {
   "cell_type": "code",
   "execution_count": 66,
   "id": "1126282b",
   "metadata": {},
   "outputs": [
    {
     "data": {
      "text/plain": [
       "array([[0.852, 0.794, 0.217],\n",
       "       [0.999, 0.245, 0.535],\n",
       "       [0.485, 0.468, 0.373],\n",
       "       [0.927, 0.587, 0.477],\n",
       "       [0.708, 0.075, 0.048]])"
      ]
     },
     "execution_count": 66,
     "metadata": {},
     "output_type": "execute_result"
    }
   ],
   "source": [
    "varr80 = np.around(varr78,decimals=3)\n",
    "varr80"
   ]
  },
  {
   "cell_type": "markdown",
   "id": "3cde020c",
   "metadata": {},
   "source": [
    "# max"
   ]
  },
  {
   "cell_type": "code",
   "execution_count": 68,
   "id": "5d79db17",
   "metadata": {},
   "outputs": [
    {
     "data": {
      "text/plain": [
       "0.999"
      ]
     },
     "execution_count": 68,
     "metadata": {},
     "output_type": "execute_result"
    }
   ],
   "source": [
    "ar = np.max(varr80)\n",
    "ar"
   ]
  },
  {
   "cell_type": "code",
   "execution_count": 69,
   "id": "45655f09",
   "metadata": {},
   "outputs": [
    {
     "data": {
      "text/plain": [
       "0.048"
      ]
     },
     "execution_count": 69,
     "metadata": {},
     "output_type": "execute_result"
    }
   ],
   "source": [
    "ar = np.min(varr80)\n",
    "ar"
   ]
  },
  {
   "cell_type": "markdown",
   "id": "d0a767e4",
   "metadata": {},
   "source": [
    "# second method"
   ]
  },
  {
   "cell_type": "code",
   "execution_count": 178,
   "id": "174d768c",
   "metadata": {},
   "outputs": [
    {
     "data": {
      "text/plain": [
       "array([[0.333, 0.748, 0.123],\n",
       "       [0.774, 0.351, 0.444],\n",
       "       [0.752, 0.973, 0.575],\n",
       "       [0.492, 0.601, 0.768],\n",
       "       [0.947, 0.142, 0.36 ]])"
      ]
     },
     "execution_count": 178,
     "metadata": {},
     "output_type": "execute_result"
    }
   ],
   "source": [
    "varr81 = np.random.random([5,3])\n",
    "np.set_printoptions(precision=3)\n",
    "varr81"
   ]
  },
  {
   "cell_type": "code",
   "execution_count": 182,
   "id": "a1d1c7f1",
   "metadata": {},
   "outputs": [
    {
     "name": "stdout",
     "output_type": "stream",
     "text": [
      "[[ 1  2  3  4  5]\n",
      " [ 6  7  8  9 10]]\n"
     ]
    }
   ],
   "source": [
    "arr = np.array([[1,2,3,4,5],[6,7,8,9,10]])\n",
    "print(arr)"
   ]
  },
  {
   "cell_type": "code",
   "execution_count": 183,
   "id": "3a6e1c68",
   "metadata": {},
   "outputs": [
    {
     "data": {
      "text/plain": [
       "8"
      ]
     },
     "execution_count": 183,
     "metadata": {},
     "output_type": "execute_result"
    }
   ],
   "source": [
    "arr[1,2]"
   ]
  },
  {
   "cell_type": "code",
   "execution_count": 185,
   "id": "3635ce56",
   "metadata": {},
   "outputs": [
    {
     "data": {
      "text/plain": [
       "array([[ 6,  7,  8,  9, 10],\n",
       "       [ 1,  2,  3,  4,  5]])"
      ]
     },
     "execution_count": 185,
     "metadata": {},
     "output_type": "execute_result"
    }
   ],
   "source": [
    "arr[::-1]"
   ]
  },
  {
   "cell_type": "code",
   "execution_count": 186,
   "id": "60f64f2f",
   "metadata": {},
   "outputs": [
    {
     "data": {
      "text/plain": [
       "(2, 5)"
      ]
     },
     "execution_count": 186,
     "metadata": {},
     "output_type": "execute_result"
    }
   ],
   "source": [
    "arr.shape"
   ]
  }
 ],
 "metadata": {
  "kernelspec": {
   "display_name": "Python 3 (ipykernel)",
   "language": "python",
   "name": "python3"
  },
  "language_info": {
   "codemirror_mode": {
    "name": "ipython",
    "version": 3
   },
   "file_extension": ".py",
   "mimetype": "text/x-python",
   "name": "python",
   "nbconvert_exporter": "python",
   "pygments_lexer": "ipython3",
   "version": "3.9.12"
  }
 },
 "nbformat": 4,
 "nbformat_minor": 5
}
