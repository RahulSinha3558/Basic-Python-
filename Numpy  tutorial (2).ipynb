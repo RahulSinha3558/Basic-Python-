{
 "cells": [
  {
   "cell_type": "code",
   "execution_count": 1,
   "id": "71ce0f49",
   "metadata": {},
   "outputs": [],
   "source": [
    "import numpy as np"
   ]
  },
  {
   "cell_type": "markdown",
   "id": "40b437d6",
   "metadata": {},
   "source": [
    "# %timeit == for one line \n",
    "%% time it === for programme         timeit function is used to check for code running  timing "
   ]
  },
  {
   "cell_type": "code",
   "execution_count": 2,
   "id": "5f4ed920",
   "metadata": {
    "scrolled": true
   },
   "outputs": [
    {
     "name": "stdout",
     "output_type": "stream",
     "text": [
      "875 ns ± 53 ns per loop (mean ± std. dev. of 7 runs, 1,000,000 loops each)\n"
     ]
    }
   ],
   "source": [
    "%timeit  arr= np.array([1,2,3,4])\n",
    "#print(arr)"
   ]
  },
  {
   "cell_type": "code",
   "execution_count": 3,
   "id": "e2fc65a5",
   "metadata": {},
   "outputs": [
    {
     "name": "stdout",
     "output_type": "stream",
     "text": [
      "65.6 ns ± 3.13 ns per loop (mean ± std. dev. of 7 runs, 10,000,000 loops each)\n"
     ]
    }
   ],
   "source": [
    "%timeit  y = [1,2,3,4]\n",
    "#print(y)"
   ]
  },
  {
   "cell_type": "code",
   "execution_count": 4,
   "id": "9c29c966",
   "metadata": {},
   "outputs": [],
   "source": [
    "#print(type(x))"
   ]
  },
  {
   "cell_type": "code",
   "execution_count": 5,
   "id": "29773601",
   "metadata": {},
   "outputs": [],
   "source": [
    "#print(type(y))"
   ]
  },
  {
   "cell_type": "code",
   "execution_count": 6,
   "id": "03f068c8",
   "metadata": {},
   "outputs": [
    {
     "name": "stdout",
     "output_type": "stream",
     "text": [
      "1.43 µs ± 31.1 ns per loop (mean ± std. dev. of 7 runs, 1,000,000 loops each)\n"
     ]
    }
   ],
   "source": [
    "%timeit np.arange(1,9)**4"
   ]
  },
  {
   "cell_type": "markdown",
   "id": "eae01cc1",
   "metadata": {},
   "source": [
    "# Creating Numpy arrays"
   ]
  },
  {
   "cell_type": "code",
   "execution_count": 7,
   "id": "eea96563",
   "metadata": {},
   "outputs": [],
   "source": [
    "import numpy as np"
   ]
  },
  {
   "cell_type": "code",
   "execution_count": 8,
   "id": "438439d7",
   "metadata": {},
   "outputs": [
    {
     "name": "stdout",
     "output_type": "stream",
     "text": [
      "[1 2 3]\n",
      "\n",
      "1\n"
     ]
    }
   ],
   "source": [
    "x = [1,2,3]\n",
    "#a  = np.array([1,2,3])\n",
    "a  = np.array(x)\n",
    "print(a)\n",
    "print()\n",
    "print(a.ndim)"
   ]
  },
  {
   "cell_type": "markdown",
   "id": "914c9ea8",
   "metadata": {},
   "source": [
    "# create a 3*3 numpy array of all True"
   ]
  },
  {
   "cell_type": "code",
   "execution_count": 9,
   "id": "7d0101c1",
   "metadata": {
    "scrolled": true
   },
   "outputs": [
    {
     "data": {
      "text/plain": [
       "array([[ True,  True,  True],\n",
       "       [ True,  True,  True],\n",
       "       [ True,  True,  True]])"
      ]
     },
     "execution_count": 9,
     "metadata": {},
     "output_type": "execute_result"
    }
   ],
   "source": [
    "np.ones((3,3),dtype = bool)"
   ]
  },
  {
   "cell_type": "code",
   "execution_count": 10,
   "id": "2a1f5ce9",
   "metadata": {},
   "outputs": [
    {
     "name": "stdout",
     "output_type": "stream",
     "text": [
      "[[1 2 3 4]\n",
      " [5 6 7 8]]\n",
      "\n",
      "2\n",
      "\n",
      "(2, 4)\n"
     ]
    }
   ],
   "source": [
    "arr2 = np.array([[1,2,3,4],[5,6,7,8]])\n",
    "print(arr2)\n",
    "print()\n",
    "print(arr2.ndim)\n",
    "print()\n",
    "print(arr2.shape)"
   ]
  },
  {
   "cell_type": "code",
   "execution_count": 11,
   "id": "f9ca3594",
   "metadata": {},
   "outputs": [
    {
     "name": "stdout",
     "output_type": "stream",
     "text": [
      "[[[1 2 3 4]\n",
      "  [5 6 7 8]\n",
      "  [9 0 1 2]]]\n",
      "3\n",
      "(1, 3, 4)\n"
     ]
    }
   ],
   "source": [
    "arr3 = np.array([[[1,2,3,4],[5,6,7,8],[9,0,1,2]]])\n",
    "print(arr3)\n",
    "print(arr3.ndim)\n",
    "print(arr3.shape)"
   ]
  },
  {
   "cell_type": "markdown",
   "id": "d1b1790d",
   "metadata": {},
   "source": [
    "# How to you find ndimensional array"
   ]
  },
  {
   "cell_type": "code",
   "execution_count": 12,
   "id": "7f18f12b",
   "metadata": {},
   "outputs": [
    {
     "name": "stdout",
     "output_type": "stream",
     "text": [
      "[[[[[[[[[[1 2 4 6]]]]]]]]]]\n",
      "10\n",
      "(1, 1, 1, 1, 1, 1, 1, 1, 1, 4)\n"
     ]
    }
   ],
   "source": [
    "arrn = np.array([1,2,4,6],ndmin = 10)\n",
    "print(arrn)\n",
    "print(arrn.ndim)\n",
    "print(arrn.shape)"
   ]
  },
  {
   "cell_type": "code",
   "execution_count": 13,
   "id": "01098139",
   "metadata": {},
   "outputs": [
    {
     "name": "stdout",
     "output_type": "stream",
     "text": [
      "[[[[[[[[[[[[[[[[1 5 8 9]]]]]]]]]]]]]]]]\n",
      "16\n",
      "(1, 1, 1, 1, 1, 1, 1, 1, 1, 1, 1, 1, 1, 1, 1, 4)\n"
     ]
    }
   ],
   "source": [
    "arrn = np.array([1,5,8,9],ndmin = 16)\n",
    "print(arrn)\n",
    "print(arrn.ndim)\n",
    "print(arrn.shape)"
   ]
  },
  {
   "cell_type": "code",
   "execution_count": 14,
   "id": "4959b3a7",
   "metadata": {},
   "outputs": [
    {
     "name": "stdout",
     "output_type": "stream",
     "text": [
      "[1 2 4 6]\n",
      "1\n"
     ]
    }
   ],
   "source": [
    "arrn = np.array([1,2,4,6],ndmin = 1)\n",
    "print(arrn)\n",
    "print(arrn.ndim)"
   ]
  },
  {
   "cell_type": "code",
   "execution_count": 15,
   "id": "ddedb260",
   "metadata": {},
   "outputs": [
    {
     "name": "stdout",
     "output_type": "stream",
     "text": [
      "[[[[[[[[[[[[[[[[[[[[2 4 5 7]]]]]]]]]]]]]]]]]]]]\n",
      "20\n"
     ]
    }
   ],
   "source": [
    "arrn2 = np.array([2,4,5,7],ndmin = 20)\n",
    "print(arrn2)\n",
    "print(arrn2.ndim)"
   ]
  },
  {
   "cell_type": "markdown",
   "id": "3a97e621",
   "metadata": {},
   "source": [
    "# special type of array(fileld fith spevcific array)"
   ]
  },
  {
   "cell_type": "markdown",
   "id": "a5075c89",
   "metadata": {},
   "source": [
    "# Create Numpy Arry using numpy function"
   ]
  },
  {
   "cell_type": "markdown",
   "id": "82e224ea",
   "metadata": {},
   "source": [
    "# zero array"
   ]
  },
  {
   "cell_type": "code",
   "execution_count": 16,
   "id": "9aa4145f",
   "metadata": {},
   "outputs": [],
   "source": [
    "import numpy as np"
   ]
  },
  {
   "cell_type": "code",
   "execution_count": 17,
   "id": "49c4d7c6",
   "metadata": {},
   "outputs": [
    {
     "name": "stdout",
     "output_type": "stream",
     "text": [
      "[0. 0. 0. 0.]\n",
      "\n",
      "[[False False False False]\n",
      " [False False False False]\n",
      " [False False False False]]\n"
     ]
    }
   ],
   "source": [
    "arr_zero = np.zeros(4) \n",
    "arr_zeros1 = np.zeros((3,4),dtype = bool )\n",
    "print(arr_zero)\n",
    "print()\n",
    "print(arr_zeros1)"
   ]
  },
  {
   "cell_type": "code",
   "execution_count": 18,
   "id": "ada5cfd9",
   "metadata": {},
   "outputs": [
    {
     "name": "stdout",
     "output_type": "stream",
     "text": [
      "[[0. 0. 0.]\n",
      " [0. 0. 0.]\n",
      " [0. 0. 0.]]\n"
     ]
    }
   ],
   "source": [
    "arr_zeros1 = np.zeros((3,3))\n",
    "print(arr_zeros1)"
   ]
  },
  {
   "cell_type": "markdown",
   "id": "946f3bda",
   "metadata": {},
   "source": [
    "# One array"
   ]
  },
  {
   "cell_type": "code",
   "execution_count": 19,
   "id": "b7de1559",
   "metadata": {},
   "outputs": [
    {
     "name": "stdout",
     "output_type": "stream",
     "text": [
      "[1. 1. 1. 1.]\n"
     ]
    }
   ],
   "source": [
    "arr_one = np.ones(4)\n",
    "print(arr_one)"
   ]
  },
  {
   "cell_type": "code",
   "execution_count": 20,
   "id": "93e30392",
   "metadata": {},
   "outputs": [
    {
     "name": "stdout",
     "output_type": "stream",
     "text": [
      "[1 1 1 1 1]\n",
      "\n",
      "[[1 1]\n",
      " [1 1]\n",
      " [1 1]]\n"
     ]
    }
   ],
   "source": [
    "arr_one = np.ones(5, dtype=\"i\")\n",
    "print(arr_one)\n",
    "print()\n",
    "arr2 = np.ones((3,2),dtype=\"i\")\n",
    "print(arr2)"
   ]
  },
  {
   "cell_type": "code",
   "execution_count": 21,
   "id": "fae8580f",
   "metadata": {},
   "outputs": [
    {
     "name": "stdout",
     "output_type": "stream",
     "text": [
      "[1 1 1]\n"
     ]
    }
   ],
   "source": [
    "arr_one = np.ones(3, dtype=\"i\",order=\"F\")\n",
    "print(arr_one)"
   ]
  },
  {
   "cell_type": "markdown",
   "id": "3def9c6b",
   "metadata": {},
   "source": [
    "# Empty array1"
   ]
  },
  {
   "cell_type": "code",
   "execution_count": 22,
   "id": "0c33224a",
   "metadata": {},
   "outputs": [
    {
     "name": "stdout",
     "output_type": "stream",
     "text": [
      "[4.24399158e-314 8.48798317e-314 1.27319747e-313 1.69759663e-313]\n"
     ]
    }
   ],
   "source": [
    "arr_em=np.empty(4)\n",
    "print(arr_em)"
   ]
  },
  {
   "cell_type": "markdown",
   "id": "b3d298c0",
   "metadata": {},
   "source": [
    "# range "
   ]
  },
  {
   "cell_type": "code",
   "execution_count": 23,
   "id": "83a6621f",
   "metadata": {},
   "outputs": [
    {
     "name": "stdout",
     "output_type": "stream",
     "text": [
      "[0 1 2 3]\n"
     ]
    }
   ],
   "source": [
    "arr_rn = np.arange(4)\n",
    "print(arr_rn)"
   ]
  },
  {
   "cell_type": "markdown",
   "id": "b78f6645",
   "metadata": {},
   "source": [
    "# Dignoal elemengt"
   ]
  },
  {
   "cell_type": "code",
   "execution_count": 24,
   "id": "25ac4139",
   "metadata": {},
   "outputs": [
    {
     "name": "stdout",
     "output_type": "stream",
     "text": [
      "[[1. 0. 0.]\n",
      " [0. 1. 0.]\n",
      " [0. 0. 1.]]\n"
     ]
    }
   ],
   "source": [
    "arr_dia = np.eye(3)\n",
    "print(arr_dia)"
   ]
  },
  {
   "cell_type": "code",
   "execution_count": 25,
   "id": "bf82210b",
   "metadata": {},
   "outputs": [
    {
     "name": "stdout",
     "output_type": "stream",
     "text": [
      "[[1. 0. 0. 0. 0.]\n",
      " [0. 1. 0. 0. 0.]\n",
      " [0. 0. 1. 0. 0.]]\n"
     ]
    }
   ],
   "source": [
    "arr_dia = np.eye(3,5)\n",
    "print(arr_dia)"
   ]
  },
  {
   "cell_type": "code",
   "execution_count": 26,
   "id": "0eb9f42a",
   "metadata": {},
   "outputs": [
    {
     "name": "stdout",
     "output_type": "stream",
     "text": [
      "[[1. 0. 0. 0. 0.]\n",
      " [0. 1. 0. 0. 0.]\n",
      " [0. 0. 1. 0. 0.]\n",
      " [0. 0. 0. 1. 0.]]\n"
     ]
    }
   ],
   "source": [
    "arr_dia = np.eye(4,5)\n",
    "print(arr_dia)"
   ]
  },
  {
   "cell_type": "code",
   "execution_count": 27,
   "id": "f4afe63a",
   "metadata": {
    "scrolled": true
   },
   "outputs": [
    {
     "name": "stdout",
     "output_type": "stream",
     "text": [
      "[[1. 0. 0. 0. 0. 0.]\n",
      " [0. 1. 0. 0. 0. 0.]\n",
      " [0. 0. 1. 0. 0. 0.]\n",
      " [0. 0. 0. 1. 0. 0.]]\n"
     ]
    }
   ],
   "source": [
    "arr_dia = np.eye(4,6, dtype=\"f\")\n",
    "print(arr_dia)"
   ]
  },
  {
   "cell_type": "markdown",
   "id": "32021739",
   "metadata": {},
   "source": [
    "# linespace function"
   ]
  },
  {
   "cell_type": "code",
   "execution_count": 28,
   "id": "edf3ba54",
   "metadata": {},
   "outputs": [
    {
     "name": "stdout",
     "output_type": "stream",
     "text": [
      "[ 0.   2.5  5.   7.5 10. ]\n"
     ]
    }
   ],
   "source": [
    "arr_lin = np.linspace(0,10,num = 5)\n",
    "print(arr_lin)"
   ]
  },
  {
   "cell_type": "code",
   "execution_count": 29,
   "id": "3522b8b7",
   "metadata": {},
   "outputs": [
    {
     "name": "stdout",
     "output_type": "stream",
     "text": [
      "[ 0  5 10 15 20]\n",
      "data type : int32\n",
      "\n",
      "find dim is  int32\n"
     ]
    }
   ],
   "source": [
    "arr_lin = np.linspace(0,20,num = 5, dtype=\"i\")\n",
    "print(arr_lin)\n",
    "print(\"data type :\",arr_lin.dtype)\n",
    "print()\n",
    "print(\"find dim is \",arr_lin.dtype)"
   ]
  },
  {
   "cell_type": "code",
   "execution_count": 30,
   "id": "7a80eb15",
   "metadata": {},
   "outputs": [
    {
     "name": "stdout",
     "output_type": "stream",
     "text": [
      "[ 0.          6.66666667 13.33333333 20.        ]\n"
     ]
    }
   ],
   "source": [
    "arr_lin = np.linspace(0,20,num = 4)\n",
    "print(arr_lin)"
   ]
  },
  {
   "cell_type": "code",
   "execution_count": 31,
   "id": "984d03cc",
   "metadata": {},
   "outputs": [
    {
     "name": "stdout",
     "output_type": "stream",
     "text": [
      "[ 0  2  4  6  8 11 13 15 17 20]\n",
      "<class 'numpy.ndarray'>\n",
      "1\n",
      "dtpe int32\n"
     ]
    }
   ],
   "source": [
    "arr_lin = np.linspace(0,20,num = 10,dtype=\"i\")\n",
    "print(arr_lin)\n",
    "print(type(arr_lin ))\n",
    "print(arr_lin.ndim )\n",
    "print(\"dtpe\",arr_lin.dtype)"
   ]
  },
  {
   "cell_type": "code",
   "execution_count": 32,
   "id": "e1e60ed5",
   "metadata": {},
   "outputs": [
    {
     "name": "stdout",
     "output_type": "stream",
     "text": [
      "[ 0.          2.22222222  4.44444444  6.66666667  8.88888889 11.11111111\n",
      " 13.33333333 15.55555556 17.77777778 20.        ]\n",
      "<class 'numpy.ndarray'>\n",
      "1\n"
     ]
    }
   ],
   "source": [
    "arr_lin1 = np.linspace(0,20,num = 10)\n",
    "print(arr_lin1)\n",
    "print(type(arr_lin1))\n",
    "print(arr_lin1.ndim )"
   ]
  },
  {
   "cell_type": "markdown",
   "id": "d3b06aa9",
   "metadata": {},
   "source": [
    "# Creating Random Value Arrays"
   ]
  },
  {
   "cell_type": "markdown",
   "id": "d4d04d49",
   "metadata": {},
   "source": [
    "# Random"
   ]
  },
  {
   "cell_type": "markdown",
   "id": "12ae0ca1",
   "metadata": {},
   "source": [
    "# Rand()"
   ]
  },
  {
   "cell_type": "code",
   "execution_count": 199,
   "id": "d4352b47",
   "metadata": {},
   "outputs": [
    {
     "name": "stdout",
     "output_type": "stream",
     "text": [
      "[0.67645419 0.1151861  0.95798068 0.09171332 0.62979647]\n"
     ]
    }
   ],
   "source": [
    "var = np.random.rand(5)\n",
    "print(var)"
   ]
  },
  {
   "cell_type": "code",
   "execution_count": 207,
   "id": "832719b2",
   "metadata": {
    "scrolled": true
   },
   "outputs": [
    {
     "name": "stdout",
     "output_type": "stream",
     "text": [
      "[[0.73867458 0.64148666 0.25215639 0.47580894 0.26805668]\n",
      " [0.86826055 0.26688898 0.9730157  0.21355595 0.2977747 ]]\n"
     ]
    }
   ],
   "source": [
    "var1 = np.random.rand(2,5)\n",
    "print(var1)"
   ]
  },
  {
   "cell_type": "code",
   "execution_count": 222,
   "id": "aea862f3",
   "metadata": {},
   "outputs": [
    {
     "name": "stdout",
     "output_type": "stream",
     "text": [
      "[[0.03111353 0.96101466 0.41902148]\n",
      " [0.37389271 0.50548305 0.04714255]\n",
      " [0.72915418 0.09262904 0.97565313]\n",
      " [0.41194036 0.78780219 0.9674221 ]]\n"
     ]
    }
   ],
   "source": [
    "var1 = np.random.rand(4,3)\n",
    "print(var1)"
   ]
  },
  {
   "cell_type": "markdown",
   "id": "e2f5a05c",
   "metadata": {},
   "source": [
    "# randn()"
   ]
  },
  {
   "cell_type": "code",
   "execution_count": 275,
   "id": "ba557358",
   "metadata": {},
   "outputs": [
    {
     "name": "stdout",
     "output_type": "stream",
     "text": [
      "[-0.29032639 -0.17798034  0.76130187 -0.68198302 -1.56474201]\n"
     ]
    }
   ],
   "source": [
    "var2 = np.random.randn(5)\n",
    "print(var2)"
   ]
  },
  {
   "cell_type": "code",
   "execution_count": 310,
   "id": "37571ade",
   "metadata": {},
   "outputs": [
    {
     "name": "stdout",
     "output_type": "stream",
     "text": [
      "[[ 1.11550304e+00  7.87609210e-01  4.10103933e-01 -5.52505303e-01\n",
      "  -4.87358100e-01 -2.44950241e+00]\n",
      " [-2.40496095e+00  6.92852443e-02  9.60991637e-01 -1.69735963e+00\n",
      "  -1.23463909e+00 -1.09797525e+00]\n",
      " [ 6.04996056e-01 -2.17261882e-01 -6.45482112e-01 -1.35312192e+00\n",
      "   4.11546886e-01  3.89096985e-01]\n",
      " [ 6.93277510e-04  5.74986514e-01  5.25301939e-01 -6.97250974e-02\n",
      "   3.69911661e-01 -1.63965563e+00]\n",
      " [ 1.94782767e+00  6.84699950e-02  1.45830560e+00  7.18821532e-01\n",
      "  -2.05590243e+00  6.64723426e-01]]\n"
     ]
    }
   ],
   "source": [
    "var3 = np.random.randn(5,6)\n",
    "print(var3)"
   ]
  },
  {
   "cell_type": "markdown",
   "id": "28f86896",
   "metadata": {},
   "source": [
    "# randf"
   ]
  },
  {
   "cell_type": "code",
   "execution_count": 316,
   "id": "3682c1e2",
   "metadata": {
    "scrolled": true
   },
   "outputs": [
    {
     "name": "stdout",
     "output_type": "stream",
     "text": [
      "[[0.04463989 0.07746665 0.72310759 0.51706375]\n",
      " [0.30193773 0.89065362 0.1465569  0.03666653]\n",
      " [0.20292182 0.44852489 0.14294611 0.82312588]]\n"
     ]
    }
   ],
   "source": [
    "var4 = np.random.ranf((3,4))\n",
    "print(var4)"
   ]
  },
  {
   "cell_type": "code",
   "execution_count": 39,
   "id": "afbbb76f",
   "metadata": {},
   "outputs": [
    {
     "name": "stdout",
     "output_type": "stream",
     "text": [
      "[0.12472216 0.88701296 0.72196299 0.66775559]\n"
     ]
    }
   ],
   "source": [
    "var4 = np.random.ranf((4))\n",
    "print(var4)"
   ]
  },
  {
   "cell_type": "code",
   "execution_count": 40,
   "id": "74687acf",
   "metadata": {},
   "outputs": [
    {
     "name": "stdout",
     "output_type": "stream",
     "text": [
      "[0.98573544 0.64474889 0.72037198 0.52012053]\n"
     ]
    }
   ],
   "source": [
    "var4 = np.random.ranf(4)\n",
    "print(var4)"
   ]
  },
  {
   "cell_type": "markdown",
   "id": "83796ef1",
   "metadata": {},
   "source": [
    "# randint"
   ]
  },
  {
   "cell_type": "code",
   "execution_count": 328,
   "id": "5964e26c",
   "metadata": {},
   "outputs": [
    {
     "name": "stdout",
     "output_type": "stream",
     "text": [
      "[94 87 73 84 76]\n"
     ]
    }
   ],
   "source": [
    "var6 = np.random.randint(5,100,5)\n",
    "print(var6)"
   ]
  },
  {
   "cell_type": "markdown",
   "id": "f8a2f639",
   "metadata": {},
   "source": [
    "# Data type in numpy array"
   ]
  },
  {
   "cell_type": "code",
   "execution_count": 42,
   "id": "eeca354a",
   "metadata": {},
   "outputs": [
    {
     "name": "stdout",
     "output_type": "stream",
     "text": [
      "Data type : int32\n"
     ]
    }
   ],
   "source": [
    "var = np.array([1,4,6,7])\n",
    "print(\"Data type :\",var.dtype)"
   ]
  },
  {
   "cell_type": "code",
   "execution_count": 43,
   "id": "fc78d359",
   "metadata": {},
   "outputs": [
    {
     "name": "stdout",
     "output_type": "stream",
     "text": [
      "Data type : int32\n"
     ]
    }
   ],
   "source": [
    "var1 = np.array([1,4,6,7,8,12,13,45,67,89,90])\n",
    "print(\"Data type :\",var1.dtype)"
   ]
  },
  {
   "cell_type": "code",
   "execution_count": 44,
   "id": "568806b4",
   "metadata": {},
   "outputs": [
    {
     "name": "stdout",
     "output_type": "stream",
     "text": [
      "Data type : float64\n"
     ]
    }
   ],
   "source": [
    "var1 = np.array([1.3,1.4,3.4,5.6])\n",
    "print(\"Data type :\",var1.dtype)"
   ]
  },
  {
   "cell_type": "code",
   "execution_count": 45,
   "id": "213a58c1",
   "metadata": {},
   "outputs": [
    {
     "name": "stdout",
     "output_type": "stream",
     "text": [
      "Data type : <U1\n"
     ]
    }
   ],
   "source": [
    "var1 = np.array([\"s\",\"r\",\"p\",\"e\"])\n",
    "print(\"Data type :\",var1.dtype)"
   ]
  },
  {
   "cell_type": "code",
   "execution_count": 46,
   "id": "ab29977d",
   "metadata": {},
   "outputs": [
    {
     "name": "stdout",
     "output_type": "stream",
     "text": [
      "['s' 'r' 'p' 'e' '1' '2' '3' '4' '5']\n",
      "\n",
      "Data type : <U11\n"
     ]
    }
   ],
   "source": [
    "var1 = np.array([\"s\",\"r\",\"p\",\"e\",1,2,3,4,5])\n",
    "print(var1)\n",
    "print()\n",
    "print(\"Data type :\",var1.dtype)"
   ]
  },
  {
   "cell_type": "code",
   "execution_count": 47,
   "id": "25bfbc1d",
   "metadata": {},
   "outputs": [
    {
     "name": "stdout",
     "output_type": "stream",
     "text": [
      "[1 2 3 4]\n",
      "data type int32\n"
     ]
    }
   ],
   "source": [
    "x = np.array([1,2,3,4])\n",
    "print(x)\n",
    "print(\"data type\",x.dtype)"
   ]
  },
  {
   "cell_type": "code",
   "execution_count": 48,
   "id": "30996397",
   "metadata": {},
   "outputs": [
    {
     "name": "stdout",
     "output_type": "stream",
     "text": [
      "[1 2 3 4]\n",
      "\n",
      "data type int32\n",
      "\n",
      "[1. 2. 3. 4.]\n",
      "\n",
      "[1 2 3 4]\n"
     ]
    }
   ],
   "source": [
    "x = np.array([1,2,3,4],dtype = np.int32)\n",
    "print(x)\n",
    "print()\n",
    "print(\"data type\",x.dtype)\n",
    "y = np.float32(x)\n",
    "print()\n",
    "print(y)\n",
    "print()\n",
    "z = np.int32(y)\n",
    "print(z)"
   ]
  },
  {
   "cell_type": "code",
   "execution_count": 49,
   "id": "9888f4e1",
   "metadata": {},
   "outputs": [
    {
     "name": "stdout",
     "output_type": "stream",
     "text": [
      "[1. 2. 3. 4.]\n",
      "data type float32\n",
      "[1 2 3 4]\n",
      "[1. 2. 3. 4.]\n"
     ]
    }
   ],
   "source": [
    "x1 = np.array([1,2,3,4],dtype = \"f\")\n",
    "print(x1)\n",
    "print(\"data type\",x1.dtype)\n",
    "y1 = np.int64(x1)\n",
    "print(y1)\n",
    "z1 = np.float64(y1)\n",
    "print(z1)"
   ]
  },
  {
   "cell_type": "code",
   "execution_count": 50,
   "id": "a8d493bc",
   "metadata": {},
   "outputs": [
    {
     "name": "stdout",
     "output_type": "stream",
     "text": [
      "[1 2 3 4]\n",
      "data type int32\n"
     ]
    }
   ],
   "source": [
    "x1 = np.array([1,2,3,4],dtype = \"i\")\n",
    "print(x1)\n",
    "print(\"data type\",x1.dtype)"
   ]
  },
  {
   "cell_type": "code",
   "execution_count": 51,
   "id": "8f06c955",
   "metadata": {},
   "outputs": [
    {
     "name": "stdout",
     "output_type": "stream",
     "text": [
      "[1 2 3 4]\n",
      "data type int32\n",
      "\n",
      "[1. 2. 3. 4.]\n",
      "data type float32\n"
     ]
    }
   ],
   "source": [
    "x2 = np.array([1,2,3,4])\n",
    "\n",
    "new = np.float32(x2)\n",
    "print(x2)\n",
    "print(\"data type\",x2.dtype)\n",
    "print()\n",
    "print(new)\n",
    "print(\"data type\",new.dtype)"
   ]
  },
  {
   "cell_type": "code",
   "execution_count": 52,
   "id": "bff777a3",
   "metadata": {},
   "outputs": [
    {
     "name": "stdout",
     "output_type": "stream",
     "text": [
      "[1 2 3 4]\n",
      "data type int32\n",
      "\n",
      "[1. 2. 3. 4.]\n",
      "data type float32\n",
      "[1 2 3 4]\n",
      "data type int32\n"
     ]
    }
   ],
   "source": [
    "x2 = np.array([1,2,3,4])\n",
    "\n",
    "new = np.float32(x2)\n",
    "new_one = np.int_(new)\n",
    "print(x2)\n",
    "print(\"data type\",x2.dtype)\n",
    "print()\n",
    "print(new)\n",
    "print(\"data type\",new.dtype)\n",
    "print(new_one)\n",
    "print(\"data type\",new_one.dtype)"
   ]
  },
  {
   "cell_type": "code",
   "execution_count": 53,
   "id": "8ce8e0b2",
   "metadata": {},
   "outputs": [
    {
     "name": "stdout",
     "output_type": "stream",
     "text": [
      "[2 4 6 8]\n",
      "Data Type : int32\n"
     ]
    }
   ],
   "source": [
    "y = np.array([2,4,6,8])\n",
    "print(y)\n",
    "print(\"Data Type :\",y.dtype)"
   ]
  },
  {
   "cell_type": "code",
   "execution_count": 54,
   "id": "ae6e256c",
   "metadata": {},
   "outputs": [
    {
     "name": "stdout",
     "output_type": "stream",
     "text": [
      "[2 4 6 8]\n",
      "Data Type : int8\n"
     ]
    }
   ],
   "source": [
    "y = np.array([2,4,6,8],dtype = np.int8)\n",
    "print(y)\n",
    "print(\"Data Type :\",y.dtype)"
   ]
  },
  {
   "cell_type": "code",
   "execution_count": 55,
   "id": "df9a660d",
   "metadata": {},
   "outputs": [
    {
     "name": "stdout",
     "output_type": "stream",
     "text": [
      "[2. 4. 6. 8.]\n",
      "Data Type : float32\n"
     ]
    }
   ],
   "source": [
    "y = np.array([2,4,6,8],dtype = np.float32)\n",
    "print(y)\n",
    "print(\"Data Type :\",y.dtype)"
   ]
  },
  {
   "cell_type": "code",
   "execution_count": 56,
   "id": "b84b7fab",
   "metadata": {},
   "outputs": [
    {
     "name": "stdout",
     "output_type": "stream",
     "text": [
      "[2 4 6 8]\n",
      "Data Type : int32\n",
      "\n",
      "[2. 4. 6. 8.]\n",
      "float32\n",
      "\n",
      "[2 4 6 8]\n",
      "int32\n",
      "\n",
      "[2. 4. 6. 8.]\n",
      "float32\n",
      "\n",
      "[2 4 6 8]\n",
      "int32\n"
     ]
    }
   ],
   "source": [
    "y = np.array([2,4,6,8])\n",
    "print(y)\n",
    "print(\"Data Type :\",y.dtype)\n",
    "print()\n",
    "new = np.float32(y)\n",
    "print(new)\n",
    "print(new.dtype)\n",
    "print()\n",
    "new_one = np.int32(y)\n",
    "print(new_one)\n",
    "print(new_one.dtype)\n",
    "print()\n",
    "new_one = np.float32(y)\n",
    "print(new_one)\n",
    "print(new_one.dtype)\n",
    "print()\n",
    "new_two = np.int_(new_one)\n",
    "print(new_two)\n",
    "print(new_two.dtype)"
   ]
  },
  {
   "cell_type": "code",
   "execution_count": 57,
   "id": "13c77c44",
   "metadata": {},
   "outputs": [
    {
     "name": "stdout",
     "output_type": "stream",
     "text": [
      "[2 4 6 8]\n",
      "[2 4 6 8]\n",
      "[2. 4. 6. 8.]\n"
     ]
    }
   ],
   "source": [
    "y1 = np.array([2,4,6,8])\n",
    "print(y1)\n",
    "new1 = y1.astype(float)\n",
    "print(y1)\n",
    "print(new1)"
   ]
  },
  {
   "cell_type": "markdown",
   "id": "a510a265",
   "metadata": {},
   "source": [
    "# shape & reshape in numpy array"
   ]
  },
  {
   "cell_type": "markdown",
   "id": "4dd2cd5f",
   "metadata": {},
   "source": [
    "# shape"
   ]
  },
  {
   "cell_type": "code",
   "execution_count": 331,
   "id": "875d9a86",
   "metadata": {},
   "outputs": [
    {
     "name": "stdout",
     "output_type": "stream",
     "text": [
      "[[1 2]\n",
      " [2 3]]\n",
      "2\n",
      "\n",
      "(2, 2)\n"
     ]
    }
   ],
   "source": [
    "var = np.array([[1,2],[2,3]])\n",
    "print(var)\n",
    "print(var.ndim)\n",
    "print()\n",
    "print(var.shape)"
   ]
  },
  {
   "cell_type": "code",
   "execution_count": 333,
   "id": "da6b7649",
   "metadata": {},
   "outputs": [
    {
     "name": "stdout",
     "output_type": "stream",
     "text": [
      "[[1 2 3 4]\n",
      " [2 3 6 7]]\n",
      "2\n",
      "\n",
      "(2, 4)\n"
     ]
    }
   ],
   "source": [
    "var = np.array([[1,2,3,4],[2,3,6,7]])\n",
    "print(var)\n",
    "print(var.ndim)\n",
    "print()\n",
    "print(var.shape)"
   ]
  },
  {
   "cell_type": "code",
   "execution_count": 335,
   "id": "26d75f17",
   "metadata": {},
   "outputs": [
    {
     "name": "stdout",
     "output_type": "stream",
     "text": [
      "[[[[[1 2 3 4]]]]]\n",
      "5\n",
      "\n",
      "(1, 1, 1, 1, 4)\n"
     ]
    }
   ],
   "source": [
    "var = np.array([1,2,3,4],ndmin = 5)\n",
    "print(var)\n",
    "print(var.ndim)\n",
    "print()\n",
    "print(var.shape)"
   ]
  },
  {
   "cell_type": "code",
   "execution_count": 336,
   "id": "d1ce127e",
   "metadata": {},
   "outputs": [
    {
     "name": "stdout",
     "output_type": "stream",
     "text": [
      "[[[[[[[1 2 3 4 7]]]]]]]\n",
      "7\n",
      "\n",
      "(1, 1, 1, 1, 1, 1, 5)\n"
     ]
    }
   ],
   "source": [
    "var = np.array([1,2,3,4,7],ndmin = 7)\n",
    "print(var)\n",
    "print(var.ndim)\n",
    "print()\n",
    "print(var.shape)"
   ]
  },
  {
   "cell_type": "markdown",
   "id": "3d5ed310",
   "metadata": {},
   "source": [
    "# Reshape"
   ]
  },
  {
   "cell_type": "code",
   "execution_count": 337,
   "id": "a8052088",
   "metadata": {},
   "outputs": [
    {
     "name": "stdout",
     "output_type": "stream",
     "text": [
      "[ 1  2 34  5  6  7]\n",
      "1\n",
      "(6,)\n",
      "\n",
      "[[ 1  2]\n",
      " [34  5]\n",
      " [ 6  7]]\n",
      "\n",
      "1\n",
      "2\n"
     ]
    }
   ],
   "source": [
    "var2 = np.array([1,2,34,5,6,7])\n",
    "print(var2)\n",
    "print(var2.ndim)\n",
    "print(var2.shape)\n",
    "print()\n",
    "x = var2.reshape(3,2)\n",
    "print(x)\n",
    "print()\n",
    "print(var2.ndim)\n",
    "print(x.ndim)"
   ]
  },
  {
   "cell_type": "code",
   "execution_count": 63,
   "id": "e873579f",
   "metadata": {},
   "outputs": [
    {
     "name": "stdout",
     "output_type": "stream",
     "text": [
      "[1 2 3 4 5 6 7 8 9]\n",
      "1\n",
      "(9,)\n",
      "\n",
      "[[1 2 3]\n",
      " [4 5 6]\n",
      " [7 8 9]]\n",
      "(3, 3)\n",
      "2\n"
     ]
    }
   ],
   "source": [
    "var4 = np.array([1,2,3,4,5,6,7,8,9])\n",
    "print(var4)\n",
    "print(var4.ndim)\n",
    "print(var4.shape)\n",
    "print()\n",
    "\n",
    "var5 = var4.reshape(3,3)\n",
    "print(var5)\n",
    "print(var5.shape)\n",
    "print(var5.ndim)"
   ]
  },
  {
   "cell_type": "code",
   "execution_count": 64,
   "id": "98f81ce0",
   "metadata": {},
   "outputs": [
    {
     "name": "stdout",
     "output_type": "stream",
     "text": [
      "[ 1  2  3  4  5  6  7  8  9 10 11 12]\n",
      "1\n",
      "(12,)\n",
      "\n",
      "[[[ 1  2]\n",
      "  [ 3  4]\n",
      "  [ 5  6]]\n",
      "\n",
      " [[ 7  8]\n",
      "  [ 9 10]\n",
      "  [11 12]]]\n",
      "(2, 3, 2)\n",
      "3\n"
     ]
    }
   ],
   "source": [
    "var6 = np.array([1,2,3,4,5,6,7,8,9,10,11,12])\n",
    "print(var6)\n",
    "print(var6.ndim)\n",
    "print(var6.shape)\n",
    "print()\n",
    "\n",
    "var7 = var6.reshape(2,3,2)\n",
    "print(var7)\n",
    "print(var7.shape)\n",
    "print(var7.ndim)"
   ]
  },
  {
   "cell_type": "code",
   "execution_count": 65,
   "id": "6dccfe73",
   "metadata": {},
   "outputs": [
    {
     "name": "stdout",
     "output_type": "stream",
     "text": [
      "[ 1  2  3  4  5  6  7  8  9 10 11 12 13 14 15 16 17 18]\n",
      "1\n",
      "(18,)\n",
      "\n",
      "[[[ 1  2  3]\n",
      "  [ 4  5  6]\n",
      "  [ 7  8  9]]\n",
      "\n",
      " [[10 11 12]\n",
      "  [13 14 15]\n",
      "  [16 17 18]]]\n",
      "(2, 3, 3)\n",
      "3\n"
     ]
    }
   ],
   "source": [
    "var6 = np.array([1,2,3,4,5,6,7,8,9,10,11,12,13,14,15,16,17,18])\n",
    "print(var6)\n",
    "print(var6.ndim)\n",
    "print(var6.shape)\n",
    "print()\n",
    "\n",
    "var7 = var6.reshape(2,3,3)\n",
    "print(var7)\n",
    "print(var7.shape)\n",
    "print(var7.ndim)"
   ]
  },
  {
   "cell_type": "code",
   "execution_count": 66,
   "id": "70fc3de4",
   "metadata": {},
   "outputs": [
    {
     "name": "stdout",
     "output_type": "stream",
     "text": [
      "[ 1  2  3  4  5  6  7  8  9 10 11 12 13 14 15 16 17 18]\n",
      "1\n",
      "(18,)\n",
      "\n",
      "[[ 1  2  3]\n",
      " [ 4  5  6]\n",
      " [ 7  8  9]\n",
      " [10 11 12]\n",
      " [13 14 15]\n",
      " [16 17 18]]\n",
      "(6, 3)\n",
      "2\n"
     ]
    }
   ],
   "source": [
    "var6 = np.array([1,2,3,4,5,6,7,8,9,10,11,12,13,14,15,16,17,18])\n",
    "print(var6)\n",
    "print(var6.ndim)\n",
    "print(var6.shape)\n",
    "print()\n",
    "\n",
    "var7 = var6.reshape(6,3)\n",
    "print(var7)\n",
    "print(var7.shape)\n",
    "print(var7.ndim)"
   ]
  },
  {
   "cell_type": "code",
   "execution_count": 67,
   "id": "c00c00ed",
   "metadata": {},
   "outputs": [
    {
     "name": "stdout",
     "output_type": "stream",
     "text": [
      "[ 1  2  3  4  5  6  7  8  9 10 11 12 13 14 15 16 17 18]\n",
      "1\n",
      "(18,)\n",
      "\n",
      "[[[ 1  2  3]\n",
      "  [ 4  5  6]\n",
      "  [ 7  8  9]]\n",
      "\n",
      " [[10 11 12]\n",
      "  [13 14 15]\n",
      "  [16 17 18]]]\n",
      "(2, 3, 3)\n",
      "3\n",
      "\n",
      "[ 1  2  3  4  5  6  7  8  9 10 11 12 13 14 15 16 17 18]\n",
      "1\n"
     ]
    }
   ],
   "source": [
    "var6 = np.array([1,2,3,4,5,6,7,8,9,10,11,12,13,14,15,16,17,18])\n",
    "print(var6)\n",
    "print(var6.ndim)\n",
    "print(var6.shape)\n",
    "print()\n",
    "\n",
    "var7 = var6.reshape(2,3,3)\n",
    "print(var7)\n",
    "print(var7.shape)\n",
    "print(var7.ndim)\n",
    "\n",
    "print()\n",
    "\n",
    "\n",
    "var8 = var7.reshape(-1)\n",
    "print(var8)\n",
    "print(var8.ndim)"
   ]
  },
  {
   "cell_type": "markdown",
   "id": "9da9807c",
   "metadata": {},
   "source": [
    "# numpy == arithmetic operation"
   ]
  },
  {
   "cell_type": "code",
   "execution_count": 68,
   "id": "aee97c48",
   "metadata": {},
   "outputs": [
    {
     "name": "stdout",
     "output_type": "stream",
     "text": [
      "[ 4  5 37  8]\n"
     ]
    }
   ],
   "source": [
    "var10 = np.array([1,2,34,5])\n",
    "varadd = var10 + 3\n",
    "print(varadd)"
   ]
  },
  {
   "cell_type": "code",
   "execution_count": 69,
   "id": "26d31499",
   "metadata": {},
   "outputs": [
    {
     "name": "stdout",
     "output_type": "stream",
     "text": [
      "[ 2  7 40 14]\n"
     ]
    }
   ],
   "source": [
    "var11 = np.array([1,2,34,5])\n",
    "var12 = np.array([1,5,6,9])\n",
    "var13 = var11 + var12\n",
    "print(var13)"
   ]
  },
  {
   "cell_type": "code",
   "execution_count": 70,
   "id": "2ea44c9d",
   "metadata": {},
   "outputs": [
    {
     "name": "stdout",
     "output_type": "stream",
     "text": [
      "[-2 -1 31  2]\n"
     ]
    }
   ],
   "source": [
    "var10 = np.array([1,2,34,5])\n",
    "varadd = var10 - 3\n",
    "print(varadd)"
   ]
  },
  {
   "cell_type": "code",
   "execution_count": 71,
   "id": "a48b5c7d",
   "metadata": {},
   "outputs": [
    {
     "name": "stdout",
     "output_type": "stream",
     "text": [
      "[ 0 -3 28 -4]\n"
     ]
    }
   ],
   "source": [
    "var11 = np.array([1,2,34,5])\n",
    "var12 = np.array([1,5,6,9])\n",
    "var13 = var11 - var12\n",
    "print(var13)"
   ]
  },
  {
   "cell_type": "code",
   "execution_count": 72,
   "id": "414646f5",
   "metadata": {},
   "outputs": [
    {
     "name": "stdout",
     "output_type": "stream",
     "text": [
      "[ 0.33333333  0.66666667 11.33333333  1.66666667]\n"
     ]
    }
   ],
   "source": [
    "var10 = np.array([1,2,34,5])\n",
    "varadd = var10 / 3\n",
    "print(varadd)"
   ]
  },
  {
   "cell_type": "code",
   "execution_count": 73,
   "id": "b93cd0f0",
   "metadata": {},
   "outputs": [
    {
     "name": "stdout",
     "output_type": "stream",
     "text": [
      "[1.         0.4        5.66666667 0.55555556]\n"
     ]
    }
   ],
   "source": [
    "var11 = np.array([1,2,34,5])\n",
    "var12 = np.array([1,5,6,9])\n",
    "var13 = var11 / var12\n",
    "print(var13)"
   ]
  },
  {
   "cell_type": "code",
   "execution_count": 74,
   "id": "302fe77c",
   "metadata": {},
   "outputs": [
    {
     "name": "stdout",
     "output_type": "stream",
     "text": [
      "[1 2 1 2]\n"
     ]
    }
   ],
   "source": [
    "var10 = np.array([1,2,34,5])\n",
    "varadd = var10 % 3\n",
    "print(varadd)"
   ]
  },
  {
   "cell_type": "code",
   "execution_count": 75,
   "id": "e4bc5af2",
   "metadata": {},
   "outputs": [
    {
     "name": "stdout",
     "output_type": "stream",
     "text": [
      "[0 2 4 5]\n"
     ]
    }
   ],
   "source": [
    "var11 = np.array([1,2,34,5])\n",
    "var12 = np.array([1,5,6,9])\n",
    "var13 = var11 % var12\n",
    "print(var13)"
   ]
  },
  {
   "cell_type": "code",
   "execution_count": 76,
   "id": "e8f704c3",
   "metadata": {},
   "outputs": [
    {
     "name": "stdout",
     "output_type": "stream",
     "text": [
      "[ 4  5 37  8]\n"
     ]
    }
   ],
   "source": [
    "var10 = np.array([1,2,34,5])\n",
    "varadd = var10 + 3\n",
    "print(varadd)"
   ]
  },
  {
   "cell_type": "code",
   "execution_count": 77,
   "id": "bd195f9c",
   "metadata": {},
   "outputs": [
    {
     "name": "stdout",
     "output_type": "stream",
     "text": [
      "[ 2  7 40 14]\n"
     ]
    }
   ],
   "source": [
    "var11 = np.array([1,2,34,5])\n",
    "var12 = np.array([1,5,6,9])\n",
    "var13 = np.add(var11,var12)\n",
    "print(var13)"
   ]
  },
  {
   "cell_type": "code",
   "execution_count": 78,
   "id": "08fe09be",
   "metadata": {},
   "outputs": [
    {
     "name": "stdout",
     "output_type": "stream",
     "text": [
      "[1 0 0 0]\n"
     ]
    }
   ],
   "source": [
    "var10 = np.array([1,2,34,5])\n",
    "varadd = np.reciprocal(var10)\n",
    "print(varadd)"
   ]
  },
  {
   "cell_type": "markdown",
   "id": "131b4f07",
   "metadata": {},
   "source": [
    "# 2d array"
   ]
  },
  {
   "cell_type": "code",
   "execution_count": 79,
   "id": "000329ce",
   "metadata": {},
   "outputs": [
    {
     "name": "stdout",
     "output_type": "stream",
     "text": [
      "[[ 2  4 68 10]\n",
      " [12 16 18  6]]\n"
     ]
    }
   ],
   "source": [
    "var14 = np.array([[1,2,34,5],[6,8,9,3]])\n",
    "var15 = np.array([[1,2,34,5],[6,8,9,3]])\n",
    "varadd = var14 + var15 \n",
    "print(varadd)"
   ]
  },
  {
   "cell_type": "code",
   "execution_count": 80,
   "id": "bf842972",
   "metadata": {},
   "outputs": [
    {
     "name": "stdout",
     "output_type": "stream",
     "text": [
      "\n",
      "[[ 1  2 34  5]\n",
      " [ 6  8  9  3]]\n",
      "\n",
      "[[ 1  2 34  5]\n",
      " [ 6  8  9  3]]\n",
      "\n",
      "[[ 2  4 68 10]\n",
      " [12 16 18  6]]\n"
     ]
    }
   ],
   "source": [
    "var14 = np.array([[1,2,34,5],[6,8,9,3]])\n",
    "var15 = np.array([[1,2,34,5],[6,8,9,3]])\n",
    "\n",
    "print()\n",
    "\n",
    "print(var14)\n",
    "print()\n",
    "print(var15)\n",
    "\n",
    "print()\n",
    "\n",
    "varadd = var14 + var15 \n",
    "print(varadd)"
   ]
  },
  {
   "cell_type": "code",
   "execution_count": 343,
   "id": "6ac06cf5",
   "metadata": {},
   "outputs": [
    {
     "name": "stdout",
     "output_type": "stream",
     "text": [
      "min:  1 0\n",
      "\n",
      "max : 23 19\n",
      "\n",
      "sqt :  [1.         1.41421356 1.73205081 2.         2.23606798 2.44948974\n",
      " 2.64575131 2.82842712 3.         3.16227766 3.31662479 3.46410162\n",
      " 3.60555128 3.74165739 3.87298335 4.         4.12310563 4.24264069\n",
      " 4.47213595 4.79583152]\n"
     ]
    }
   ],
   "source": [
    "var16 = np.array([1,2,3,4,5,6,7,8,9,10,11,12,13,14,15,16,17,18,20,23])\n",
    "print(\"min: \", np.min(var16), np.argmin(var16))\n",
    "print()\n",
    "print(\"max :\", np.max(var16),np.argmax(var16))\n",
    "print()\n",
    "print(\"sqt : \", np.sqrt(var16))"
   ]
  },
  {
   "cell_type": "code",
   "execution_count": 82,
   "id": "31565072",
   "metadata": {},
   "outputs": [
    {
     "name": "stdout",
     "output_type": "stream",
     "text": [
      "[34  9]\n",
      "[ 6  8 34  5]\n"
     ]
    }
   ],
   "source": [
    "var17 = np.array([[1,2,34,5],[6,8,9,3]])\n",
    "print(np.max(var17,axis = 1))\n",
    "print(np.max(var17,axis = 0))"
   ]
  },
  {
   "cell_type": "code",
   "execution_count": 342,
   "id": "3611c931",
   "metadata": {
    "scrolled": true
   },
   "outputs": [
    {
     "name": "stdout",
     "output_type": "stream",
     "text": [
      "[ 0.84147098  0.90929743  0.14112001 -0.95892427  0.41211849]\n",
      "\n",
      "[ 0.54030231 -0.41614684 -0.9899925   0.28366219 -0.91113026]\n",
      "\n",
      "[ 1  3  6 11 20]\n"
     ]
    }
   ],
   "source": [
    "var18 = np.array([1,2,3,5,9])\n",
    "print(np.sin(var18))\n",
    "print()\n",
    "print(np.cos(var18))\n",
    "print()\n",
    "print(np.cumsum(var18))"
   ]
  },
  {
   "cell_type": "code",
   "execution_count": 84,
   "id": "5e7ed66c",
   "metadata": {},
   "outputs": [],
   "source": [
    "import pandas as np"
   ]
  },
  {
   "cell_type": "markdown",
   "id": "ab9015aa",
   "metadata": {},
   "source": [
    "# Numpy Array iterating"
   ]
  },
  {
   "cell_type": "code",
   "execution_count": 85,
   "id": "22bde0e1",
   "metadata": {},
   "outputs": [
    {
     "name": "stdout",
     "output_type": "stream",
     "text": [
      "<IntegerArray>\n",
      "[3, 6, 7, 9, 3]\n",
      "Length: 5, dtype: Int64\n",
      "1\n",
      "(5,)\n"
     ]
    }
   ],
   "source": [
    "var = np.array([3,6,7,9,3])\n",
    "print(var)\n",
    "print(var.ndim)\n",
    "print(var.shape)"
   ]
  },
  {
   "cell_type": "code",
   "execution_count": 86,
   "id": "14f44487",
   "metadata": {},
   "outputs": [
    {
     "name": "stdout",
     "output_type": "stream",
     "text": [
      "3\n",
      "6\n",
      "7\n",
      "9\n",
      "3\n"
     ]
    }
   ],
   "source": [
    "for i in var:\n",
    "    print(i)"
   ]
  },
  {
   "cell_type": "code",
   "execution_count": 87,
   "id": "df9e6387",
   "metadata": {},
   "outputs": [
    {
     "name": "stdout",
     "output_type": "stream",
     "text": [
      "<PandasArray>\n",
      "[[4, 6, 8, 9], [2, 5, 3, 4]]\n",
      "Length: 2, dtype: object\n",
      "(2,)\n",
      "1\n",
      "\n",
      "3\n",
      "3\n",
      "\n",
      "4\n",
      "6\n",
      "8\n",
      "9\n",
      "2\n",
      "5\n",
      "3\n",
      "4\n"
     ]
    }
   ],
   "source": [
    "var2 = np.array([[4,6,8,9],[2,5,3,4]])\n",
    "print(var2)\n",
    "print(var2.shape)\n",
    "print(var2.ndim)\n",
    "print()\n",
    "\n",
    "for j in var2:\n",
    "    print(i)\n",
    "print()    \n",
    "    \n",
    "for K in var2:\n",
    "    for l in K:\n",
    "        print(l)\n",
    "    "
   ]
  },
  {
   "cell_type": "code",
   "execution_count": 88,
   "id": "29e049e9",
   "metadata": {},
   "outputs": [
    {
     "name": "stdout",
     "output_type": "stream",
     "text": [
      "<PandasArray>\n",
      "[[[2, 5, 7, 8], [2, 7, 4, 7]]]\n",
      "Length: 1, dtype: object\n",
      "1\n",
      "(1,)\n",
      "\n",
      "[[2, 5, 7, 8], [2, 7, 4, 7]]\n",
      "\n",
      "2\n",
      "5\n",
      "7\n",
      "8\n",
      "2\n",
      "7\n",
      "4\n",
      "7\n"
     ]
    }
   ],
   "source": [
    "var3 = np.array([[[2,5,7,8],[2,7,4,7]]])\n",
    "print(var3)\n",
    "print(var3.ndim)\n",
    "print(var3.shape)\n",
    "print()\n",
    "\n",
    "for i in var3:\n",
    "    print(i)\n",
    "print()\n",
    "\n",
    "for j in var3:\n",
    "    for K in j:\n",
    "        for l in K:\n",
    "            print(l)"
   ]
  },
  {
   "cell_type": "code",
   "execution_count": 89,
   "id": "328d0afd",
   "metadata": {},
   "outputs": [
    {
     "name": "stdout",
     "output_type": "stream",
     "text": [
      "<PandasArray>\n",
      "[[[6, 7, 4, 9], [2, 7, 4, 7]]]\n",
      "Length: 1, dtype: object\n",
      "1\n",
      "(1,)\n",
      "\n",
      "[[6, 7, 4, 9], [2, 7, 4, 7]]\n",
      "\n",
      "6\n",
      "7\n",
      "4\n",
      "9\n",
      "2\n",
      "7\n",
      "4\n",
      "7\n"
     ]
    }
   ],
   "source": [
    "var4 = np.array([[[6,7,4,9],[2,7,4,7]]])\n",
    "print(var4)\n",
    "print(var4.ndim)\n",
    "print(var4.shape)\n",
    "print()\n",
    "\n",
    "for i in var4:\n",
    "    print(i)\n",
    "print()\n",
    "\n",
    "for j in var4:\n",
    "    for K in j:\n",
    "        for l in K:\n",
    "            print(l)"
   ]
  },
  {
   "cell_type": "code",
   "execution_count": 90,
   "id": "d2271271",
   "metadata": {},
   "outputs": [],
   "source": [
    "import numpy as np"
   ]
  },
  {
   "cell_type": "code",
   "execution_count": 91,
   "id": "5fa28c5c",
   "metadata": {},
   "outputs": [
    {
     "name": "stdout",
     "output_type": "stream",
     "text": [
      "[[[ 6  7  4  4]\n",
      "  [ 2  7 47  4]]]\n",
      "3\n",
      "(1, 2, 4)\n",
      "\n",
      "6\n",
      "7\n",
      "4\n",
      "4\n",
      "2\n",
      "7\n",
      "47\n",
      "4\n"
     ]
    }
   ],
   "source": [
    "var5 = np.array([[[6,7,4,4],[2,7,47,4]]])\n",
    "print(var5)\n",
    "print(var5.ndim)\n",
    "print(var5.shape)\n",
    "print()\n",
    "\n",
    "for i in np.nditer(var5):\n",
    "    print(i)"
   ]
  },
  {
   "cell_type": "code",
   "execution_count": 92,
   "id": "bbf2c777",
   "metadata": {},
   "outputs": [
    {
     "name": "stdout",
     "output_type": "stream",
     "text": [
      "[[[ 6  7  4  4]\n",
      "  [ 2  7 47  4]]]\n",
      "3\n",
      "(1, 2, 4)\n",
      "\n",
      "b'6'\n",
      "b'7'\n",
      "b'4'\n",
      "b'4'\n",
      "b'2'\n",
      "b'7'\n",
      "b'47'\n",
      "b'4'\n"
     ]
    }
   ],
   "source": [
    "var5 = np.array([[[6,7,4,4],[2,7,47,4]]])\n",
    "print(var5)\n",
    "print(var5.ndim)\n",
    "print(var5.shape)\n",
    "print()\n",
    "\n",
    "for i in np.nditer(var5,flags = [\"buffered\"],op_dtypes=[\"S\"]):\n",
    "    print(i)"
   ]
  },
  {
   "cell_type": "code",
   "execution_count": 93,
   "id": "4e61e684",
   "metadata": {},
   "outputs": [
    {
     "name": "stdout",
     "output_type": "stream",
     "text": [
      "[[[ 6  7  4  4]\n",
      "  [ 2  7 47  4]]]\n",
      "3\n",
      "(1, 2, 4)\n",
      "\n",
      "6\n",
      "7\n",
      "4\n",
      "4\n",
      "2\n",
      "7\n",
      "47\n",
      "4\n",
      "\n",
      "(0, 0, 0) 6\n",
      "(0, 0, 1) 7\n",
      "(0, 0, 2) 4\n",
      "(0, 0, 3) 4\n",
      "(0, 1, 0) 2\n",
      "(0, 1, 1) 7\n",
      "(0, 1, 2) 47\n",
      "(0, 1, 3) 4\n"
     ]
    }
   ],
   "source": [
    "var5 = np.array([[[6,7,4,4],[2,7,47,4]]])\n",
    "print(var5)\n",
    "print(var5.ndim)\n",
    "print(var5.shape)\n",
    "print()\n",
    "\n",
    "for i in np.nditer(var5):\n",
    "    print(i)\n",
    "print()    \n",
    "    \n",
    "    \n",
    "for i,d in np.ndenumerate(var5):\n",
    "    print(i,d)"
   ]
  },
  {
   "cell_type": "markdown",
   "id": "798a7622",
   "metadata": {},
   "source": [
    "# THe difference between Copy Vs View "
   ]
  },
  {
   "cell_type": "markdown",
   "id": "b2024a9a",
   "metadata": {},
   "source": [
    "# copy vs view in numpy array"
   ]
  },
  {
   "cell_type": "code",
   "execution_count": 94,
   "id": "66e1f1a7",
   "metadata": {},
   "outputs": [],
   "source": [
    "import numpy as np"
   ]
  },
  {
   "cell_type": "code",
   "execution_count": 95,
   "id": "16205f1b",
   "metadata": {},
   "outputs": [
    {
     "name": "stdout",
     "output_type": "stream",
     "text": [
      "\n",
      "[ 4  6 45  6]\n",
      "copt [4 6 9 6]\n"
     ]
    }
   ],
   "source": [
    "var45 = np.array([4,6,9,6])\n",
    "print()\n",
    "co = var45.copy()\n",
    "\n",
    "var45[2] = 45\n",
    "\n",
    "print(var45)\n",
    "print(\"copt\",co)"
   ]
  },
  {
   "cell_type": "code",
   "execution_count": 96,
   "id": "793b5736",
   "metadata": {},
   "outputs": [
    {
     "name": "stdout",
     "output_type": "stream",
     "text": [
      "\n",
      "[ 4  8 79  6]\n",
      "[ 4  8 79  6]\n"
     ]
    }
   ],
   "source": [
    "var46 = np.array([4,8,1,6])\n",
    "print()\n",
    "vi = var46.view()\n",
    "var46[2] = 79\n",
    "print(var46)\n",
    "print(vi)"
   ]
  },
  {
   "cell_type": "markdown",
   "id": "09efe62a",
   "metadata": {},
   "source": [
    "# join Array"
   ]
  },
  {
   "cell_type": "code",
   "execution_count": 97,
   "id": "0a6b5686",
   "metadata": {},
   "outputs": [],
   "source": [
    "import numpy as np"
   ]
  },
  {
   "cell_type": "code",
   "execution_count": 98,
   "id": "c1008a25",
   "metadata": {},
   "outputs": [],
   "source": [
    "var50 = np.array([2,7,4,6])\n",
    "var51 = np.array([8,9,7,5])"
   ]
  },
  {
   "cell_type": "code",
   "execution_count": 99,
   "id": "cc84a232",
   "metadata": {},
   "outputs": [],
   "source": [
    "var52 = np.concatenate((var50,var51))"
   ]
  },
  {
   "cell_type": "code",
   "execution_count": 100,
   "id": "ac5e1c34",
   "metadata": {},
   "outputs": [
    {
     "name": "stdout",
     "output_type": "stream",
     "text": [
      "[2 7 4 6 8 9 7 5]\n"
     ]
    }
   ],
   "source": [
    "print(var52)"
   ]
  },
  {
   "cell_type": "code",
   "execution_count": 101,
   "id": "e6631e3d",
   "metadata": {},
   "outputs": [],
   "source": [
    "var53 = np.array([[2,7],[4,6]])\n",
    "var54 = np.array([[8,9],[7,5]])"
   ]
  },
  {
   "cell_type": "code",
   "execution_count": 102,
   "id": "01def0d2",
   "metadata": {},
   "outputs": [],
   "source": [
    "var55 = np.concatenate((var53,var54))"
   ]
  },
  {
   "cell_type": "code",
   "execution_count": 103,
   "id": "4e910eb3",
   "metadata": {},
   "outputs": [
    {
     "name": "stdout",
     "output_type": "stream",
     "text": [
      "[[2 7]\n",
      " [4 6]\n",
      " [8 9]\n",
      " [7 5]]\n"
     ]
    }
   ],
   "source": [
    "print(var55)"
   ]
  },
  {
   "cell_type": "code",
   "execution_count": 104,
   "id": "c1833d8c",
   "metadata": {},
   "outputs": [],
   "source": [
    "var56 = np.concatenate((var53,var54),axis = 0)"
   ]
  },
  {
   "cell_type": "code",
   "execution_count": 105,
   "id": "622ab39f",
   "metadata": {},
   "outputs": [
    {
     "name": "stdout",
     "output_type": "stream",
     "text": [
      "[[2 7]\n",
      " [4 6]\n",
      " [8 9]\n",
      " [7 5]]\n"
     ]
    }
   ],
   "source": [
    "print(var56)"
   ]
  },
  {
   "cell_type": "code",
   "execution_count": 106,
   "id": "f6a8b1b7",
   "metadata": {},
   "outputs": [],
   "source": [
    "var57 = np.concatenate((var53,var54),axis = 1)"
   ]
  },
  {
   "cell_type": "code",
   "execution_count": 107,
   "id": "dadac4e6",
   "metadata": {},
   "outputs": [
    {
     "name": "stdout",
     "output_type": "stream",
     "text": [
      "[[2 7 8 9]\n",
      " [4 6 7 5]]\n"
     ]
    }
   ],
   "source": [
    "print(var57)"
   ]
  },
  {
   "cell_type": "code",
   "execution_count": 108,
   "id": "ed45bf62",
   "metadata": {},
   "outputs": [],
   "source": [
    "var58 = np.array([9,7,4,6])\n",
    "var59 = np.array([5,9,7,3])"
   ]
  },
  {
   "cell_type": "code",
   "execution_count": 109,
   "id": "fbe1c24f",
   "metadata": {},
   "outputs": [],
   "source": [
    "var60 = np.stack((var58,var59),axis = 1)"
   ]
  },
  {
   "cell_type": "code",
   "execution_count": 110,
   "id": "de0aa038",
   "metadata": {},
   "outputs": [
    {
     "name": "stdout",
     "output_type": "stream",
     "text": [
      "[[9 5]\n",
      " [7 9]\n",
      " [4 7]\n",
      " [6 3]]\n"
     ]
    }
   ],
   "source": [
    "print(var60)"
   ]
  },
  {
   "cell_type": "code",
   "execution_count": 111,
   "id": "c348d8c5",
   "metadata": {},
   "outputs": [],
   "source": [
    "var61 = np.stack((var58,var59),axis = 0)"
   ]
  },
  {
   "cell_type": "code",
   "execution_count": 112,
   "id": "37facbdd",
   "metadata": {},
   "outputs": [
    {
     "name": "stdout",
     "output_type": "stream",
     "text": [
      "[[9 7 4 6]\n",
      " [5 9 7 3]]\n"
     ]
    }
   ],
   "source": [
    "print(var61)"
   ]
  },
  {
   "cell_type": "code",
   "execution_count": 113,
   "id": "51d01a73",
   "metadata": {},
   "outputs": [],
   "source": [
    "var62 = np.hstack((var58,var59))"
   ]
  },
  {
   "cell_type": "code",
   "execution_count": 114,
   "id": "b7f0b57c",
   "metadata": {},
   "outputs": [
    {
     "name": "stdout",
     "output_type": "stream",
     "text": [
      "[9 7 4 6 5 9 7 3]\n"
     ]
    }
   ],
   "source": [
    "print(var62)"
   ]
  },
  {
   "cell_type": "code",
   "execution_count": 115,
   "id": "0e1f04db",
   "metadata": {},
   "outputs": [],
   "source": [
    "var63 = np.vstack((var58,var59))"
   ]
  },
  {
   "cell_type": "code",
   "execution_count": 116,
   "id": "0e3edc6e",
   "metadata": {},
   "outputs": [
    {
     "name": "stdout",
     "output_type": "stream",
     "text": [
      "[[9 7 4 6]\n",
      " [5 9 7 3]]\n"
     ]
    }
   ],
   "source": [
    "print(var63)"
   ]
  },
  {
   "cell_type": "code",
   "execution_count": 117,
   "id": "0f4a0d6d",
   "metadata": {},
   "outputs": [],
   "source": [
    "var64 = np.dstack((var58,var59))"
   ]
  },
  {
   "cell_type": "code",
   "execution_count": 118,
   "id": "87d0649e",
   "metadata": {},
   "outputs": [
    {
     "name": "stdout",
     "output_type": "stream",
     "text": [
      "[[[9 5]\n",
      "  [7 9]\n",
      "  [4 7]\n",
      "  [6 3]]]\n"
     ]
    }
   ],
   "source": [
    "print(var64)"
   ]
  },
  {
   "cell_type": "markdown",
   "id": "9f90de42",
   "metadata": {},
   "source": [
    "# split array"
   ]
  },
  {
   "cell_type": "code",
   "execution_count": 119,
   "id": "def61f6c",
   "metadata": {},
   "outputs": [
    {
     "name": "stdout",
     "output_type": "stream",
     "text": [
      "\n",
      "[7 4 8 2 7 9 4 7]\n",
      "\n",
      "[array([7, 4]), array([8, 2]), array([7, 9]), array([4, 7])]\n",
      "<class 'list'>\n",
      "[7 9]\n"
     ]
    }
   ],
   "source": [
    "var65 = np.array([7,4,8,2,7,9,4,7])\n",
    "var66 = np.array_split(var65,4)\n",
    "print()\n",
    "print(var65)\n",
    "print()\n",
    "print(var66)\n",
    "print(type(var66))\n",
    "print(var66[2])"
   ]
  },
  {
   "cell_type": "code",
   "execution_count": 120,
   "id": "3326821d",
   "metadata": {},
   "outputs": [
    {
     "name": "stdout",
     "output_type": "stream",
     "text": [
      "\n",
      "[[7 4]\n",
      " [8 2]\n",
      " [7 9]\n",
      " [4 7]]\n",
      "\n",
      "[array([[7, 4]]), array([[8, 2]]), array([[7, 9]]), array([[4, 7]])]\n",
      "<class 'list'>\n",
      "[[7 9]]\n"
     ]
    }
   ],
   "source": [
    "var65 = np.array([[7,4],[8,2],[7,9],[4,7]])\n",
    "var66 = np.array_split(var65,4)\n",
    "print()\n",
    "print(var65)\n",
    "print()\n",
    "print(var66)\n",
    "print(type(var66))\n",
    "print(var66[2])"
   ]
  },
  {
   "cell_type": "code",
   "execution_count": 121,
   "id": "2925a405",
   "metadata": {},
   "outputs": [
    {
     "name": "stdout",
     "output_type": "stream",
     "text": [
      "\n",
      "[[7 4]\n",
      " [8 2]\n",
      " [7 9]\n",
      " [4 7]]\n",
      "\n",
      "[array([[7, 4]]), array([[8, 2]]), array([[7, 9]]), array([[4, 7]])]\n",
      "<class 'list'>\n",
      "[[7 9]]\n",
      "\n",
      "[array([[7, 4]]), array([[8, 2]]), array([[7, 9]]), array([[4, 7]])]\n"
     ]
    }
   ],
   "source": [
    "var65 = np.array([[7,4],[8,2],[7,9],[4,7]])\n",
    "var66 = np.array_split(var65,4)\n",
    "var67 = np.array_split(var65,4, axis = 0)\n",
    "print()\n",
    "print(var65)\n",
    "print()\n",
    "print(var66)\n",
    "print(type(var66))\n",
    "print(var66[2])\n",
    "print()\n",
    "print(var67)"
   ]
  },
  {
   "cell_type": "code",
   "execution_count": 122,
   "id": "6a36818d",
   "metadata": {},
   "outputs": [
    {
     "name": "stdout",
     "output_type": "stream",
     "text": [
      "\n",
      "[[7 4]\n",
      " [8 2]\n",
      " [7 9]\n",
      " [4 7]]\n",
      "\n",
      "[array([[7, 4]]), array([[8, 2]]), array([[7, 9]]), array([[4, 7]])]\n",
      "<class 'list'>\n",
      "[[7 9]]\n",
      "\n",
      "[array([[7],\n",
      "       [8],\n",
      "       [7],\n",
      "       [4]]), array([[4],\n",
      "       [2],\n",
      "       [9],\n",
      "       [7]]), array([], shape=(4, 0), dtype=int32), array([], shape=(4, 0), dtype=int32)]\n"
     ]
    }
   ],
   "source": [
    "var65 = np.array([[7,4],[8,2],[7,9],[4,7]])\n",
    "var66 = np.array_split(var65,4)\n",
    "var67 = np.array_split(var65,4, axis = 1)\n",
    "print()\n",
    "print(var65)\n",
    "print()\n",
    "print(var66)\n",
    "print(type(var66))\n",
    "print(var66[2])\n",
    "print()\n",
    "print(var67)"
   ]
  },
  {
   "cell_type": "markdown",
   "id": "726c2f18",
   "metadata": {},
   "source": [
    "# search array"
   ]
  },
  {
   "cell_type": "code",
   "execution_count": 123,
   "id": "7a585bdb",
   "metadata": {},
   "outputs": [
    {
     "name": "stdout",
     "output_type": "stream",
     "text": [
      "\n",
      "(array([ 2,  4,  6,  9, 11], dtype=int64),)\n"
     ]
    }
   ],
   "source": [
    "var68 = np.array([6,8,9,3,9,4,9,5,3,9,3,9,7])\n",
    "var69 = np.where(var68 == 9)\n",
    "print()\n",
    "print(var69)"
   ]
  },
  {
   "cell_type": "code",
   "execution_count": 124,
   "id": "ed15adb5",
   "metadata": {},
   "outputs": [
    {
     "name": "stdout",
     "output_type": "stream",
     "text": [
      "\n",
      "(array([0, 1, 5], dtype=int64),)\n"
     ]
    }
   ],
   "source": [
    "var68 = np.array([6,8,9,3,9,4,9,5,3,9,3,9,7])\n",
    "var69 = np.where((var68%2) == 0)\n",
    "print()\n",
    "print(var69)"
   ]
  },
  {
   "cell_type": "markdown",
   "id": "614164a6",
   "metadata": {},
   "source": [
    "# search sort11"
   ]
  },
  {
   "cell_type": "code",
   "execution_count": 125,
   "id": "00bba6f0",
   "metadata": {},
   "outputs": [
    {
     "name": "stdout",
     "output_type": "stream",
     "text": [
      "\n",
      "4\n"
     ]
    }
   ],
   "source": [
    "var68 = np.array([1,2,3,4,6,7,8,9])\n",
    "var69 = np.searchsorted(var68,5)\n",
    "print()\n",
    "print(var69)"
   ]
  },
  {
   "cell_type": "code",
   "execution_count": 126,
   "id": "8279c627",
   "metadata": {},
   "outputs": [
    {
     "name": "stdout",
     "output_type": "stream",
     "text": [
      "\n",
      "4\n"
     ]
    }
   ],
   "source": [
    "var68 = np.array([1,2,3,4,6,7,8,9])\n",
    "var69 = np.searchsorted(var68,5,side = \"right\")\n",
    "print()\n",
    "print(var69)"
   ]
  },
  {
   "cell_type": "code",
   "execution_count": 127,
   "id": "575bf068",
   "metadata": {},
   "outputs": [
    {
     "name": "stdout",
     "output_type": "stream",
     "text": [
      "\n",
      "[4 5 6]\n"
     ]
    }
   ],
   "source": [
    "var68 = np.array([1,2,3,4,6,7,8,9])\n",
    "var69 = np.searchsorted(var68,[5,6,7],side = \"right\")\n",
    "print()\n",
    "print(var69)"
   ]
  },
  {
   "cell_type": "markdown",
   "id": "18a05d5c",
   "metadata": {},
   "source": [
    "# sort"
   ]
  },
  {
   "cell_type": "code",
   "execution_count": 128,
   "id": "33ecba41",
   "metadata": {},
   "outputs": [
    {
     "name": "stdout",
     "output_type": "stream",
     "text": [
      "\n",
      "[0 1 3 4 6 7 8 9]\n"
     ]
    }
   ],
   "source": [
    "var70 = np.array([6,8,9,3,1,4,0,7])\n",
    "var71 = np.sort(var70)\n",
    "print()\n",
    "print(var71)"
   ]
  },
  {
   "cell_type": "code",
   "execution_count": 129,
   "id": "297ea163",
   "metadata": {},
   "outputs": [
    {
     "name": "stdout",
     "output_type": "stream",
     "text": [
      "\n",
      "[[6 8 9]\n",
      " [1 3 4]\n",
      " [0 2 7]]\n"
     ]
    }
   ],
   "source": [
    "var70 = np.array([[6,8,9],[3,1,4],[0,7,2]])\n",
    "var71 = np.sort(var70)\n",
    "print()\n",
    "print(var71)"
   ]
  },
  {
   "cell_type": "markdown",
   "id": "5baa6d34",
   "metadata": {},
   "source": [
    "# filter array"
   ]
  },
  {
   "cell_type": "code",
   "execution_count": 130,
   "id": "1a2ba5c6",
   "metadata": {},
   "outputs": [
    {
     "name": "stdout",
     "output_type": "stream",
     "text": [
      "['q' 'a']\n"
     ]
    }
   ],
   "source": [
    "var72 = np.array([\"q\",\"y\",\"u\",\"a\"])\n",
    "f = [True,False,False,True]\n",
    "var73 = var72[f]\n",
    "print(var73)"
   ]
  },
  {
   "cell_type": "markdown",
   "id": "e21b581f",
   "metadata": {},
   "source": [
    "# Numpy Array function"
   ]
  },
  {
   "cell_type": "markdown",
   "id": "9b628319",
   "metadata": {},
   "source": [
    "# shuffle"
   ]
  },
  {
   "cell_type": "code",
   "execution_count": 131,
   "id": "a368ba2f",
   "metadata": {},
   "outputs": [
    {
     "name": "stdout",
     "output_type": "stream",
     "text": [
      "[1 2 3 4 6 7 8 9]\n",
      "\n",
      "[2 1 3 9 7 4 8 6]\n"
     ]
    }
   ],
   "source": [
    "var74 = np.array([1,2,3,4,6,7,8,9])\n",
    "print(var74)\n",
    "print()\n",
    "np.random.shuffle(var74)\n",
    "print(var74)"
   ]
  },
  {
   "cell_type": "markdown",
   "id": "7e326072",
   "metadata": {},
   "source": [
    "# unique"
   ]
  },
  {
   "cell_type": "code",
   "execution_count": 132,
   "id": "6168048e",
   "metadata": {},
   "outputs": [
    {
     "name": "stdout",
     "output_type": "stream",
     "text": [
      "[6 8 9 3 9 4 9 5 3 9 3 9 7]\n",
      "\n",
      "[3 4 5 6 7 8 9]\n"
     ]
    }
   ],
   "source": [
    "var76 = np.array([6,8,9,3,9,4,9,5,3,9,3,9,7])\n",
    "print(var76)\n",
    "print()\n",
    "var77 = np.unique(var76)\n",
    "print(var77)"
   ]
  },
  {
   "cell_type": "code",
   "execution_count": 133,
   "id": "e0027f48",
   "metadata": {},
   "outputs": [
    {
     "name": "stdout",
     "output_type": "stream",
     "text": [
      "[6 8 9 3 9 4 9 5 3 9 3 9 7]\n",
      "\n",
      "(array([3, 4, 5, 6, 7, 8, 9]), array([ 3,  5,  7,  0, 12,  1,  2], dtype=int64))\n"
     ]
    }
   ],
   "source": [
    "var76 = np.array([6,8,9,3,9,4,9,5,3,9,3,9,7])\n",
    "print(var76)\n",
    "print()\n",
    "var77 = np.unique(var76,return_index= True)\n",
    "print(var77)"
   ]
  },
  {
   "cell_type": "code",
   "execution_count": 134,
   "id": "afe188a5",
   "metadata": {},
   "outputs": [
    {
     "name": "stdout",
     "output_type": "stream",
     "text": [
      "[6 8 9 3 9 4 9 5 3 9 3 9 7]\n",
      "\n",
      "(array([3, 4, 5, 6, 7, 8, 9]), array([ 3,  5,  7,  0, 12,  1,  2], dtype=int64), array([3, 1, 1, 1, 1, 1, 5], dtype=int64))\n"
     ]
    }
   ],
   "source": [
    "var76 = np.array([6,8,9,3,9,4,9,5,3,9,3,9,7])\n",
    "print(var76)\n",
    "print()\n",
    "var77 = np.unique(var76,return_index= True,return_counts=True)\n",
    "print(var77)"
   ]
  },
  {
   "cell_type": "markdown",
   "id": "d96e90fe",
   "metadata": {},
   "source": [
    "# Resize"
   ]
  },
  {
   "cell_type": "code",
   "execution_count": 135,
   "id": "02355766",
   "metadata": {},
   "outputs": [
    {
     "name": "stdout",
     "output_type": "stream",
     "text": [
      "[6 8 9 3 9 4 9 5 3 9 3 7]\n",
      "\n",
      "[[6 8 9 3]\n",
      " [9 4 9 5]\n",
      " [3 9 3 7]]\n"
     ]
    }
   ],
   "source": [
    "var78 = np.array([6,8,9,3,9,4,9,5,3,9,3,7])\n",
    "print(var78)\n",
    "print()\n",
    "var79 = np.resize(var78,(3,4))\n",
    "print(var79)"
   ]
  },
  {
   "cell_type": "code",
   "execution_count": 136,
   "id": "65ab428d",
   "metadata": {},
   "outputs": [
    {
     "name": "stdout",
     "output_type": "stream",
     "text": [
      "[6 8 9 3 9 4 9 5 3 9 3 7]\n",
      "\n",
      "[[6 8 9]\n",
      " [3 9 4]\n",
      " [9 5 3]\n",
      " [9 3 7]]\n"
     ]
    }
   ],
   "source": [
    "var78 = np.array([6,8,9,3,9,4,9,5,3,9,3,7])\n",
    "print(var78)\n",
    "print()\n",
    "var79 = np.resize(var78,(4,3))\n",
    "print(var79)"
   ]
  },
  {
   "cell_type": "markdown",
   "id": "f49e9741",
   "metadata": {},
   "source": [
    "# Flatten and Reval"
   ]
  },
  {
   "cell_type": "code",
   "execution_count": 137,
   "id": "689959ee",
   "metadata": {
    "scrolled": true
   },
   "outputs": [
    {
     "name": "stdout",
     "output_type": "stream",
     "text": [
      "[6 8 9 3 9 4 9 5 3 9 3 7]\n",
      "\n",
      "[[6 8 9]\n",
      " [3 9 4]\n",
      " [9 5 3]\n",
      " [9 3 7]]\n"
     ]
    }
   ],
   "source": [
    "var78 = np.array([6,8,9,3,9,4,9,5,3,9,3,7])\n",
    "print(var78)\n",
    "print()\n",
    "var79 = np.resize(var78,(4,3))\n",
    "print(var79)"
   ]
  },
  {
   "cell_type": "code",
   "execution_count": 138,
   "id": "ab6da622",
   "metadata": {},
   "outputs": [
    {
     "name": "stdout",
     "output_type": "stream",
     "text": [
      "[6 8 9 3 9 4 9 5 3 9 3 7]\n"
     ]
    }
   ],
   "source": [
    "print(var78.flatten())"
   ]
  },
  {
   "cell_type": "code",
   "execution_count": 139,
   "id": "55286442",
   "metadata": {},
   "outputs": [
    {
     "name": "stdout",
     "output_type": "stream",
     "text": [
      "[6 8 9 3 9 4 9 5 3 9 3 7]\n"
     ]
    }
   ],
   "source": [
    "print(var78.flatten(order = \"F\"))"
   ]
  },
  {
   "cell_type": "code",
   "execution_count": 140,
   "id": "6f2d73cd",
   "metadata": {},
   "outputs": [
    {
     "name": "stdout",
     "output_type": "stream",
     "text": [
      "reval [6 8 9 3 9 4 9 5 3 9 3 7]\n"
     ]
    }
   ],
   "source": [
    "print(\"reval\", np.ravel(var78,order = \"K\"))"
   ]
  },
  {
   "cell_type": "markdown",
   "id": "bd09da41",
   "metadata": {},
   "source": [
    "# Insert and delete funcation"
   ]
  },
  {
   "cell_type": "code",
   "execution_count": 141,
   "id": "6b36c9dd",
   "metadata": {},
   "outputs": [],
   "source": [
    "import numpy as np"
   ]
  },
  {
   "cell_type": "code",
   "execution_count": 142,
   "id": "869b75d3",
   "metadata": {},
   "outputs": [
    {
     "name": "stdout",
     "output_type": "stream",
     "text": [
      "[4 5 6 7 8]\n"
     ]
    }
   ],
   "source": [
    "var80 = np.array([4,5,6,7,8])\n",
    "print(var80)"
   ]
  },
  {
   "cell_type": "code",
   "execution_count": 143,
   "id": "00181625",
   "metadata": {},
   "outputs": [
    {
     "name": "stdout",
     "output_type": "stream",
     "text": [
      "[ 4  5  6 70  7  8]\n"
     ]
    }
   ],
   "source": [
    "var81 = np.insert(var80,3,70)\n",
    "print(var81)"
   ]
  },
  {
   "cell_type": "code",
   "execution_count": 144,
   "id": "7a9f7754",
   "metadata": {},
   "outputs": [
    {
     "name": "stdout",
     "output_type": "stream",
     "text": [
      "[4 5 9 6 9 7 8]\n"
     ]
    }
   ],
   "source": [
    "var81 = np.insert(var80,(2,3),9)\n",
    "print(var81)"
   ]
  },
  {
   "cell_type": "code",
   "execution_count": 145,
   "id": "08033041",
   "metadata": {},
   "outputs": [
    {
     "name": "stdout",
     "output_type": "stream",
     "text": [
      "[[1 2 3]\n",
      " [1 2 3]]\n"
     ]
    }
   ],
   "source": [
    "var82 = np.array([[1,2,3],[1,2,3]])\n",
    "print(var82)"
   ]
  },
  {
   "cell_type": "code",
   "execution_count": 146,
   "id": "96338ff3",
   "metadata": {},
   "outputs": [
    {
     "name": "stdout",
     "output_type": "stream",
     "text": [
      "[[1 2 3]\n",
      " [1 2 3]]\n"
     ]
    }
   ],
   "source": [
    "var83 = np.insert(var82, 2, 7, axis = 0)\n",
    "print(var82)"
   ]
  },
  {
   "cell_type": "code",
   "execution_count": 147,
   "id": "c9ea75a5",
   "metadata": {
    "scrolled": true
   },
   "outputs": [
    {
     "name": "stdout",
     "output_type": "stream",
     "text": [
      "[[1 2 3]\n",
      " [1 2 3]]\n"
     ]
    }
   ],
   "source": [
    "var83 = np.insert(var82, 2, 7, axis = 1)\n",
    "print(var82)"
   ]
  },
  {
   "cell_type": "code",
   "execution_count": 148,
   "id": "d326d488",
   "metadata": {},
   "outputs": [
    {
     "name": "stdout",
     "output_type": "stream",
     "text": [
      "[1.  2.  3.  1.  2.  3.  6.6]\n"
     ]
    }
   ],
   "source": [
    "var84 = np.append(var82,6.6)\n",
    "print(var84)"
   ]
  },
  {
   "cell_type": "code",
   "execution_count": 149,
   "id": "5faa1d20",
   "metadata": {},
   "outputs": [
    {
     "name": "stdout",
     "output_type": "stream",
     "text": [
      "[[ 1  2  3]\n",
      " [ 1  2  3]\n",
      " [67 78 98]]\n"
     ]
    }
   ],
   "source": [
    "var85 =  np.append(var82,[[67,78,98]],axis = 0)\n",
    "print(var85)"
   ]
  },
  {
   "cell_type": "markdown",
   "id": "c974ad50",
   "metadata": {},
   "source": [
    "# Delete"
   ]
  },
  {
   "cell_type": "code",
   "execution_count": 150,
   "id": "fb65523a",
   "metadata": {},
   "outputs": [
    {
     "name": "stdout",
     "output_type": "stream",
     "text": [
      "[6 8 9 4]\n"
     ]
    }
   ],
   "source": [
    "var86 = np.array([6,8,9,4])\n",
    "print(var86)"
   ]
  },
  {
   "cell_type": "code",
   "execution_count": 151,
   "id": "9fee8713",
   "metadata": {},
   "outputs": [
    {
     "name": "stdout",
     "output_type": "stream",
     "text": [
      "[6 8 4]\n"
     ]
    }
   ],
   "source": [
    "var87 = np.delete(var86,2)\n",
    "print(var87)"
   ]
  },
  {
   "cell_type": "markdown",
   "id": "ae90f670",
   "metadata": {},
   "source": [
    "# Numpy Matrix"
   ]
  },
  {
   "cell_type": "code",
   "execution_count": 152,
   "id": "84b0241b",
   "metadata": {},
   "outputs": [],
   "source": [
    "import numpy as np\n"
   ]
  },
  {
   "cell_type": "code",
   "execution_count": 153,
   "id": "d5238bcc",
   "metadata": {},
   "outputs": [
    {
     "name": "stdout",
     "output_type": "stream",
     "text": [
      "[[1 2 4]\n",
      " [4 5 6]]\n",
      "<class 'numpy.matrix'>\n"
     ]
    }
   ],
   "source": [
    "var88 = np.matrix([[1,2,4],[4,5,6]])\n",
    "print(var88)\n",
    "print(type(var88))"
   ]
  },
  {
   "cell_type": "code",
   "execution_count": 154,
   "id": "3114b34f",
   "metadata": {},
   "outputs": [
    {
     "name": "stdout",
     "output_type": "stream",
     "text": [
      "[[1 2 4]\n",
      " [4 5 6]]\n",
      "<class 'numpy.ndarray'>\n"
     ]
    }
   ],
   "source": [
    "var89 = np.array([[1,2,4],[4,5,6]])\n",
    "print(var89)\n",
    "print(type(var89))"
   ]
  },
  {
   "cell_type": "code",
   "execution_count": 155,
   "id": "f02b8897",
   "metadata": {},
   "outputs": [
    {
     "name": "stdout",
     "output_type": "stream",
     "text": [
      "[[1 2 4]\n",
      " [4 5 6]]\n",
      "<class 'numpy.matrix'>\n",
      "\n",
      "[[ 2  4  8]\n",
      " [ 8 10 12]]\n"
     ]
    }
   ],
   "source": [
    "var90 = np.matrix([[1,2,4],[4,5,6]])\n",
    "var91 = np.matrix([[1,2,4],[4,5,6]])\n",
    "print(var90)\n",
    "print(type(var90))\n",
    "print()\n",
    "print(var90 + var91)\n"
   ]
  },
  {
   "cell_type": "code",
   "execution_count": 156,
   "id": "a675aa30",
   "metadata": {},
   "outputs": [
    {
     "name": "stdout",
     "output_type": "stream",
     "text": [
      "[[1 2]\n",
      " [4 5]]\n",
      "\n",
      "[[ 9 12]\n",
      " [24 33]]\n",
      "\n",
      "[[ 9 12]\n",
      " [24 33]]\n"
     ]
    }
   ],
   "source": [
    "var90 = np.matrix([[1,2],[4,5]])\n",
    "var91 = np.matrix([[1,2],[4,5]])\n",
    "print(var90)\n",
    "print()\n",
    "print(var90*var91)\n",
    "print()\n",
    "print(var90.dot(var91))"
   ]
  },
  {
   "cell_type": "markdown",
   "id": "3d222a35",
   "metadata": {},
   "source": [
    "# Matrix function"
   ]
  },
  {
   "cell_type": "markdown",
   "id": "bfc8b882",
   "metadata": {},
   "source": [
    "# Transpose"
   ]
  },
  {
   "cell_type": "markdown",
   "id": "4df95cc9",
   "metadata": {},
   "source": [
    "# Transpose"
   ]
  },
  {
   "cell_type": "code",
   "execution_count": 157,
   "id": "a8a78379",
   "metadata": {
    "scrolled": true
   },
   "outputs": [
    {
     "name": "stdout",
     "output_type": "stream",
     "text": [
      "[[1 2 7]\n",
      " [4 5 9]]\n",
      "\n",
      "[[1 4]\n",
      " [2 5]\n",
      " [7 9]]\n",
      "\n",
      "[[1 4]\n",
      " [2 5]\n",
      " [7 9]]\n"
     ]
    }
   ],
   "source": [
    "var92 = np.matrix([[1,2,7],[4,5,9]])\n",
    "print(var92)\n",
    "print()\n",
    "print(np.transpose(var92))\n",
    "print()\n",
    "print(var92.T)"
   ]
  },
  {
   "cell_type": "markdown",
   "id": "493dd383",
   "metadata": {},
   "source": [
    "# Swapaxes"
   ]
  },
  {
   "cell_type": "code",
   "execution_count": 158,
   "id": "085177bf",
   "metadata": {},
   "outputs": [
    {
     "name": "stdout",
     "output_type": "stream",
     "text": [
      "[[1 2 7]\n",
      " [4 5 9]]\n",
      "\n",
      "[[1 4]\n",
      " [2 5]\n",
      " [7 9]]\n"
     ]
    }
   ],
   "source": [
    "var93 = np.matrix([[1,2,7],[4,5,9]])\n",
    "print(var93)\n",
    "print()\n",
    "print(np.swapaxes(var93,0,1))"
   ]
  },
  {
   "cell_type": "markdown",
   "id": "fc749a9d",
   "metadata": {},
   "source": [
    "# inverse"
   ]
  },
  {
   "cell_type": "code",
   "execution_count": 159,
   "id": "cb5f9bd2",
   "metadata": {},
   "outputs": [
    {
     "name": "stdout",
     "output_type": "stream",
     "text": [
      "[[1 2]\n",
      " [4 5]]\n",
      "\n",
      "[[-1.66666667  0.66666667]\n",
      " [ 1.33333333 -0.33333333]]\n"
     ]
    }
   ],
   "source": [
    "var94 = np.matrix([[1,2],[4,5]])\n",
    "print(var94)\n",
    "print()\n",
    "print(np.linalg.inv(var94))"
   ]
  },
  {
   "cell_type": "markdown",
   "id": "1e2108b1",
   "metadata": {},
   "source": [
    "# power of matrix"
   ]
  },
  {
   "cell_type": "code",
   "execution_count": 160,
   "id": "bef66c67",
   "metadata": {},
   "outputs": [
    {
     "name": "stdout",
     "output_type": "stream",
     "text": [
      "[[7 8]\n",
      " [9 5]]\n",
      "\n",
      "[[25009 20928]\n",
      " [23544 19777]]\n",
      "\n",
      "[[1 0]\n",
      " [0 1]]\n",
      "\n",
      "[[ 0.07085464 -0.07012418]\n",
      " [-0.0788897   0.08838568]]\n"
     ]
    }
   ],
   "source": [
    "var95 = np.matrix([[7,8],[9,5]])\n",
    "print(var95)\n",
    "print()\n",
    "print(np.linalg.matrix_power(var95,4))\n",
    "print()\n",
    "print(np.linalg.matrix_power(var95,0))\n",
    "print()\n",
    "print(np.linalg.matrix_power(var95,-2))"
   ]
  },
  {
   "cell_type": "markdown",
   "id": "92446932",
   "metadata": {},
   "source": [
    "# Determinate of matrix"
   ]
  },
  {
   "cell_type": "code",
   "execution_count": 161,
   "id": "226b3dcd",
   "metadata": {},
   "outputs": [
    {
     "name": "stdout",
     "output_type": "stream",
     "text": [
      "[[8 5]\n",
      " [9 2]]\n",
      "\n",
      "-29.000000000000004\n"
     ]
    }
   ],
   "source": [
    "var96 = np.matrix([[8,5],[9,2]])\n",
    "print(var96)\n",
    "print()\n",
    "print(np.linalg.det(var96))"
   ]
  },
  {
   "cell_type": "code",
   "execution_count": 162,
   "id": "ef48b2a6",
   "metadata": {},
   "outputs": [
    {
     "name": "stdout",
     "output_type": "stream",
     "text": [
      "[[8 5 3]\n",
      " [9 2 7]\n",
      " [1 6 4]]\n",
      "\n",
      "-261.00000000000006\n"
     ]
    }
   ],
   "source": [
    "var97 = np.matrix([[8,5,3],[9,2,7],[1,6,4]])\n",
    "print(var97)\n",
    "print()\n",
    "print(np.linalg.det(var97))"
   ]
  },
  {
   "cell_type": "code",
   "execution_count": 163,
   "id": "cf239969",
   "metadata": {},
   "outputs": [
    {
     "name": "stdout",
     "output_type": "stream",
     "text": [
      "[[8 5 3]\n",
      " [9 2 7]\n",
      " [8 5 3]]\n",
      "\n",
      "0.0\n"
     ]
    }
   ],
   "source": [
    "var98 = np.matrix([[8,5,3],[9,2,7],[8,5,3]])\n",
    "print(var98)\n",
    "print()\n",
    "print(np.linalg.det(var98))"
   ]
  },
  {
   "cell_type": "markdown",
   "id": "8a4d58e8",
   "metadata": {},
   "source": [
    "# Slicing and indexing"
   ]
  },
  {
   "cell_type": "code",
   "execution_count": 164,
   "id": "33b5c957",
   "metadata": {},
   "outputs": [],
   "source": [
    "import numpy as np"
   ]
  },
  {
   "cell_type": "code",
   "execution_count": 165,
   "id": "78d235f6",
   "metadata": {},
   "outputs": [
    {
     "name": "stdout",
     "output_type": "stream",
     "text": [
      "[[8 5 3]\n",
      " [9 2 7]\n",
      " [8 5 3]]\n",
      "\n"
     ]
    }
   ],
   "source": [
    "var98 = np.array([[8,5,3],[9,2,7],[8,5,3]])\n",
    "print(var98)\n",
    "print()"
   ]
  },
  {
   "cell_type": "code",
   "execution_count": 166,
   "id": "0672752e",
   "metadata": {},
   "outputs": [
    {
     "data": {
      "text/plain": [
       "array([[5]])"
      ]
     },
     "execution_count": 166,
     "metadata": {},
     "output_type": "execute_result"
    }
   ],
   "source": [
    "var98[2:3,1:2]"
   ]
  },
  {
   "cell_type": "code",
   "execution_count": 167,
   "id": "4335ccb1",
   "metadata": {},
   "outputs": [
    {
     "data": {
      "text/plain": [
       "array([[2, 7],\n",
       "       [5, 3]])"
      ]
     },
     "execution_count": 167,
     "metadata": {},
     "output_type": "execute_result"
    }
   ],
   "source": [
    "var98[1:3,1:3]"
   ]
  },
  {
   "cell_type": "code",
   "execution_count": 168,
   "id": "7d2bdc1e",
   "metadata": {},
   "outputs": [
    {
     "data": {
      "text/plain": [
       "array([[3],\n",
       "       [7],\n",
       "       [3]])"
      ]
     },
     "execution_count": 168,
     "metadata": {},
     "output_type": "execute_result"
    }
   ],
   "source": [
    "var98[:,2:3]"
   ]
  },
  {
   "cell_type": "code",
   "execution_count": 169,
   "id": "50a34390",
   "metadata": {},
   "outputs": [
    {
     "data": {
      "text/plain": [
       "array([[ 877,  725,   87, 1300,  682],\n",
       "       [1347,  119,  809,  968,  954],\n",
       "       [1032, 1293, 1291, 1474,  729],\n",
       "       [1309, 1295,  419, 1046,  713],\n",
       "       [  38,  973,  269,  686,  335],\n",
       "       [ 345,  526,  563,  748, 1495]])"
      ]
     },
     "execution_count": 169,
     "metadata": {},
     "output_type": "execute_result"
    }
   ],
   "source": [
    "np.random.seed(111)\n",
    "varr99 = np.random.randint(1,1500,30).reshape(6,5)\n",
    "varr99"
   ]
  },
  {
   "cell_type": "code",
   "execution_count": 170,
   "id": "61e01ea2",
   "metadata": {},
   "outputs": [
    {
     "data": {
      "text/plain": [
       "array([[686]])"
      ]
     },
     "execution_count": 170,
     "metadata": {},
     "output_type": "execute_result"
    }
   ],
   "source": [
    "varr99[4:5,3:4]"
   ]
  },
  {
   "cell_type": "code",
   "execution_count": 171,
   "id": "e4df56a5",
   "metadata": {},
   "outputs": [
    {
     "data": {
      "text/plain": [
       "array([[ 345,  526,  563,  748, 1495],\n",
       "       [  38,  973,  269,  686,  335],\n",
       "       [1309, 1295,  419, 1046,  713],\n",
       "       [1032, 1293, 1291, 1474,  729],\n",
       "       [1347,  119,  809,  968,  954],\n",
       "       [ 877,  725,   87, 1300,  682]])"
      ]
     },
     "execution_count": 171,
     "metadata": {},
     "output_type": "execute_result"
    }
   ],
   "source": [
    "varr99[::-1]"
   ]
  },
  {
   "cell_type": "code",
   "execution_count": 172,
   "id": "e46724c3",
   "metadata": {},
   "outputs": [
    {
     "data": {
      "text/plain": [
       "array([[ 682, 1300,   87,  725,  877],\n",
       "       [ 954,  968,  809,  119, 1347],\n",
       "       [ 729, 1474, 1291, 1293, 1032],\n",
       "       [ 713, 1046,  419, 1295, 1309],\n",
       "       [ 335,  686,  269,  973,   38],\n",
       "       [1495,  748,  563,  526,  345]])"
      ]
     },
     "execution_count": 172,
     "metadata": {},
     "output_type": "execute_result"
    }
   ],
   "source": [
    "varr99[:,::-1]"
   ]
  },
  {
   "cell_type": "code",
   "execution_count": 173,
   "id": "a95dcede",
   "metadata": {},
   "outputs": [
    {
     "data": {
      "text/plain": [
       "array([ 877,  725,   87, 1300,  682, 1347,  119,  809,  968,  954, 1032,\n",
       "       1293, 1291, 1474,  729, 1309, 1295,  419, 1046,  713,   38,  973,\n",
       "        269,  686,  335,  345,  526,  563,  748, 1495])"
      ]
     },
     "execution_count": 173,
     "metadata": {},
     "output_type": "execute_result"
    }
   ],
   "source": [
    "varr100 = varr99.reshape(-1)\n",
    "varr100"
   ]
  },
  {
   "cell_type": "code",
   "execution_count": 174,
   "id": "f3da4514",
   "metadata": {},
   "outputs": [
    {
     "data": {
      "text/plain": [
       "array([[1495,  748,  563,  526,  345],\n",
       "       [ 335,  686,  269,  973,   38],\n",
       "       [ 713, 1046,  419, 1295, 1309],\n",
       "       [ 729, 1474, 1291, 1293, 1032],\n",
       "       [ 954,  968,  809,  119, 1347],\n",
       "       [ 682, 1300,   87,  725,  877]])"
      ]
     },
     "execution_count": 174,
     "metadata": {},
     "output_type": "execute_result"
    }
   ],
   "source": [
    "varr100[::-1].reshape(6,5)"
   ]
  },
  {
   "cell_type": "code",
   "execution_count": 175,
   "id": "67b383a7",
   "metadata": {},
   "outputs": [
    {
     "data": {
      "text/plain": [
       "array([[ 877,  725,   87, 1300,  682],\n",
       "       [1347,  119,  809,  968,  954],\n",
       "       [1032, 1293, 1291, 1474,  729],\n",
       "       [1309, 1295,  419, 1046,  713],\n",
       "       [  38,  973,  269,  686,  335],\n",
       "       [ 345,  526,  563,  748, 1495]])"
      ]
     },
     "execution_count": 175,
     "metadata": {},
     "output_type": "execute_result"
    }
   ],
   "source": [
    "varr99"
   ]
  },
  {
   "cell_type": "code",
   "execution_count": 176,
   "id": "a5e67ea2",
   "metadata": {},
   "outputs": [
    {
     "data": {
      "text/plain": [
       "array([[ 345,  526,  563,  748, 1495],\n",
       "       [1032, 1293, 1291, 1474,  729]])"
      ]
     },
     "execution_count": 176,
     "metadata": {},
     "output_type": "execute_result"
    }
   ],
   "source": [
    "varr99[::-3]"
   ]
  },
  {
   "cell_type": "code",
   "execution_count": 177,
   "id": "81fcd989",
   "metadata": {},
   "outputs": [
    {
     "data": {
      "text/plain": [
       "1495"
      ]
     },
     "execution_count": 177,
     "metadata": {},
     "output_type": "execute_result"
    }
   ],
   "source": [
    "varr99[5,4]"
   ]
  },
  {
   "cell_type": "code",
   "execution_count": 178,
   "id": "a0f2fd5b",
   "metadata": {},
   "outputs": [
    {
     "data": {
      "text/plain": [
       "686"
      ]
     },
     "execution_count": 178,
     "metadata": {},
     "output_type": "execute_result"
    }
   ],
   "source": [
    "varr99[4,3]"
   ]
  },
  {
   "cell_type": "code",
   "execution_count": 179,
   "id": "42844371",
   "metadata": {},
   "outputs": [
    {
     "data": {
      "text/plain": [
       "array([[ 686,  335],\n",
       "       [ 748, 1495]])"
      ]
     },
     "execution_count": 179,
     "metadata": {},
     "output_type": "execute_result"
    }
   ],
   "source": [
    "varr99[4:6,3:5]"
   ]
  },
  {
   "cell_type": "code",
   "execution_count": 180,
   "id": "59de0684",
   "metadata": {},
   "outputs": [
    {
     "data": {
      "text/plain": [
       "1291"
      ]
     },
     "execution_count": 180,
     "metadata": {},
     "output_type": "execute_result"
    }
   ],
   "source": [
    "varr99[2,2]"
   ]
  },
  {
   "cell_type": "code",
   "execution_count": 181,
   "id": "8f90b1c2",
   "metadata": {
    "scrolled": false
   },
   "outputs": [
    {
     "data": {
      "text/plain": [
       "array([1495,  345,  973,  419, 1474,  954, 1347,  725])"
      ]
     },
     "execution_count": 181,
     "metadata": {},
     "output_type": "execute_result"
    }
   ],
   "source": [
    "varr100[::-4]"
   ]
  }
 ],
 "metadata": {
  "kernelspec": {
   "display_name": "Python 3 (ipykernel)",
   "language": "python",
   "name": "python3"
  },
  "language_info": {
   "codemirror_mode": {
    "name": "ipython",
    "version": 3
   },
   "file_extension": ".py",
   "mimetype": "text/x-python",
   "name": "python",
   "nbconvert_exporter": "python",
   "pygments_lexer": "ipython3",
   "version": "3.9.12"
  }
 },
 "nbformat": 4,
 "nbformat_minor": 5
}
