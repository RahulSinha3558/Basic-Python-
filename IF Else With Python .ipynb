{
 "cells": [
  {
   "cell_type": "code",
   "execution_count": 1,
   "id": "bfc01318",
   "metadata": {},
   "outputs": [],
   "source": [
    "a = 10\n",
    "b = 20\n",
    "c = 40"
   ]
  },
  {
   "cell_type": "code",
   "execution_count": 2,
   "id": "e8ba5eab",
   "metadata": {},
   "outputs": [
    {
     "name": "stdout",
     "output_type": "stream",
     "text": [
      "a is not equal to b\n"
     ]
    }
   ],
   "source": [
    "if a == b:\n",
    "    print(\"a is equal to c\")\n",
    "else:\n",
    "    print(\"a is not equal to b\")\n",
    " "
   ]
  },
  {
   "cell_type": "code",
   "execution_count": 3,
   "id": "efbca75c",
   "metadata": {},
   "outputs": [
    {
     "name": "stdout",
     "output_type": "stream",
     "text": [
      "a is less than equal to b\n"
     ]
    }
   ],
   "source": [
    "if a == b:\n",
    "    print(\"a is equal to b\")\n",
    "elif a > b:\n",
    "    print(\"a is greater than equal to b\")\n",
    "elif a < b:\n",
    "    print(\"a is less than equal to b\")\n",
    "else:\n",
    "    print(\"a is not equal b\")"
   ]
  },
  {
   "cell_type": "code",
   "execution_count": 4,
   "id": "424e82dc",
   "metadata": {},
   "outputs": [
    {
     "name": "stdout",
     "output_type": "stream",
     "text": [
      "a is less than equal to b\n"
     ]
    }
   ],
   "source": [
    "if a == b:\n",
    "    print(\"a is equal to b\")\n",
    "elif a > b:\n",
    "    print(\"a is greater than equal to b\")\n",
    "else:\n",
    "    print(\"a is less than equal to b\")"
   ]
  },
  {
   "cell_type": "code",
   "execution_count": 1,
   "id": "0ccea097",
   "metadata": {},
   "outputs": [
    {
     "name": "stdout",
     "output_type": "stream",
     "text": [
      "Input my marks:  67\n"
     ]
    }
   ],
   "source": [
    "input_marks = int(input(\"Input my marks:  \"))"
   ]
  },
  {
   "cell_type": "code",
   "execution_count": 6,
   "id": "3f2c1b9e",
   "metadata": {
    "scrolled": true
   },
   "outputs": [
    {
     "ename": "SyntaxError",
     "evalue": "invalid syntax (2970486048.py, line 1)",
     "output_type": "error",
     "traceback": [
      "\u001b[1;36m  Input \u001b[1;32mIn [6]\u001b[1;36m\u001b[0m\n\u001b[1;33m    marks > 80 A\u001b[0m\n\u001b[1;37m               ^\u001b[0m\n\u001b[1;31mSyntaxError\u001b[0m\u001b[1;31m:\u001b[0m invalid syntax\n"
     ]
    }
   ],
   "source": [
    "marks > 80 A\n",
    "marks > 60 B\n",
    "marks > 40 C\n",
    "marks > 20 D\n",
    "marks < 20 E\n",
    "marks > 100 invaild"
   ]
  },
  {
   "cell_type": "code",
   "execution_count": 3,
   "id": "b5b4c859",
   "metadata": {},
   "outputs": [
    {
     "name": "stdout",
     "output_type": "stream",
     "text": [
      "B\n"
     ]
    }
   ],
   "source": [
    "if input_marks < 20:\n",
    "    print(\"E\")\n",
    "elif input_marks > 20 and input_marks <= 40:\n",
    "    print(\"D\")\n",
    "elif input_marks > 40 and input_marks <= 60:\n",
    "    print(\"C\")\n",
    "elif input_marks > 60 and input_marks <= 80:\n",
    "    print(\"B\")\n",
    "elif input_marks > 80 and input_marks <= 100:\n",
    "    print(\"A\")\n",
    "elif input_marks > 100:\n",
    "    print(\"invailed marks\")\n",
    "else:\n",
    "    print(\"not a number\")\n",
    "    "
   ]
  },
  {
   "cell_type": "code",
   "execution_count": 8,
   "id": "98dbdb83",
   "metadata": {
    "scrolled": true
   },
   "outputs": [
    {
     "name": "stdout",
     "output_type": "stream",
     "text": [
      "Input my marks:  170\n"
     ]
    }
   ],
   "source": [
    "input_marks = int(input(\"Input my marks:  \"))"
   ]
  },
  {
   "cell_type": "code",
   "execution_count": null,
   "id": "ef88e913",
   "metadata": {},
   "outputs": [],
   "source": [
    "marks > 150 A\n",
    "marks > 100 B\n",
    "marks > 50  C\n",
    "marks > 20  D\n",
    "marks < 20  E\n",
    "marks > 200 invaild"
   ]
  },
  {
   "cell_type": "code",
   "execution_count": 9,
   "id": "a2b1811f",
   "metadata": {},
   "outputs": [
    {
     "name": "stdout",
     "output_type": "stream",
     "text": [
      "A\n"
     ]
    }
   ],
   "source": [
    "if input_marks < 20:\n",
    "    print(\"E\")\n",
    "elif input_marks>20 and input_marks<=50:\n",
    "    print(\"D\")\n",
    "elif input_marks>50 and input_marks<=100:\n",
    "    print(\"C\")\n",
    "elif input_marks>100 and input_marks<=150:\n",
    "    print(\"B\")\n",
    "elif input_marks>150 and input_marks<=200:\n",
    "    print(\"A\")\n",
    "elif input_marks>200:\n",
    "    print(\"invaild\")\n",
    "else:\n",
    "    print(\"Not a number\")"
   ]
  },
  {
   "cell_type": "code",
   "execution_count": 8,
   "id": "300cf3ba",
   "metadata": {},
   "outputs": [],
   "source": [
    "a = 39\n",
    "b = 20"
   ]
  },
  {
   "cell_type": "code",
   "execution_count": 9,
   "id": "17f6060e",
   "metadata": {
    "scrolled": true
   },
   "outputs": [
    {
     "name": "stdout",
     "output_type": "stream",
     "text": [
      "Second Number\n"
     ]
    }
   ],
   "source": [
    "print(\"First Number\") if a < b else print(\"Second Number\")"
   ]
  },
  {
   "cell_type": "code",
   "execution_count": 10,
   "id": "4c8ce948",
   "metadata": {},
   "outputs": [
    {
     "name": "stdout",
     "output_type": "stream",
     "text": [
      "Second Name\n"
     ]
    }
   ],
   "source": [
    "if a < b:\n",
    "    print(\"First Name\")\n",
    "else:\n",
    "    print(\"Second Name\")"
   ]
  },
  {
   "cell_type": "code",
   "execution_count": null,
   "id": "2c25c7d1",
   "metadata": {},
   "outputs": [],
   "source": [
    "a = 70\n",
    "\n",
    "#>10 greater than 10\n",
    "#>20 greater than 20\n",
    "#>30 greater than 30\n",
    "#>40 greater than 40"
   ]
  },
  {
   "cell_type": "code",
   "execution_count": 11,
   "id": "581b8d38",
   "metadata": {},
   "outputs": [
    {
     "name": "stdout",
     "output_type": "stream",
     "text": [
      ">10\n",
      ">10 and > 20\n",
      ">10 and > 20 and >30\n",
      ">10 and > 20 and > 30 and > 40\n"
     ]
    }
   ],
   "source": [
    "if a > 10:\n",
    "    print(\">10\")\n",
    "    if a > 20:\n",
    "        print(\">10 and > 20\")\n",
    "        if a > 30:\n",
    "            print(\">10 and > 20 and >30\")\n",
    "            if a > 30:\n",
    "                print(\">10 and > 20 and > 30 and > 40\")\n",
    "            else:\n",
    "                print(\">10 and > 20 and > 30 but not >40\")"
   ]
  },
  {
   "cell_type": "code",
   "execution_count": 12,
   "id": "785766a5",
   "metadata": {},
   "outputs": [],
   "source": [
    "a = 10"
   ]
  },
  {
   "cell_type": "code",
   "execution_count": 13,
   "id": "16fe5887",
   "metadata": {},
   "outputs": [],
   "source": [
    "if a > 10:\n",
    "    print(\"a > 10\")\n",
    "    if a > 20:\n",
    "        print(\" a > 10 and a > 20\")\n",
    "        if a > 30:\n",
    "            print(\"a > 10 and a > 20 and a > 30\")\n",
    "            if a  > 30:\n",
    "                print(\" a > 10 and a > 20 and a > 30 and a > 40\")\n",
    "            else:\n",
    "                print(\" a > 10 and a > 20 and a > 30 but not a > 40\" )"
   ]
  },
  {
   "cell_type": "code",
   "execution_count": 14,
   "id": "0210c86d",
   "metadata": {},
   "outputs": [
    {
     "name": "stdout",
     "output_type": "stream",
     "text": [
      "a > 10 \n"
     ]
    }
   ],
   "source": [
    "a = -20\n",
    "if a <= 10:\n",
    "    print(\"a > 10 \")\n",
    "elif a > 20:\n",
    "    print(\"a > 20\")\n",
    "elif a > 30 :\n",
    "    print(\"a > 30\")\n",
    "elif a > 40:\n",
    "    print(\"a > 40\")\n",
    "else:\n",
    "    print(\"a > 40 \")"
   ]
  },
  {
   "cell_type": "code",
   "execution_count": null,
   "id": "9012e1ab",
   "metadata": {},
   "outputs": [],
   "source": [
    "a = 40\n",
    "\n",
    "if a > 10:\n",
    "    print(\">10\")\n",
    "    if a > 20:\n",
    "        print(\">10 and >20\")\n",
    "        if a > 30:\n",
    "            print(\">10 and >20 and >30\")\n",
    "            if a > 30:\n",
    "                print(\">10 and > 20 and > 30 and > 40\")\n",
    "        else:\n",
    "            print(\">10 and >20 and >30 and >40\")\n",
    "    "
   ]
  },
  {
   "cell_type": "code",
   "execution_count": null,
   "id": "52465a98",
   "metadata": {},
   "outputs": [],
   "source": [
    "number = 10\n",
    "if number > 10:\n",
    "    print(\"Positive Number\")\n",
    "elif number == 10:\n",
    "    print(\"equal to 10\")\n",
    "else:\n",
    "    print(\"Negative number\")"
   ]
  },
  {
   "cell_type": "code",
   "execution_count": null,
   "id": "e788c92f",
   "metadata": {},
   "outputs": [],
   "source": [
    "var = \"b\"\n",
    "\n",
    "if var == \"a\":\n",
    "    print(\"this is a vowel\")\n",
    "elif var == \"e\":\n",
    "    print(\"this ia e vowel \")\n",
    "elif var == \"o\":\n",
    "    print(\"this is o vowel\")\n",
    "else:\n",
    "    print(\"this is a constant\")"
   ]
  },
  {
   "cell_type": "code",
   "execution_count": null,
   "id": "167b3742",
   "metadata": {},
   "outputs": [],
   "source": []
  },
  {
   "cell_type": "markdown",
   "id": "58e2dd11",
   "metadata": {},
   "source": [
    "# nested If statement"
   ]
  },
  {
   "cell_type": "code",
   "execution_count": null,
   "id": "cb602fe0",
   "metadata": {},
   "outputs": [],
   "source": [
    "a = 50\n",
    "if a == 30:\n",
    "    if a < 50:\n",
    "        print(\"positive number\")\n",
    "    else:\n",
    "        print(\"equal to zero\")\n",
    "else:\n",
    "    print(\"negative number\")"
   ]
  },
  {
   "cell_type": "code",
   "execution_count": null,
   "id": "b4efe525",
   "metadata": {},
   "outputs": [],
   "source": [
    "year = 2016\n",
    "if year % 4 == 0:\n",
    "    if year % 100 == 0:\n",
    "        if year % 400 == 0:\n",
    "            print(\"True\")\n",
    "        else:\n",
    "            print (\"False\")\n",
    "    else:\n",
    "        print(\"True\")\n",
    "else:\n",
    "    print(\"True\")                "
   ]
  },
  {
   "cell_type": "code",
   "execution_count": null,
   "id": "2219878c",
   "metadata": {},
   "outputs": [],
   "source": [
    "year = 2003\n",
    "if year % 4 == 0:\n",
    "    if year % 100 == 0:\n",
    "        if year % 400 == 0:\n",
    "            print(\"True\")\n",
    "        else:\n",
    "            print(\"False\")\n",
    "    else:\n",
    "        print(\"True\")\n",
    "else:\n",
    "    print(\"False\")"
   ]
  },
  {
   "cell_type": "code",
   "execution_count": null,
   "id": "7cbb0589",
   "metadata": {},
   "outputs": [],
   "source": [
    "year = 2003\n",
    "if year % 4 == 0:\n",
    "    print(\"True\")\n",
    "elif year % 100 == 0:\n",
    "    print(\"False\")\n",
    "elif year % 400 == 0:\n",
    "    print(\"True\")\n",
    "else:\n",
    "    print(\"False\")"
   ]
  },
  {
   "cell_type": "code",
   "execution_count": null,
   "id": "beb4805d",
   "metadata": {},
   "outputs": [],
   "source": [
    "year = 2001\n",
    "if year % 4 != 0:\n",
    "    if year % 100 == 0:\n",
    "        if year % 400 == 0:\n",
    "            print(\"True\")\n",
    "        else:\n",
    "            print(\"False\")\n",
    "    else:\n",
    "        print(\"True\")\n",
    "else:\n",
    "    print(\"false\")"
   ]
  },
  {
   "cell_type": "code",
   "execution_count": null,
   "id": "66a9a943",
   "metadata": {},
   "outputs": [],
   "source": [
    "year = 2020\n",
    "if year % 4 == 0:\n",
    "    if year % 100 == 0:\n",
    "        if year % 400 == 0:\n",
    "            print(\"True\")\n",
    "        else:\n",
    "            print(\"False\")\n",
    "    else:\n",
    "        print(\"True\")\n",
    "else:\n",
    "    print(\"False\")"
   ]
  },
  {
   "cell_type": "code",
   "execution_count": null,
   "id": "2017aa97",
   "metadata": {},
   "outputs": [],
   "source": [
    "year = 2040\n",
    "if year % 4 == 0:\n",
    "    if year % 100 == 0:\n",
    "        if year % 400 == 0:\n",
    "            print(\"False\")\n",
    "        else:\n",
    "            print(\"True\")\n",
    "    else:\n",
    "        print(\"True\")\n",
    "else:\n",
    "    print(\"False\")"
   ]
  },
  {
   "cell_type": "markdown",
   "id": "d0eaff69",
   "metadata": {},
   "source": [
    "# Using Elif"
   ]
  },
  {
   "cell_type": "code",
   "execution_count": 10,
   "id": "ef24b3be",
   "metadata": {},
   "outputs": [
    {
     "name": "stdout",
     "output_type": "stream",
     "text": [
      "Enter the Year to be checked: 2000\n",
      " 2000s a leap year\n"
     ]
    }
   ],
   "source": [
    "input_year = int(input(\"Enter the Year to be checked: \"))\n",
    "\n",
    "if input_year % 400 == 0:\n",
    "    print(\"% is a leap year\"% input_year)\n",
    "elif input_year % 100 == 0:\n",
    "    print(\"% is not a leap year\"% input_year)\n",
    "elif input_year % 4 == 0:\n",
    "    print(\"% is a leap year\"% input_year)\n",
    "else:\n",
    "    print(\"% is not a leap year\" % input_year)\n",
    "    "
   ]
  },
  {
   "cell_type": "code",
   "execution_count": 12,
   "id": "92a5300f",
   "metadata": {},
   "outputs": [
    {
     "name": "stdout",
     "output_type": "stream",
     "text": [
      "Enter the Year to be checked: 2008\n",
      "2008 is Leap Year\n"
     ]
    }
   ],
   "source": [
    "input_year = int(input(\"Enter the Year to be checked: \"))\n",
    "if(input_year%4 == 0):\n",
    "    if(input_year%100 == 0):\n",
    "        if(input_year%400 == 0):\n",
    "            print(\"%d is Leap Year\" %input_year)\n",
    "        else:\n",
    "            print(\"%d is Not the Leap Year\" %input_year)\n",
    "    else:\n",
    "        print(\"%d is Leap Year\" %input_year)\n",
    "else:\n",
    "    print(\"%d is Not the Leap Year\" %input_year)"
   ]
  },
  {
   "cell_type": "code",
   "execution_count": 11,
   "id": "77fa6172",
   "metadata": {},
   "outputs": [
    {
     "name": "stdout",
     "output_type": "stream",
     "text": [
      "Enter the year :2009\n",
      "True\n"
     ]
    }
   ],
   "source": [
    "input_year = int(input(\"Enter the year :\"))\n",
    "\n",
    "if(input_year%4==0):\n",
    "    if(input_year%400==0):\n",
    "        if(input_year%100==0):\n",
    "            print(\"True\")\n",
    "        else:\n",
    "            print(\"False\")\n",
    "    else:\n",
    "        print(\"True\")\n",
    "else:\n",
    "    print(\"True\")"
   ]
  },
  {
   "cell_type": "code",
   "execution_count": 13,
   "id": "1b301f01",
   "metadata": {},
   "outputs": [
    {
     "name": "stdout",
     "output_type": "stream",
     "text": [
      "Enter the year :2008\n",
      "2008 is a leap year\n"
     ]
    }
   ],
   "source": [
    "input_year = int(input(\"Enter the year :\"))\n",
    "\n",
    "if(input_year%4==0):\n",
    "    if(input_year%400==0):\n",
    "        if(input_year%100==0):\n",
    "            print(\"%d is a leap year\"% input_year)\n",
    "        else:\n",
    "            print(\"%d is not a leap year\"% input_year)\n",
    "    else:\n",
    "        print(\"%d is a leap year\"% input_year)\n",
    "else:\n",
    "    print(\"%d is a leap year\"% input_year)"
   ]
  },
  {
   "cell_type": "code",
   "execution_count": 17,
   "id": "ce578c13",
   "metadata": {},
   "outputs": [
    {
     "name": "stdout",
     "output_type": "stream",
     "text": [
      "Enter the year :2000\n",
      "2000 is a leap year\n"
     ]
    }
   ],
   "source": [
    "input_year = int(input(\"Enter the year :\"))\n",
    "\n",
    "if(input_year%4==0):\n",
    "    if(input_year%400==0):\n",
    "        if(input_year%100==0):\n",
    "            print(\"%d is a leap year\"% input_year)\n",
    "        else:\n",
    "            print(\"%d is a leap year\"% input_year)\n",
    "    else:\n",
    "        print(\"%d is a leap year\"% input_year)\n",
    "else:\n",
    "    print(\"%d is not a leap year\"% input_year)"
   ]
  },
  {
   "cell_type": "markdown",
   "id": "988b78b2",
   "metadata": {},
   "source": [
    "# Using Conditional Statement"
   ]
  },
  {
   "cell_type": "code",
   "execution_count": null,
   "id": "94fd7128",
   "metadata": {},
   "outputs": [],
   "source": [
    "input_year = int(input(\"Enter the Year to be checked: \"))\n",
    "if (( input_year%400 == 0)or (( input_year%4 == 0 ) and ( input_year%100 != 0))):\n",
    "    print(\"%d is Leap Year\" %input_year)\n",
    "else:\n",
    "    print(\"%d is Not the Leap Year\" %input_year)"
   ]
  },
  {
   "cell_type": "markdown",
   "id": "16b2735b",
   "metadata": {},
   "source": [
    "# Using Function"
   ]
  },
  {
   "cell_type": "code",
   "execution_count": 18,
   "id": "58583468",
   "metadata": {},
   "outputs": [
    {
     "name": "stdout",
     "output_type": "stream",
     "text": [
      "Enter the Year to be checked: 1998\n",
      "Leap Year\n"
     ]
    }
   ],
   "source": [
    "def leapyearcheck(input_year):\n",
    "    if (input_year % 4) == 0:\n",
    "        if(input_year % 100) == 0:\n",
    "            if (input_year % 400) == 0:\n",
    "                return \"True\"\n",
    "            else:\n",
    "                return \"False\"\n",
    "        else:\n",
    "            return \"False\"\n",
    "    else:\n",
    "        return \"True\"\n",
    "input_year = int(input(\"Enter the Year to be checked: \"))\n",
    "if(leapyearcheck(input_year)): \n",
    "    print(\"Leap Year\") \n",
    "else: \n",
    "    print(\"Not a Leap Year\")   "
   ]
  },
  {
   "cell_type": "code",
   "execution_count": 19,
   "id": "44979bfc",
   "metadata": {},
   "outputs": [],
   "source": [
    "def LeapYearCheck(input_Year):\n",
    "    if(input_Year % 4) == 0:\n",
    "        if(input_Year % 100) == 0:\n",
    "            if(input_Year % 400) == 0:\n",
    "                print(\"False\")\n",
    "            else:\n",
    "                print(\"True\")\n",
    "        else:\n",
    "            print(\"True\")\n",
    "    else:\n",
    "        print(\"False\")"
   ]
  },
  {
   "cell_type": "code",
   "execution_count": 20,
   "id": "d4edb0fa",
   "metadata": {},
   "outputs": [
    {
     "name": "stdout",
     "output_type": "stream",
     "text": [
      "Enter the year check: 1976\n",
      "True\n",
      "Not Leap Year\n"
     ]
    }
   ],
   "source": [
    "input_Year = int(input(\"Enter the year check: \"))\n",
    "if(LeapYearCheck(input_Year)):\n",
    "    print(\"Leap Year\")\n",
    "else:\n",
    "    print(\"Not Leap Year\")"
   ]
  },
  {
   "cell_type": "markdown",
   "id": "5208cd5b",
   "metadata": {},
   "source": [
    "# Write a Python program to convert month name to a number of days.\n",
    "\n"
   ]
  },
  {
   "cell_type": "code",
   "execution_count": 21,
   "id": "67239a42",
   "metadata": {},
   "outputs": [
    {
     "name": "stdout",
     "output_type": "stream",
     "text": [
      "List of months: January, February, March, April, May, June, July, August, September, October, November, December\n",
      "Input the name of Month: March\n",
      "No. of days: 31 day\n"
     ]
    }
   ],
   "source": [
    "print(\"List of months: January, February, March, April, May, June, July, August, September, October, November, December\")\n",
    "month_name = input(\"Input the name of Month: \")\n",
    "\n",
    "if month_name == \"February\":\n",
    "    print(\"No. of days: 28/29 days\")\n",
    "elif month_name in (\"April\", \"June\", \"September\", \"November\"):\n",
    "    print(\"No. of days: 30 days\")\n",
    "elif month_name in (\"January\", \"March\", \"May\", \"July\", \"August\", \"October\", \"December\"):\n",
    "    print(\"No. of days: 31 day\")\n",
    "else:\n",
    "    print(\"Wrong month name\") "
   ]
  },
  {
   "cell_type": "code",
   "execution_count": 24,
   "id": "b2b52bc6",
   "metadata": {},
   "outputs": [
    {
     "name": "stdout",
     "output_type": "stream",
     "text": [
      "non int value rahul\n"
     ]
    }
   ],
   "source": [
    "marks = [10,40,50,\"rahul\"]\n",
    "for i in marks:\n",
    "    if type(i)!=int:\n",
    "        print(\"non int value\",i)"
   ]
  },
  {
   "cell_type": "code",
   "execution_count": 25,
   "id": "6194a1e5",
   "metadata": {},
   "outputs": [
    {
     "name": "stdout",
     "output_type": "stream",
     "text": [
      "non int value 10\n",
      "non int value 40\n",
      "non int value 50\n"
     ]
    }
   ],
   "source": [
    "marks = [10,40,50,\"rahul\"]\n",
    "for i in marks:\n",
    "    if type(i)==int:\n",
    "        print(\"non int value\",i)"
   ]
  },
  {
   "cell_type": "code",
   "execution_count": 28,
   "id": "5b7ad4d9",
   "metadata": {},
   "outputs": [
    {
     "name": "stdout",
     "output_type": "stream",
     "text": [
      "non int value =  10\n",
      "non int value =  40\n",
      "non int value =  50\n",
      "non int value =  rahul\n"
     ]
    }
   ],
   "source": [
    "marks = [10,40,50,\"rahul\"]\n",
    "for i in marks:\n",
    "    if i!=int:\n",
    "        print(\"non int value = \",i)"
   ]
  },
  {
   "cell_type": "code",
   "execution_count": 31,
   "id": "224bec88",
   "metadata": {},
   "outputs": [
    {
     "name": "stdout",
     "output_type": "stream",
     "text": [
      "non int value =  10\n",
      "non int value =  40\n",
      "non int value =  50\n"
     ]
    }
   ],
   "source": [
    "marks = [10,40,50,\"rahul\"]\n",
    "for i in marks:\n",
    "    if type(i)==int:\n",
    "        print(\"non int value = \",i)"
   ]
  },
  {
   "cell_type": "code",
   "execution_count": 32,
   "id": "f565b635",
   "metadata": {},
   "outputs": [
    {
     "name": "stdout",
     "output_type": "stream",
     "text": [
      "non int value =  rahul\n"
     ]
    }
   ],
   "source": [
    "marks = [10,40,50,\"rahul\"]\n",
    "for i in marks:\n",
    "    if type(i)!=int:\n",
    "        print(\"non int value = \",i)"
   ]
  },
  {
   "cell_type": "code",
   "execution_count": 33,
   "id": "533d262c",
   "metadata": {},
   "outputs": [
    {
     "name": "stdout",
     "output_type": "stream",
     "text": [
      "teenger 20\n",
      "teenger 40\n",
      "teenger 50\n",
      "teenger 70\n"
     ]
    }
   ],
   "source": [
    "ages = [20,40,50,70]\n",
    "for i in ages:\n",
    "    if i > 18:\n",
    "        print(\"teenger\",i)\n",
    "    else:\n",
    "        print(\"not teenger\",i)    "
   ]
  },
  {
   "cell_type": "code",
   "execution_count": 34,
   "id": "21608260",
   "metadata": {},
   "outputs": [
    {
     "name": "stdout",
     "output_type": "stream",
     "text": [
      "not teenger 20\n",
      "not teenger 40\n",
      "not teenger 50\n",
      "not teenger 70\n"
     ]
    }
   ],
   "source": [
    "ages = [20,40,50,70]\n",
    "for i in ages:\n",
    "    if i < 18:\n",
    "        print(\"teenger\",i)\n",
    "    else:\n",
    "        print(\"not teenger\",i)"
   ]
  },
  {
   "cell_type": "code",
   "execution_count": 35,
   "id": "9afca95f",
   "metadata": {},
   "outputs": [
    {
     "name": "stdout",
     "output_type": "stream",
     "text": [
      "not teenger 20\n",
      "not teenger 40\n",
      "not teenger 50\n",
      "not teenger 70\n"
     ]
    }
   ],
   "source": [
    "ages = [20,40,50,70]\n",
    "for i in ages:\n",
    "    if i == 18:\n",
    "        print(\"teenger\",i)\n",
    "    else:\n",
    "        print(\"not teenger\",i)"
   ]
  }
 ],
 "metadata": {
  "kernelspec": {
   "display_name": "Python 3 (ipykernel)",
   "language": "python",
   "name": "python3"
  },
  "language_info": {
   "codemirror_mode": {
    "name": "ipython",
    "version": 3
   },
   "file_extension": ".py",
   "mimetype": "text/x-python",
   "name": "python",
   "nbconvert_exporter": "python",
   "pygments_lexer": "ipython3",
   "version": "3.9.12"
  }
 },
 "nbformat": 4,
 "nbformat_minor": 5
}
