{
 "cells": [
  {
   "cell_type": "code",
   "execution_count": 1,
   "id": "9e1667d2",
   "metadata": {},
   "outputs": [
    {
     "name": "stdout",
     "output_type": "stream",
     "text": [
      "enter the number 11\n",
      "11\n",
      "22\n",
      "33\n",
      "44\n",
      "55\n",
      "66\n",
      "77\n",
      "88\n",
      "99\n",
      "110\n"
     ]
    }
   ],
   "source": [
    "number = int(input(\"enter the number \"))\n",
    "\n",
    "i = 1\n",
    "\n",
    "while i<11:\n",
    "    print(number*i)\n",
    "    i = i + 1"
   ]
  },
  {
   "cell_type": "code",
   "execution_count": 11,
   "id": "7a4f1e68",
   "metadata": {},
   "outputs": [
    {
     "name": "stdout",
     "output_type": "stream",
     "text": [
      "enter the number 14\n",
      "14\n",
      "28\n",
      "42\n",
      "56\n",
      "70\n",
      "84\n",
      "98\n",
      "112\n",
      "126\n",
      "140\n"
     ]
    }
   ],
   "source": [
    "number = int(input(\"enter the number \"))\n",
    "\n",
    "i = 1\n",
    "\n",
    "while i<11:\n",
    "    print(number*i)\n",
    "    i = i + 1"
   ]
  },
  {
   "cell_type": "code",
   "execution_count": 5,
   "id": "3744c076",
   "metadata": {},
   "outputs": [
    {
     "name": "stdout",
     "output_type": "stream",
     "text": [
      "3\n",
      "out  of loop \n"
     ]
    }
   ],
   "source": [
    "num = [3,4,5,6,7,8,9,4,5,6]\n",
    "\n",
    "count = 0\n",
    "\n",
    "while count < len(num):\n",
    "    print(num[count])\n",
    "    count = count + 1\n",
    "    if num[count] == 4:\n",
    "        break\n",
    "        \n",
    "print(\"out  of loop \")"
   ]
  },
  {
   "cell_type": "code",
   "execution_count": 7,
   "id": "2fbb0f8e",
   "metadata": {},
   "outputs": [
    {
     "name": "stdout",
     "output_type": "stream",
     "text": [
      "6\n",
      "8\n",
      "10\n",
      "12\n",
      "14\n",
      "16\n",
      "18\n",
      "8\n",
      "10\n",
      "12\n",
      "out  of loop \n"
     ]
    }
   ],
   "source": [
    "num = [3,4,5,6,7,8,9,4,5,6]\n",
    "\n",
    "count = 0\n",
    "\n",
    "while count < len(num):\n",
    "    print(num[count]*2)\n",
    "    count = count + 1\n",
    "        \n",
    "print(\"out  of loop \")"
   ]
  },
  {
   "cell_type": "code",
   "execution_count": 8,
   "id": "a474194b",
   "metadata": {},
   "outputs": [
    {
     "name": "stdout",
     "output_type": "stream",
     "text": [
      "6\n",
      "8\n",
      "10\n",
      "12\n",
      "14\n",
      "16\n",
      "18\n",
      "out  of loop \n"
     ]
    }
   ],
   "source": [
    "num = [3,4,5,6,7,8,9,4,5,6]\n",
    "\n",
    "count = 0\n",
    "\n",
    "while count < 7:\n",
    "    print(num[count]*2)\n",
    "    count = count + 1\n",
    "        \n",
    "print(\"out  of loop \")"
   ]
  },
  {
   "cell_type": "code",
   "execution_count": 10,
   "id": "81f8b477",
   "metadata": {},
   "outputs": [
    {
     "name": "stdout",
     "output_type": "stream",
     "text": [
      "12\n",
      "16\n",
      "out  of loop \n"
     ]
    }
   ],
   "source": [
    "num = [3,4,5,6,7,8,9,4,5,6]\n",
    "\n",
    "count = 0\n",
    "\n",
    "while count < 7:\n",
    "    print(num[count]*4)\n",
    "    count = count + 1\n",
    "    if num[count] == 5:\n",
    "        break\n",
    "        \n",
    "print(\"out  of loop \")"
   ]
  },
  {
   "cell_type": "code",
   "execution_count": 13,
   "id": "b0a411fd",
   "metadata": {},
   "outputs": [
    {
     "name": "stdout",
     "output_type": "stream",
     "text": [
      "enter the number 18\n",
      "18 * 1 = 18\n",
      "18 * 2 = 36\n",
      "18 * 3 = 54\n",
      "18 * 4 = 72\n",
      "18 * 5 = 90\n",
      "18 * 6 = 108\n",
      "18 * 7 = 126\n",
      "18 * 8 = 144\n",
      "18 * 9 = 162\n",
      "18 * 10 = 180\n"
     ]
    }
   ],
   "source": [
    "number = int(input(\"enter the number \"))\n",
    "\n",
    "i = 1\n",
    "\n",
    "while i<11:\n",
    "    print(number,\"*\",i,\"=\",number*i)\n",
    "    i = i + 1"
   ]
  }
 ],
 "metadata": {
  "kernelspec": {
   "display_name": "Python 3 (ipykernel)",
   "language": "python",
   "name": "python3"
  },
  "language_info": {
   "codemirror_mode": {
    "name": "ipython",
    "version": 3
   },
   "file_extension": ".py",
   "mimetype": "text/x-python",
   "name": "python",
   "nbconvert_exporter": "python",
   "pygments_lexer": "ipython3",
   "version": "3.9.12"
  }
 },
 "nbformat": 4,
 "nbformat_minor": 5
}
